{
 "cells": [
  {
   "cell_type": "code",
   "execution_count": 27,
   "id": "b1c8dc2c-75e9-47a3-aa5e-186750f5c6aa",
   "metadata": {},
   "outputs": [],
   "source": [
    "# library imports\n",
    "\n",
    "import praw\n",
    "from dotenv import load_dotenv\n",
    "import os\n",
    "import requests\n",
    "import pandas as pd\n",
    "from praw_functions import search_subreddit, get_comments "
   ]
  },
  {
   "cell_type": "markdown",
   "id": "db369718-76ee-48c1-9ead-f0091a698c5d",
   "metadata": {},
   "source": [
    "## This notebook contains code to grab data from reddit using an api query with the PRAW library\n",
    "\n",
    "You will need to have an account set up with the api and the associated keys."
   ]
  },
  {
   "cell_type": "code",
   "execution_count": 30,
   "id": "aa8a7525-0f26-4401-814a-c9815439cadd",
   "metadata": {},
   "outputs": [],
   "source": [
    "# this block will grab keys from your local environment \n",
    "\n",
    "load_dotenv()\n",
    "\n",
    "SECRET_KEY = os.getenv(\"SECRET_KEY\")\n",
    "CLIENT_ID = os.getenv(\"CLIENT_ID\")\n",
    "PASS = os.getenv(\"PASSWORD\")\n",
    "USER = os.getenv(\"USER\")"
   ]
  },
  {
   "cell_type": "markdown",
   "id": "c495edd2-870e-4974-ad46-b56248406dd9",
   "metadata": {},
   "source": [
    "### Get Reddit & Subreddit Instance"
   ]
  },
  {
   "cell_type": "code",
   "execution_count": 33,
   "id": "7978ca2d-e7df-46b5-99e3-b9892834315c",
   "metadata": {},
   "outputs": [
    {
     "data": {
      "text/plain": [
       "True"
      ]
     },
     "execution_count": 33,
     "metadata": {},
     "output_type": "execute_result"
    }
   ],
   "source": [
    "# Create read only instance of reddit\n",
    "\n",
    "reddit = praw.Reddit( \n",
    "    client_id=CLIENT_ID,\n",
    "    client_secret=SECRET_KEY,\n",
    "    user_agent=USER\n",
    ")\n",
    "\n",
    "reddit.read_only # check instance"
   ]
  },
  {
   "cell_type": "code",
   "execution_count": 35,
   "id": "b6553b40-982b-4496-a547-d3d2bd3bc399",
   "metadata": {},
   "outputs": [
    {
     "data": {
      "text/plain": [
       "Subreddit(display_name='DCforRent')"
      ]
     },
     "execution_count": 35,
     "metadata": {},
     "output_type": "execute_result"
    }
   ],
   "source": [
    "DCforRent = reddit.subreddit(\"DCforRent\") # get subreddit instance\n",
    "\n",
    "DCforRent"
   ]
  },
  {
   "cell_type": "markdown",
   "id": "6f527734-cb24-4d3d-bbbc-637bd0cbb530",
   "metadata": {},
   "source": [
    "### Create Query"
   ]
  },
  {
   "cell_type": "code",
   "execution_count": 113,
   "id": "8bb9724b-33c6-4978-80c0-0df4de36779b",
   "metadata": {},
   "outputs": [
    {
     "data": {
      "text/plain": [
       "'(\"Neighborhood\" OR \"Adams Morgan\" OR \"American University Park\" OR \"Anacostia\" OR \"Barnaby Woods\" OR \"Capitol Hill\" OR \"Columbia Heights\" OR \"Cleveland Park\" OR \"Dupont\" OR \"Foggy Bottom\" OR \"Friendship Heights\" OR \"Georgetown\" OR \"Glover Park\" OR \"H Street\" OR \"Logan Circle\" OR \"Mount Pleasant\" OR \"Navy Yard\" OR \"NoMa\" OR \"Petworth\" OR \"Shaw\" OR \"Southwest Waterfront\" OR \"Takoma\" OR \"Tenleytown\" OR \"The Palisades\" OR \"U Street\" OR \"West End\" OR \"Woodley Park\") AND (crime OR safe OR criminal OR safety)'"
      ]
     },
     "execution_count": 113,
     "metadata": {},
     "output_type": "execute_result"
    }
   ],
   "source": [
    "## Make the query for neighborhoods\n",
    "dc_neighborhoods = [\n",
    "    'Neighborhood', 'Adams Morgan', 'American University Park', 'Anacostia', 'Barnaby Woods', \n",
    "    'Capitol Hill', 'Columbia Heights', 'Cleveland Park', 'Dupont', \n",
    "    'Foggy Bottom', 'Friendship Heights', 'Georgetown', 'Glover Park', \n",
    "    'H Street', 'Logan Circle', 'Mount Pleasant', 'Navy Yard', \n",
    "    'NoMa', 'Petworth', 'Shaw', 'Southwest Waterfront', 'Takoma', \n",
    "    'Tenleytown', 'The Palisades', 'U Street', 'West End', 'Woodley Park']\n",
    "\n",
    "safety_words = [\n",
    "    'crime', 'safe', 'criminal', 'safety']\n",
    "\n",
    "neighborhood_query = \" OR \".join(f'\"{neighborhood}\"' for neighborhood in dc_neighborhoods)\n",
    "safety_query = \" OR \".join(safety_words)\n",
    "\n",
    "query = f\"({neighborhood_query}) AND ({safety_query})\"\n",
    "query"
   ]
  },
  {
   "cell_type": "markdown",
   "id": "de2d38cd-5c09-41c0-a4d8-b959e13fb94c",
   "metadata": {},
   "source": [
    "### Search Threads"
   ]
  },
  {
   "cell_type": "code",
   "execution_count": 124,
   "id": "1585d676-0c58-4240-828f-934a9ccf181d",
   "metadata": {},
   "outputs": [
    {
     "data": {
      "text/html": [
       "<div>\n",
       "<style scoped>\n",
       "    .dataframe tbody tr th:only-of-type {\n",
       "        vertical-align: middle;\n",
       "    }\n",
       "\n",
       "    .dataframe tbody tr th {\n",
       "        vertical-align: top;\n",
       "    }\n",
       "\n",
       "    .dataframe thead th {\n",
       "        text-align: right;\n",
       "    }\n",
       "</style>\n",
       "<table border=\"1\" class=\"dataframe\">\n",
       "  <thead>\n",
       "    <tr style=\"text-align: right;\">\n",
       "      <th></th>\n",
       "      <th>title</th>\n",
       "      <th>text</th>\n",
       "      <th>year</th>\n",
       "      <th>month</th>\n",
       "    </tr>\n",
       "    <tr>\n",
       "      <th>submission_id</th>\n",
       "      <th></th>\n",
       "      <th></th>\n",
       "      <th></th>\n",
       "      <th></th>\n",
       "    </tr>\n",
       "  </thead>\n",
       "  <tbody>\n",
       "    <tr>\n",
       "      <th>y57cbw</th>\n",
       "      <td>Best quiet, safe but lively neighborhood in DC</td>\n",
       "      <td>I am in my late 30s and haven't lived in DC si...</td>\n",
       "      <td>2022</td>\n",
       "      <td>10</td>\n",
       "    </tr>\n",
       "    <tr>\n",
       "      <th>utr8aw</th>\n",
       "      <td>What Neighborhoods in DC/Mayland Should Be Avo...</td>\n",
       "      <td></td>\n",
       "      <td>2022</td>\n",
       "      <td>05</td>\n",
       "    </tr>\n",
       "    <tr>\n",
       "      <th>32cqd6</th>\n",
       "      <td>Recommendations on safe neighborhoods for a yo...</td>\n",
       "      <td>I'm moving to DC from the South in a few weeks...</td>\n",
       "      <td>2015</td>\n",
       "      <td>04</td>\n",
       "    </tr>\n",
       "    <tr>\n",
       "      <th>20t3z6</th>\n",
       "      <td>Find out how safe the neighborhood you want to...</td>\n",
       "      <td></td>\n",
       "      <td>2014</td>\n",
       "      <td>03</td>\n",
       "    </tr>\n",
       "    <tr>\n",
       "      <th>1h3ldb4</th>\n",
       "      <td>1 Month of Free Rent in 770 SQFT. High Rise Ap...</td>\n",
       "      <td>Apartment Takeover Opportunity: Market House i...</td>\n",
       "      <td>2024</td>\n",
       "      <td>11</td>\n",
       "    </tr>\n",
       "  </tbody>\n",
       "</table>\n",
       "</div>"
      ],
      "text/plain": [
       "                                                           title  \\\n",
       "submission_id                                                      \n",
       "y57cbw            Best quiet, safe but lively neighborhood in DC   \n",
       "utr8aw         What Neighborhoods in DC/Mayland Should Be Avo...   \n",
       "32cqd6         Recommendations on safe neighborhoods for a yo...   \n",
       "20t3z6         Find out how safe the neighborhood you want to...   \n",
       "1h3ldb4        1 Month of Free Rent in 770 SQFT. High Rise Ap...   \n",
       "\n",
       "                                                            text  year month  \n",
       "submission_id                                                                 \n",
       "y57cbw         I am in my late 30s and haven't lived in DC si...  2022    10  \n",
       "utr8aw                                                            2022    05  \n",
       "32cqd6         I'm moving to DC from the South in a few weeks...  2015    04  \n",
       "20t3z6                                                            2014    03  \n",
       "1h3ldb4        Apartment Takeover Opportunity: Market House i...  2024    11  "
      ]
     },
     "execution_count": 124,
     "metadata": {},
     "output_type": "execute_result"
    }
   ],
   "source": [
    "threads_DCforRent_df = search_subreddit(DCforRent, query, 500)\n",
    "\n",
    "threads_DCforRent_df.head()"
   ]
  },
  {
   "cell_type": "markdown",
   "id": "f1a3c97b-0891-4ba3-8999-b646945511f3",
   "metadata": {},
   "source": [
    "### Grab Comments"
   ]
  },
  {
   "cell_type": "code",
   "execution_count": 126,
   "id": "b4ea218d-ca06-42ce-80e6-d3b46bdaa11f",
   "metadata": {},
   "outputs": [
    {
     "data": {
      "text/html": [
       "<div>\n",
       "<style scoped>\n",
       "    .dataframe tbody tr th:only-of-type {\n",
       "        vertical-align: middle;\n",
       "    }\n",
       "\n",
       "    .dataframe tbody tr th {\n",
       "        vertical-align: top;\n",
       "    }\n",
       "\n",
       "    .dataframe thead th {\n",
       "        text-align: right;\n",
       "    }\n",
       "</style>\n",
       "<table border=\"1\" class=\"dataframe\">\n",
       "  <thead>\n",
       "    <tr style=\"text-align: right;\">\n",
       "      <th></th>\n",
       "      <th>submission_id</th>\n",
       "      <th>author</th>\n",
       "      <th>body</th>\n",
       "      <th>score</th>\n",
       "      <th>year</th>\n",
       "      <th>month</th>\n",
       "    </tr>\n",
       "  </thead>\n",
       "  <tbody>\n",
       "    <tr>\n",
       "      <th>0</th>\n",
       "      <td>y57cbw</td>\n",
       "      <td>eeek0711</td>\n",
       "      <td>Or Cleveland Park in DC</td>\n",
       "      <td>4</td>\n",
       "      <td>2022</td>\n",
       "      <td>10</td>\n",
       "    </tr>\n",
       "    <tr>\n",
       "      <th>1</th>\n",
       "      <td>y57cbw</td>\n",
       "      <td>eeek0711</td>\n",
       "      <td>Takoma Park MD</td>\n",
       "      <td>3</td>\n",
       "      <td>2022</td>\n",
       "      <td>10</td>\n",
       "    </tr>\n",
       "    <tr>\n",
       "      <th>2</th>\n",
       "      <td>y57cbw</td>\n",
       "      <td>nonmimeticform</td>\n",
       "      <td>Baltimore</td>\n",
       "      <td>3</td>\n",
       "      <td>2022</td>\n",
       "      <td>10</td>\n",
       "    </tr>\n",
       "    <tr>\n",
       "      <th>3</th>\n",
       "      <td>y57cbw</td>\n",
       "      <td>dcgirlsmallworld</td>\n",
       "      <td>If you are looking for a quiet neighborhood wi...</td>\n",
       "      <td>3</td>\n",
       "      <td>2022</td>\n",
       "      <td>10</td>\n",
       "    </tr>\n",
       "    <tr>\n",
       "      <th>4</th>\n",
       "      <td>y57cbw</td>\n",
       "      <td>eeek0711</td>\n",
       "      <td>I lived in the DeLano Apartments in Woodley Pa...</td>\n",
       "      <td>2</td>\n",
       "      <td>2022</td>\n",
       "      <td>10</td>\n",
       "    </tr>\n",
       "  </tbody>\n",
       "</table>\n",
       "</div>"
      ],
      "text/plain": [
       "  submission_id            author  \\\n",
       "0        y57cbw          eeek0711   \n",
       "1        y57cbw          eeek0711   \n",
       "2        y57cbw    nonmimeticform   \n",
       "3        y57cbw  dcgirlsmallworld   \n",
       "4        y57cbw          eeek0711   \n",
       "\n",
       "                                                body  score  year month  \n",
       "0                            Or Cleveland Park in DC      4  2022    10  \n",
       "1                                     Takoma Park MD      3  2022    10  \n",
       "2                                          Baltimore      3  2022    10  \n",
       "3  If you are looking for a quiet neighborhood wi...      3  2022    10  \n",
       "4  I lived in the DeLano Apartments in Woodley Pa...      2  2022    10  "
      ]
     },
     "execution_count": 126,
     "metadata": {},
     "output_type": "execute_result"
    }
   ],
   "source": [
    "comments_DCforRent_df = get_comments(list(threads_DCforRent_df.index), reddit)\n",
    "\n",
    "comments_DCforRent_df.head()"
   ]
  },
  {
   "cell_type": "markdown",
   "id": "f2b492b7-759f-4b97-a28c-ddf564b6f5af",
   "metadata": {},
   "source": [
    "### Save Data"
   ]
  },
  {
   "cell_type": "code",
   "execution_count": 128,
   "id": "eafb49de-9aa1-4f11-a2e2-e51f5c23456d",
   "metadata": {},
   "outputs": [],
   "source": [
    "file_name='_12_4' # EDIT ME - for file name "
   ]
  },
  {
   "cell_type": "code",
   "execution_count": 130,
   "id": "cfe695cd-f325-4d76-8c00-b40f7df4d8b5",
   "metadata": {},
   "outputs": [],
   "source": [
    "# run this block to save to repo data folder\n",
    "threads_DCforRent_df.to_csv(\"./data/\"+file_name+\"_threads_DCforRent_df.csv\")\n",
    "comments_DCforRent_df.to_csv(\"./data/\"+file_name+\"_comments_DCforRent_df.csv\")"
   ]
  },
  {
   "cell_type": "code",
   "execution_count": null,
   "id": "5e6e460c-53f6-444f-a386-89e14562bd2a",
   "metadata": {},
   "outputs": [],
   "source": []
  }
 ],
 "metadata": {
  "kernelspec": {
   "display_name": "Python 3 (ipykernel)",
   "language": "python",
   "name": "python3"
  },
  "language_info": {
   "codemirror_mode": {
    "name": "ipython",
    "version": 3
   },
   "file_extension": ".py",
   "mimetype": "text/x-python",
   "name": "python",
   "nbconvert_exporter": "python",
   "pygments_lexer": "ipython3",
   "version": "3.12.4"
  }
 },
 "nbformat": 4,
 "nbformat_minor": 5
}
