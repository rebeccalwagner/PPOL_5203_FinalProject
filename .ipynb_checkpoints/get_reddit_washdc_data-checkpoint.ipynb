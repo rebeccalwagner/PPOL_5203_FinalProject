{
 "cells": [
  {
   "cell_type": "code",
   "execution_count": 1,
   "id": "00c3b29e-f318-4e97-8051-90adb9de54b3",
   "metadata": {},
   "outputs": [],
   "source": [
    "# library imports\n",
    "\n",
    "import praw\n",
    "from dotenv import load_dotenv\n",
    "import os\n",
    "import requests\n",
    "import pandas as pd\n",
    "from praw_functions import search_subreddit, get_comments "
   ]
  },
  {
   "cell_type": "markdown",
   "id": "0b08e775-1852-4a45-a57c-4e6f54581822",
   "metadata": {},
   "source": [
    "## This notebook contains code to grab data from reddit using an api query with the PRAW library\n",
    "\n",
    "You will need to have an account set up with the api and the associated keys."
   ]
  },
  {
   "cell_type": "code",
   "execution_count": 4,
   "id": "89923c68-f097-4ff2-94c6-11400bd6fdec",
   "metadata": {},
   "outputs": [],
   "source": [
    "# this block will grab keys from your local environment \n",
    "\n",
    "load_dotenv()\n",
    "\n",
    "SECRET_KEY = os.getenv(\"SECRET_KEY\")\n",
    "CLIENT_ID = os.getenv(\"CLIENT_ID\")\n",
    "PASS = os.getenv(\"PASSWORD\")\n",
    "USER = os.getenv(\"USER\")"
   ]
  },
  {
   "cell_type": "markdown",
   "id": "16b7ca8f-d06d-423e-ab87-df4cbde20c09",
   "metadata": {},
   "source": [
    "### Get Reddit & Subreddit Instance"
   ]
  },
  {
   "cell_type": "code",
   "execution_count": 7,
   "id": "83d66d9b-9dde-4af8-a8a0-9ccf2bc904ee",
   "metadata": {},
   "outputs": [
    {
     "data": {
      "text/plain": [
       "True"
      ]
     },
     "execution_count": 7,
     "metadata": {},
     "output_type": "execute_result"
    }
   ],
   "source": [
    "# Create read only instance of reddit\n",
    "\n",
    "reddit = praw.Reddit( \n",
    "    client_id=CLIENT_ID,\n",
    "    client_secret=SECRET_KEY,\n",
    "    user_agent=USER\n",
    ")\n",
    "\n",
    "reddit.read_only # check instance"
   ]
  },
  {
   "cell_type": "code",
   "execution_count": 9,
   "id": "bd1b759e-6a45-4c9c-b4f2-201db6ea1dbd",
   "metadata": {},
   "outputs": [
    {
     "data": {
      "text/plain": [
       "Subreddit(display_name='washdc')"
      ]
     },
     "execution_count": 9,
     "metadata": {},
     "output_type": "execute_result"
    }
   ],
   "source": [
    "washdc = reddit.subreddit(\"washdc\") # get subreddit instance\n",
    "\n",
    "washdc"
   ]
  },
  {
   "cell_type": "markdown",
   "id": "33f0b228-34fe-4ad1-ba3e-5e6a0d9a154a",
   "metadata": {},
   "source": [
    "### Create Query"
   ]
  },
  {
   "cell_type": "code",
   "execution_count": 75,
   "id": "ec9dc1c4-74af-451a-a109-4ff29c3a535a",
   "metadata": {},
   "outputs": [
    {
     "data": {
      "text/plain": [
       "'(\"Neighborhood\" OR \"Adams Morgan\" OR \"American University Park\" OR \"Anacostia\" OR \"Barnaby Woods\" OR \"Capitol Hill\" OR \"Columbia Heights\" OR \"Cleveland Park\" OR \"Dupont\" OR \"Foggy Bottom\" OR \"Friendship Heights\" OR \"Georgetown\" OR \"Glover Park\" OR \"H Street\" OR \"Logan Circle\" OR \"Mount Pleasant\" OR \"Navy Yard\" OR \"NoMa\" OR \"Petworth\" OR \"Shaw\" OR \"Southwest Waterfront\" OR \"Takoma\" OR \"Tenleytown\" OR \"The Palisades\" OR \"U Street\" OR \"West End\" OR \"Woodley Park\") AND (crime OR safe OR criminal OR safety)'"
      ]
     },
     "execution_count": 75,
     "metadata": {},
     "output_type": "execute_result"
    }
   ],
   "source": [
    "## Make the query for neighborhoods\n",
    "dc_neighborhoods = [\n",
    "    'Neighborhood', 'Adams Morgan', 'American University Park', 'Anacostia', 'Barnaby Woods', \n",
    "    'Capitol Hill', 'Columbia Heights', 'Cleveland Park', 'Dupont', \n",
    "    'Foggy Bottom', 'Friendship Heights', 'Georgetown', 'Glover Park', \n",
    "    'H Street', 'Logan Circle', 'Mount Pleasant', 'Navy Yard', \n",
    "    'NoMa', 'Petworth', 'Shaw', 'Southwest Waterfront', 'Takoma', \n",
    "    'Tenleytown', 'The Palisades', 'U Street', 'West End', 'Woodley Park']\n",
    "\n",
    "safety_words = [\n",
    "    'crime', 'safe', 'criminal', 'safety']\n",
    "\n",
    "neighborhood_query = \" OR \".join(f'\"{neighborhood}\"' for neighborhood in dc_neighborhoods)\n",
    "safety_query = \" OR \".join(safety_words)\n",
    "\n",
    "query = f\"({neighborhood_query}) AND ({safety_query})\"\n",
    "query"
   ]
  },
  {
   "cell_type": "markdown",
   "id": "ed4ca669-aaf4-4a29-976e-90f8c85ed5de",
   "metadata": {},
   "source": [
    "### Search Threads"
   ]
  },
  {
   "cell_type": "code",
   "execution_count": 80,
   "id": "8aa9de30-2ab6-486c-abb7-5b8d7da58d67",
   "metadata": {
    "scrolled": true
   },
   "outputs": [
    {
     "data": {
      "text/html": [
       "<div>\n",
       "<style scoped>\n",
       "    .dataframe tbody tr th:only-of-type {\n",
       "        vertical-align: middle;\n",
       "    }\n",
       "\n",
       "    .dataframe tbody tr th {\n",
       "        vertical-align: top;\n",
       "    }\n",
       "\n",
       "    .dataframe thead th {\n",
       "        text-align: right;\n",
       "    }\n",
       "</style>\n",
       "<table border=\"1\" class=\"dataframe\">\n",
       "  <thead>\n",
       "    <tr style=\"text-align: right;\">\n",
       "      <th></th>\n",
       "      <th>title</th>\n",
       "      <th>text</th>\n",
       "      <th>year</th>\n",
       "      <th>month</th>\n",
       "    </tr>\n",
       "    <tr>\n",
       "      <th>submission_id</th>\n",
       "      <th></th>\n",
       "      <th></th>\n",
       "      <th></th>\n",
       "      <th></th>\n",
       "    </tr>\n",
       "  </thead>\n",
       "  <tbody>\n",
       "    <tr>\n",
       "      <th>1h2wunn</th>\n",
       "      <td>Why are criminals and violent teens allowed to...</td>\n",
       "      <td></td>\n",
       "      <td>2024</td>\n",
       "      <td>11</td>\n",
       "    </tr>\n",
       "    <tr>\n",
       "      <th>1gghbb2</th>\n",
       "      <td>Mob attack on U Street investigated as hate crime</td>\n",
       "      <td></td>\n",
       "      <td>2024</td>\n",
       "      <td>10</td>\n",
       "    </tr>\n",
       "    <tr>\n",
       "      <th>1go926g</th>\n",
       "      <td>Criminals have all out brawl on typical night ...</td>\n",
       "      <td></td>\n",
       "      <td>2024</td>\n",
       "      <td>11</td>\n",
       "    </tr>\n",
       "    <tr>\n",
       "      <th>1ce7smd</th>\n",
       "      <td>Fatal shooting on U Street: this is what happe...</td>\n",
       "      <td></td>\n",
       "      <td>2024</td>\n",
       "      <td>04</td>\n",
       "    </tr>\n",
       "    <tr>\n",
       "      <th>1e5y4pe</th>\n",
       "      <td>Assault in DC's Foggy Bottom area investigated...</td>\n",
       "      <td></td>\n",
       "      <td>2024</td>\n",
       "      <td>07</td>\n",
       "    </tr>\n",
       "  </tbody>\n",
       "</table>\n",
       "</div>"
      ],
      "text/plain": [
       "                                                           title text  year  \\\n",
       "submission_id                                                                 \n",
       "1h2wunn        Why are criminals and violent teens allowed to...       2024   \n",
       "1gghbb2        Mob attack on U Street investigated as hate crime       2024   \n",
       "1go926g        Criminals have all out brawl on typical night ...       2024   \n",
       "1ce7smd        Fatal shooting on U Street: this is what happe...       2024   \n",
       "1e5y4pe        Assault in DC's Foggy Bottom area investigated...       2024   \n",
       "\n",
       "              month  \n",
       "submission_id        \n",
       "1h2wunn          11  \n",
       "1gghbb2          10  \n",
       "1go926g          11  \n",
       "1ce7smd          04  \n",
       "1e5y4pe          07  "
      ]
     },
     "execution_count": 80,
     "metadata": {},
     "output_type": "execute_result"
    }
   ],
   "source": [
    "threads_washdc_df = search_subreddit(washdc, query, 500)\n",
    "threads_washdc_df.head()"
   ]
  },
  {
   "cell_type": "markdown",
   "id": "5707747d-d120-463d-89a5-ef96b9c2de7d",
   "metadata": {},
   "source": [
    "### Grab Comments"
   ]
  },
  {
   "cell_type": "code",
   "execution_count": 82,
   "id": "32080d8b-69b8-4c7a-a5b1-b7f4d699b8dd",
   "metadata": {},
   "outputs": [
    {
     "data": {
      "text/html": [
       "<div>\n",
       "<style scoped>\n",
       "    .dataframe tbody tr th:only-of-type {\n",
       "        vertical-align: middle;\n",
       "    }\n",
       "\n",
       "    .dataframe tbody tr th {\n",
       "        vertical-align: top;\n",
       "    }\n",
       "\n",
       "    .dataframe thead th {\n",
       "        text-align: right;\n",
       "    }\n",
       "</style>\n",
       "<table border=\"1\" class=\"dataframe\">\n",
       "  <thead>\n",
       "    <tr style=\"text-align: right;\">\n",
       "      <th></th>\n",
       "      <th>submission_id</th>\n",
       "      <th>author</th>\n",
       "      <th>body</th>\n",
       "      <th>score</th>\n",
       "      <th>year</th>\n",
       "      <th>month</th>\n",
       "    </tr>\n",
       "  </thead>\n",
       "  <tbody>\n",
       "    <tr>\n",
       "      <th>0</th>\n",
       "      <td>1h2wunn</td>\n",
       "      <td>borg359</td>\n",
       "      <td>“There’s nothing we can do to stop this” says ...</td>\n",
       "      <td>301</td>\n",
       "      <td>2024</td>\n",
       "      <td>11</td>\n",
       "    </tr>\n",
       "    <tr>\n",
       "      <th>1</th>\n",
       "      <td>1h2wunn</td>\n",
       "      <td>SpaceGhost2009</td>\n",
       "      <td>I saw a 14-16 year old kid outside of the Walg...</td>\n",
       "      <td>254</td>\n",
       "      <td>2024</td>\n",
       "      <td>11</td>\n",
       "    </tr>\n",
       "    <tr>\n",
       "      <th>2</th>\n",
       "      <td>1h2wunn</td>\n",
       "      <td>haroldhecuba88</td>\n",
       "      <td>Because the judicial system considers them vic...</td>\n",
       "      <td>515</td>\n",
       "      <td>2024</td>\n",
       "      <td>11</td>\n",
       "    </tr>\n",
       "    <tr>\n",
       "      <th>3</th>\n",
       "      <td>1h2wunn</td>\n",
       "      <td>BusinessPublic2577</td>\n",
       "      <td>The Mayor cares nothing for the U Street corri...</td>\n",
       "      <td>30</td>\n",
       "      <td>2024</td>\n",
       "      <td>11</td>\n",
       "    </tr>\n",
       "    <tr>\n",
       "      <th>4</th>\n",
       "      <td>1h2wunn</td>\n",
       "      <td>cluehq</td>\n",
       "      <td>DC Residents continue to elect a government th...</td>\n",
       "      <td>80</td>\n",
       "      <td>2024</td>\n",
       "      <td>11</td>\n",
       "    </tr>\n",
       "  </tbody>\n",
       "</table>\n",
       "</div>"
      ],
      "text/plain": [
       "  submission_id              author  \\\n",
       "0       1h2wunn             borg359   \n",
       "1       1h2wunn      SpaceGhost2009   \n",
       "2       1h2wunn      haroldhecuba88   \n",
       "3       1h2wunn  BusinessPublic2577   \n",
       "4       1h2wunn              cluehq   \n",
       "\n",
       "                                                body  score  year month  \n",
       "0  “There’s nothing we can do to stop this” says ...    301  2024    11  \n",
       "1  I saw a 14-16 year old kid outside of the Walg...    254  2024    11  \n",
       "2  Because the judicial system considers them vic...    515  2024    11  \n",
       "3  The Mayor cares nothing for the U Street corri...     30  2024    11  \n",
       "4  DC Residents continue to elect a government th...     80  2024    11  "
      ]
     },
     "execution_count": 82,
     "metadata": {},
     "output_type": "execute_result"
    }
   ],
   "source": [
    "comments_washdc_df = get_comments(list(threads_washdc_df.index), reddit)\n",
    "\n",
    "comments_washdc_df.head()"
   ]
  },
  {
   "cell_type": "markdown",
   "id": "5e87a6e2-705d-4d1d-8375-0e61c25c41be",
   "metadata": {},
   "source": [
    "### Save Data"
   ]
  },
  {
   "cell_type": "code",
   "execution_count": 84,
   "id": "1c6cd437-e0c1-48b5-81da-f5b9a7e0d306",
   "metadata": {},
   "outputs": [],
   "source": [
    "file_name='_12_4' # EDIT ME - for file name "
   ]
  },
  {
   "cell_type": "code",
   "execution_count": 86,
   "id": "49858e31-9b12-4ac5-89e0-facc658c741c",
   "metadata": {},
   "outputs": [],
   "source": [
    "# run this block to save to repo data folder\n",
    "threads_washdc_df.to_csv(\"./data/\"+file_name+\"_threads_washdc_df.csv\")\n",
    "comments_washdc_df.to_csv(\"./data/\"+file_name+\"_comments_washdc_df.csv\")"
   ]
  },
  {
   "cell_type": "code",
   "execution_count": null,
   "id": "1bfe2832-eead-402f-ac06-1a5ff77049e8",
   "metadata": {},
   "outputs": [],
   "source": []
  }
 ],
 "metadata": {
  "kernelspec": {
   "display_name": "Python 3 (ipykernel)",
   "language": "python",
   "name": "python3"
  },
  "language_info": {
   "codemirror_mode": {
    "name": "ipython",
    "version": 3
   },
   "file_extension": ".py",
   "mimetype": "text/x-python",
   "name": "python",
   "nbconvert_exporter": "python",
   "pygments_lexer": "ipython3",
   "version": "3.12.4"
  }
 },
 "nbformat": 4,
 "nbformat_minor": 5
}
