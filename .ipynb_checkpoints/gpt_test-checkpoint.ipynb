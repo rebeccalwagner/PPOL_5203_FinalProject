{
 "cells": [
  {
   "cell_type": "markdown",
   "id": "551e2415-22aa-4caf-b22a-c82bf104d668",
   "metadata": {},
   "source": [
    "### Use Chat GPT to engineer sentiment on Reddit data"
   ]
  },
  {
   "cell_type": "code",
   "execution_count": 9,
   "id": "c83f4a35-3e63-40df-b134-5d0164abdebc",
   "metadata": {},
   "outputs": [],
   "source": [
    "# load api key\n",
    "# load library to get environmental files\n",
    "import os\n",
    "from dotenv import load_dotenv\n",
    "\n",
    "\n",
    "# load keys from  environmental var\n",
    "load_dotenv() # .env file in cwd\n",
    "gpt_key = os.environ.get(\"gpt_key\") "
   ]
  },
  {
   "cell_type": "code",
   "execution_count": 11,
   "id": "2f7195e4-0617-42f4-a39a-4db252823de3",
   "metadata": {},
   "outputs": [],
   "source": [
    "import requests \n",
    "import pandas as pd\n",
    "import numpy as np"
   ]
  },
  {
   "cell_type": "code",
   "execution_count": 13,
   "id": "b798bd8f-ac60-4f83-9f14-32d7daf14f94",
   "metadata": {},
   "outputs": [],
   "source": [
    "## function to query a response from Chat GPT\n",
    "def ask_chat(question, api_key):\n",
    "    # define headers\n",
    "    headers = {\n",
    "        \"Authorization\": f\"Bearer {gpt_key}\",\n",
    "        \"Content-Type\": \"application/json\",\n",
    "    }\n",
    "\n",
    "    info = {\n",
    "     \"model\": \"gpt-4o-mini\",\n",
    "     \"messages\": [{\"role\": \"user\", \"content\": question}],\n",
    "     \"temperature\": 0\n",
    "    }\n",
    "    ##Get the response\n",
    "    response = requests.post('https://api.openai.com/v1/chat/completions', headers = headers, json = info)\n",
    "    ##Convert to json\n",
    "    response_json = response.json()\n",
    "    return response_json['choices'][0]['message']['content'].strip()\n",
    "    "
   ]
  },
  {
   "cell_type": "code",
   "execution_count": 15,
   "id": "ea72c671-e970-4a09-9713-5ad2ee7525d3",
   "metadata": {},
   "outputs": [
    {
     "data": {
      "text/html": [
       "<div>\n",
       "<style scoped>\n",
       "    .dataframe tbody tr th:only-of-type {\n",
       "        vertical-align: middle;\n",
       "    }\n",
       "\n",
       "    .dataframe tbody tr th {\n",
       "        vertical-align: top;\n",
       "    }\n",
       "\n",
       "    .dataframe thead th {\n",
       "        text-align: right;\n",
       "    }\n",
       "</style>\n",
       "<table border=\"1\" class=\"dataframe\">\n",
       "  <thead>\n",
       "    <tr style=\"text-align: right;\">\n",
       "      <th></th>\n",
       "      <th>Unnamed: 0.1</th>\n",
       "      <th>Unnamed: 0</th>\n",
       "      <th>comment_id</th>\n",
       "      <th>submission_id</th>\n",
       "      <th>author</th>\n",
       "      <th>body</th>\n",
       "      <th>score</th>\n",
       "      <th>year</th>\n",
       "      <th>month</th>\n",
       "      <th>safety_code</th>\n",
       "    </tr>\n",
       "  </thead>\n",
       "  <tbody>\n",
       "    <tr>\n",
       "      <th>0</th>\n",
       "      <td>0</td>\n",
       "      <td>0</td>\n",
       "      <td>isl1dig</td>\n",
       "      <td>y57cbw</td>\n",
       "      <td>eeek0711</td>\n",
       "      <td>Takoma Park MD</td>\n",
       "      <td>3</td>\n",
       "      <td>2022</td>\n",
       "      <td>10</td>\n",
       "      <td>0</td>\n",
       "    </tr>\n",
       "    <tr>\n",
       "      <th>1</th>\n",
       "      <td>1</td>\n",
       "      <td>1</td>\n",
       "      <td>i9cnmct</td>\n",
       "      <td>utr8aw</td>\n",
       "      <td>dans_cafe</td>\n",
       "      <td>Generally speaking, robberies and muggings are...</td>\n",
       "      <td>1</td>\n",
       "      <td>2022</td>\n",
       "      <td>5</td>\n",
       "      <td>1</td>\n",
       "    </tr>\n",
       "    <tr>\n",
       "      <th>2</th>\n",
       "      <td>2</td>\n",
       "      <td>2</td>\n",
       "      <td>i9csov5</td>\n",
       "      <td>utr8aw</td>\n",
       "      <td>Ok_Priority_1534</td>\n",
       "      <td>Downtown/Central DC.\\n\\nAs I'm looking at diff...</td>\n",
       "      <td>1</td>\n",
       "      <td>2022</td>\n",
       "      <td>5</td>\n",
       "      <td>1</td>\n",
       "    </tr>\n",
       "    <tr>\n",
       "      <th>3</th>\n",
       "      <td>3</td>\n",
       "      <td>3</td>\n",
       "      <td>k7632z8</td>\n",
       "      <td>17ed6rg</td>\n",
       "      <td>Musictravels23</td>\n",
       "      <td>Hey there!! I have a fuIIy furnished sunny spa...</td>\n",
       "      <td>1</td>\n",
       "      <td>2023</td>\n",
       "      <td>10</td>\n",
       "      <td>0</td>\n",
       "    </tr>\n",
       "    <tr>\n",
       "      <th>4</th>\n",
       "      <td>4</td>\n",
       "      <td>4</td>\n",
       "      <td>io5bcjq</td>\n",
       "      <td>xciciq</td>\n",
       "      <td>cheesyuser</td>\n",
       "      <td>Thats a difficult ask. The 2000 range may be d...</td>\n",
       "      <td>2</td>\n",
       "      <td>2022</td>\n",
       "      <td>9</td>\n",
       "      <td>0</td>\n",
       "    </tr>\n",
       "  </tbody>\n",
       "</table>\n",
       "</div>"
      ],
      "text/plain": [
       "   Unnamed: 0.1  Unnamed: 0 comment_id submission_id            author  \\\n",
       "0             0           0    isl1dig        y57cbw          eeek0711   \n",
       "1             1           1    i9cnmct        utr8aw         dans_cafe   \n",
       "2             2           2    i9csov5        utr8aw  Ok_Priority_1534   \n",
       "3             3           3    k7632z8       17ed6rg    Musictravels23   \n",
       "4             4           4    io5bcjq        xciciq        cheesyuser   \n",
       "\n",
       "                                                body  score  year  month  \\\n",
       "0                                     Takoma Park MD      3  2022     10   \n",
       "1  Generally speaking, robberies and muggings are...      1  2022      5   \n",
       "2  Downtown/Central DC.\\n\\nAs I'm looking at diff...      1  2022      5   \n",
       "3  Hey there!! I have a fuIIy furnished sunny spa...      1  2023     10   \n",
       "4  Thats a difficult ask. The 2000 range may be d...      2  2022      9   \n",
       "\n",
       "   safety_code  \n",
       "0            0  \n",
       "1            1  \n",
       "2            1  \n",
       "3            0  \n",
       "4            0  "
      ]
     },
     "execution_count": 15,
     "metadata": {},
     "output_type": "execute_result"
    }
   ],
   "source": [
    "##open coded csv file\n",
    "test_data = pd.read_csv(\"./data/reddit/coded_comment_test_set_12_6.csv\")\n",
    "test_data.head()"
   ]
  },
  {
   "cell_type": "code",
   "execution_count": 33,
   "id": "c953c354-d14e-467c-86c0-ce79f67db3aa",
   "metadata": {},
   "outputs": [],
   "source": [
    "import time\n",
    "##loop through the coded data to test gpt's accuracy with prompt\n",
    "answer = []\n",
    "for j in range(len(test_data)):\n",
    "    try:\n",
    "        base_question = \"Is this text about neighborhood safety in DC? \\\n",
    "        Answer only with a number: 1 if about safety in DC, 0 if not. \\\n",
    "        Here is the text: \"\n",
    "        text = test_data.loc[j, \"body\"]\n",
    "        full_question = base_question + str(text)\n",
    "        answer.append(ask_chat(full_question, gpt_key))\n",
    "        time.sleep(1)\n",
    "    except:\n",
    "        output.append(np.nan)\n",
    "    "
   ]
  },
  {
   "cell_type": "code",
   "execution_count": 35,
   "id": "8ab6de2a-289f-4b6b-baf9-ad91e62ac843",
   "metadata": {},
   "outputs": [
    {
     "data": {
      "text/plain": [
       "'1'"
      ]
     },
     "execution_count": 35,
     "metadata": {},
     "output_type": "execute_result"
    }
   ],
   "source": [
    "answer[2]"
   ]
  },
  {
   "cell_type": "code",
   "execution_count": 37,
   "id": "9c56d2cb-fff6-4e85-9f38-d938f286d91d",
   "metadata": {},
   "outputs": [],
   "source": [
    "test_data['gpt_score'] = pd.to_numeric(answer)"
   ]
  },
  {
   "cell_type": "code",
   "execution_count": 39,
   "id": "f3e4ad35-7f02-4bd4-91a8-eb38a95dd70f",
   "metadata": {},
   "outputs": [
    {
     "data": {
      "text/html": [
       "<div>\n",
       "<style scoped>\n",
       "    .dataframe tbody tr th:only-of-type {\n",
       "        vertical-align: middle;\n",
       "    }\n",
       "\n",
       "    .dataframe tbody tr th {\n",
       "        vertical-align: top;\n",
       "    }\n",
       "\n",
       "    .dataframe thead th {\n",
       "        text-align: right;\n",
       "    }\n",
       "</style>\n",
       "<table border=\"1\" class=\"dataframe\">\n",
       "  <thead>\n",
       "    <tr style=\"text-align: right;\">\n",
       "      <th></th>\n",
       "      <th>Unnamed: 0.1</th>\n",
       "      <th>Unnamed: 0</th>\n",
       "      <th>comment_id</th>\n",
       "      <th>submission_id</th>\n",
       "      <th>author</th>\n",
       "      <th>body</th>\n",
       "      <th>score</th>\n",
       "      <th>year</th>\n",
       "      <th>month</th>\n",
       "      <th>safety_code</th>\n",
       "      <th>gpt_score</th>\n",
       "    </tr>\n",
       "  </thead>\n",
       "  <tbody>\n",
       "    <tr>\n",
       "      <th>0</th>\n",
       "      <td>0</td>\n",
       "      <td>0</td>\n",
       "      <td>isl1dig</td>\n",
       "      <td>y57cbw</td>\n",
       "      <td>eeek0711</td>\n",
       "      <td>Takoma Park MD</td>\n",
       "      <td>3</td>\n",
       "      <td>2022</td>\n",
       "      <td>10</td>\n",
       "      <td>0</td>\n",
       "      <td>0</td>\n",
       "    </tr>\n",
       "    <tr>\n",
       "      <th>1</th>\n",
       "      <td>1</td>\n",
       "      <td>1</td>\n",
       "      <td>i9cnmct</td>\n",
       "      <td>utr8aw</td>\n",
       "      <td>dans_cafe</td>\n",
       "      <td>Generally speaking, robberies and muggings are...</td>\n",
       "      <td>1</td>\n",
       "      <td>2022</td>\n",
       "      <td>5</td>\n",
       "      <td>1</td>\n",
       "      <td>1</td>\n",
       "    </tr>\n",
       "    <tr>\n",
       "      <th>2</th>\n",
       "      <td>2</td>\n",
       "      <td>2</td>\n",
       "      <td>i9csov5</td>\n",
       "      <td>utr8aw</td>\n",
       "      <td>Ok_Priority_1534</td>\n",
       "      <td>Downtown/Central DC.\\n\\nAs I'm looking at diff...</td>\n",
       "      <td>1</td>\n",
       "      <td>2022</td>\n",
       "      <td>5</td>\n",
       "      <td>1</td>\n",
       "      <td>1</td>\n",
       "    </tr>\n",
       "    <tr>\n",
       "      <th>3</th>\n",
       "      <td>3</td>\n",
       "      <td>3</td>\n",
       "      <td>k7632z8</td>\n",
       "      <td>17ed6rg</td>\n",
       "      <td>Musictravels23</td>\n",
       "      <td>Hey there!! I have a fuIIy furnished sunny spa...</td>\n",
       "      <td>1</td>\n",
       "      <td>2023</td>\n",
       "      <td>10</td>\n",
       "      <td>0</td>\n",
       "      <td>0</td>\n",
       "    </tr>\n",
       "    <tr>\n",
       "      <th>4</th>\n",
       "      <td>4</td>\n",
       "      <td>4</td>\n",
       "      <td>io5bcjq</td>\n",
       "      <td>xciciq</td>\n",
       "      <td>cheesyuser</td>\n",
       "      <td>Thats a difficult ask. The 2000 range may be d...</td>\n",
       "      <td>2</td>\n",
       "      <td>2022</td>\n",
       "      <td>9</td>\n",
       "      <td>0</td>\n",
       "      <td>0</td>\n",
       "    </tr>\n",
       "  </tbody>\n",
       "</table>\n",
       "</div>"
      ],
      "text/plain": [
       "   Unnamed: 0.1  Unnamed: 0 comment_id submission_id            author  \\\n",
       "0             0           0    isl1dig        y57cbw          eeek0711   \n",
       "1             1           1    i9cnmct        utr8aw         dans_cafe   \n",
       "2             2           2    i9csov5        utr8aw  Ok_Priority_1534   \n",
       "3             3           3    k7632z8       17ed6rg    Musictravels23   \n",
       "4             4           4    io5bcjq        xciciq        cheesyuser   \n",
       "\n",
       "                                                body  score  year  month  \\\n",
       "0                                     Takoma Park MD      3  2022     10   \n",
       "1  Generally speaking, robberies and muggings are...      1  2022      5   \n",
       "2  Downtown/Central DC.\\n\\nAs I'm looking at diff...      1  2022      5   \n",
       "3  Hey there!! I have a fuIIy furnished sunny spa...      1  2023     10   \n",
       "4  Thats a difficult ask. The 2000 range may be d...      2  2022      9   \n",
       "\n",
       "   safety_code  gpt_score  \n",
       "0            0          0  \n",
       "1            1          1  \n",
       "2            1          1  \n",
       "3            0          0  \n",
       "4            0          0  "
      ]
     },
     "execution_count": 39,
     "metadata": {},
     "output_type": "execute_result"
    }
   ],
   "source": [
    "test_data.head()"
   ]
  },
  {
   "cell_type": "code",
   "execution_count": 41,
   "id": "ea8e8313-02fe-427d-a1fa-116f0df255d9",
   "metadata": {},
   "outputs": [],
   "source": [
    "test_data_acc = test_data.dropna().copy()"
   ]
  },
  {
   "cell_type": "code",
   "execution_count": 43,
   "id": "878bf276-6cc6-4382-ae91-06bd76e962d7",
   "metadata": {},
   "outputs": [
    {
     "name": "stdout",
     "output_type": "stream",
     "text": [
      "0.825\n"
     ]
    }
   ],
   "source": [
    "from sklearn.metrics import accuracy_score\n",
    "# check accuracy\n",
    "accuracy = accuracy_score(test_data_acc['safety_code'], test_data_acc['gpt_score'])\n",
    "# see\n",
    "print(accuracy)"
   ]
  },
  {
   "cell_type": "code",
   "execution_count": 45,
   "id": "a7cba960-1051-4e15-85c2-5ed02cdc7f66",
   "metadata": {},
   "outputs": [],
   "source": [
    "test_data_acc.to_csv(\"./data/reddit/test_data_accuracy.csv\")"
   ]
  },
  {
   "cell_type": "code",
   "execution_count": null,
   "id": "1dafadf6-c78b-4d93-99e6-1c2993dbfc17",
   "metadata": {},
   "outputs": [],
   "source": []
  }
 ],
 "metadata": {
  "kernelspec": {
   "display_name": "Python 3 (ipykernel)",
   "language": "python",
   "name": "python3"
  },
  "language_info": {
   "codemirror_mode": {
    "name": "ipython",
    "version": 3
   },
   "file_extension": ".py",
   "mimetype": "text/x-python",
   "name": "python",
   "nbconvert_exporter": "python",
   "pygments_lexer": "ipython3",
   "version": "3.12.4"
  }
 },
 "nbformat": 4,
 "nbformat_minor": 5
}
