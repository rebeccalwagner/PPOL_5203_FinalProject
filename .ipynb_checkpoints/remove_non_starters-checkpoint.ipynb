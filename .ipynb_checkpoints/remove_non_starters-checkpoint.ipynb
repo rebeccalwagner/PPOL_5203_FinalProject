{
 "cells": [
  {
   "cell_type": "markdown",
   "id": "1dad85ba-7c67-4830-b0e9-be04de359ed1",
   "metadata": {},
   "source": [
    "### This code was used to remove comments that were only \"Yes\" or \"No\""
   ]
  },
  {
   "cell_type": "code",
   "execution_count": 6,
   "id": "a8dd6f68-534e-4a63-83da-9e4c71922f23",
   "metadata": {},
   "outputs": [],
   "source": [
    "import pandas as pd\n",
    "import numpy as np"
   ]
  },
  {
   "cell_type": "code",
   "execution_count": 18,
   "id": "8f927259-e69c-4df5-84b3-90f3d66d7fec",
   "metadata": {},
   "outputs": [
    {
     "data": {
      "text/html": [
       "<div>\n",
       "<style scoped>\n",
       "    .dataframe tbody tr th:only-of-type {\n",
       "        vertical-align: middle;\n",
       "    }\n",
       "\n",
       "    .dataframe tbody tr th {\n",
       "        vertical-align: top;\n",
       "    }\n",
       "\n",
       "    .dataframe thead th {\n",
       "        text-align: right;\n",
       "    }\n",
       "</style>\n",
       "<table border=\"1\" class=\"dataframe\">\n",
       "  <thead>\n",
       "    <tr style=\"text-align: right;\">\n",
       "      <th></th>\n",
       "      <th>Unnamed: 0</th>\n",
       "      <th>comment_id</th>\n",
       "      <th>submission_id</th>\n",
       "      <th>author</th>\n",
       "      <th>body</th>\n",
       "      <th>score</th>\n",
       "      <th>year</th>\n",
       "      <th>month</th>\n",
       "      <th>subreddit</th>\n",
       "      <th>type</th>\n",
       "    </tr>\n",
       "  </thead>\n",
       "  <tbody>\n",
       "    <tr>\n",
       "      <th>0</th>\n",
       "      <td>0</td>\n",
       "      <td>isl1exn</td>\n",
       "      <td>y57cbw</td>\n",
       "      <td>eeek0711</td>\n",
       "      <td>Or Cleveland Park in DC</td>\n",
       "      <td>4</td>\n",
       "      <td>2022</td>\n",
       "      <td>10</td>\n",
       "      <td>0</td>\n",
       "      <td>1</td>\n",
       "    </tr>\n",
       "    <tr>\n",
       "      <th>1</th>\n",
       "      <td>1</td>\n",
       "      <td>isl1dig</td>\n",
       "      <td>y57cbw</td>\n",
       "      <td>eeek0711</td>\n",
       "      <td>Takoma Park MD</td>\n",
       "      <td>3</td>\n",
       "      <td>2022</td>\n",
       "      <td>10</td>\n",
       "      <td>0</td>\n",
       "      <td>1</td>\n",
       "    </tr>\n",
       "    <tr>\n",
       "      <th>2</th>\n",
       "      <td>2</td>\n",
       "      <td>islh5rt</td>\n",
       "      <td>y57cbw</td>\n",
       "      <td>nonmimeticform</td>\n",
       "      <td>Baltimore</td>\n",
       "      <td>3</td>\n",
       "      <td>2022</td>\n",
       "      <td>10</td>\n",
       "      <td>0</td>\n",
       "      <td>1</td>\n",
       "    </tr>\n",
       "    <tr>\n",
       "      <th>3</th>\n",
       "      <td>3</td>\n",
       "      <td>isuelis</td>\n",
       "      <td>y57cbw</td>\n",
       "      <td>dcgirlsmallworld</td>\n",
       "      <td>If you are looking for a quiet neighborhood wi...</td>\n",
       "      <td>3</td>\n",
       "      <td>2022</td>\n",
       "      <td>10</td>\n",
       "      <td>0</td>\n",
       "      <td>1</td>\n",
       "    </tr>\n",
       "    <tr>\n",
       "      <th>4</th>\n",
       "      <td>4</td>\n",
       "      <td>isl1grp</td>\n",
       "      <td>y57cbw</td>\n",
       "      <td>eeek0711</td>\n",
       "      <td>I lived in the DeLano Apartments in Woodley Pa...</td>\n",
       "      <td>2</td>\n",
       "      <td>2022</td>\n",
       "      <td>10</td>\n",
       "      <td>0</td>\n",
       "      <td>1</td>\n",
       "    </tr>\n",
       "  </tbody>\n",
       "</table>\n",
       "</div>"
      ],
      "text/plain": [
       "   Unnamed: 0 comment_id submission_id            author  \\\n",
       "0           0    isl1exn        y57cbw          eeek0711   \n",
       "1           1    isl1dig        y57cbw          eeek0711   \n",
       "2           2    islh5rt        y57cbw    nonmimeticform   \n",
       "3           3    isuelis        y57cbw  dcgirlsmallworld   \n",
       "4           4    isl1grp        y57cbw          eeek0711   \n",
       "\n",
       "                                                body  score  year  month  \\\n",
       "0                            Or Cleveland Park in DC      4  2022     10   \n",
       "1                                     Takoma Park MD      3  2022     10   \n",
       "2                                          Baltimore      3  2022     10   \n",
       "3  If you are looking for a quiet neighborhood wi...      3  2022     10   \n",
       "4  I lived in the DeLano Apartments in Woodley Pa...      2  2022     10   \n",
       "\n",
       "   subreddit  type  \n",
       "0          0     1  \n",
       "1          0     1  \n",
       "2          0     1  \n",
       "3          0     1  \n",
       "4          0     1  "
      ]
     },
     "execution_count": 18,
     "metadata": {},
     "output_type": "execute_result"
    }
   ],
   "source": [
    "comments_to_parse = pd.read_csv(\"./data/reddit/comments_ALL_12_6.csv\")\n",
    "comments_to_parse.head()"
   ]
  },
  {
   "cell_type": "code",
   "execution_count": 20,
   "id": "8f375137-b223-45dc-b72b-22bc884e910b",
   "metadata": {},
   "outputs": [],
   "source": [
    "##loop through all values in the body column and remove any just yes or no\n",
    "drop_indices = []\n",
    "for i in range(len(comments_to_parse)):\n",
    "    if comments_to_parse.loc[i, \"body\"] in [\"Yes\", \"Yes.\", \"Yes!\", \"No\", \"No.\", \"?\", \"No!\", \"Yes?\", \"Yes!!\", \"Happy cake day!\", \"Happy cake day!!\"]:\n",
    "        drop_indices.append(i)\n",
    "\n",
    "comments_to_parse = comments_to_parse.drop(drop_indices)"
   ]
  },
  {
   "cell_type": "code",
   "execution_count": 22,
   "id": "dd64dbe1-0c02-443d-9382-e2d592a8fb22",
   "metadata": {},
   "outputs": [],
   "source": [
    "comments_to_parse.to_csv(\"./data/reddit/comments_parsed.csv\")"
   ]
  },
  {
   "cell_type": "code",
   "execution_count": null,
   "id": "f76c86ea-c026-49f0-86f6-cc2fe548dcbf",
   "metadata": {},
   "outputs": [],
   "source": []
  }
 ],
 "metadata": {
  "kernelspec": {
   "display_name": "Python 3 (ipykernel)",
   "language": "python",
   "name": "python3"
  },
  "language_info": {
   "codemirror_mode": {
    "name": "ipython",
    "version": 3
   },
   "file_extension": ".py",
   "mimetype": "text/x-python",
   "name": "python",
   "nbconvert_exporter": "python",
   "pygments_lexer": "ipython3",
   "version": "3.12.4"
  }
 },
 "nbformat": 4,
 "nbformat_minor": 5
}
