{
 "cells": [
  {
   "cell_type": "code",
   "execution_count": 3,
   "metadata": {},
   "outputs": [],
   "source": [
    "import pandas as pd\n",
    "import requests \n",
    "import numpy as np\n",
    "import time\n",
    "from tqdm import tqdm"
   ]
  },
  {
   "cell_type": "markdown",
   "metadata": {},
   "source": [
    "### Define Functions"
   ]
  },
  {
   "cell_type": "code",
   "execution_count": 5,
   "metadata": {},
   "outputs": [],
   "source": [
    "##############################################################################################################\n",
    "\n",
    "def clean_gpt_output(output_list):\n",
    "\n",
    "    stripped_list = [str(item).replace('\\n', '') for item in output_list]\n",
    "    filled_list = [entry if entry != '0' else '0 0' for entry in stripped_list]\n",
    "    cleaned_list = [entry.split(' ') for entry in filled_list]\n",
    "\n",
    "    df = pd.DataFrame(cleaned_list, columns=['code', 'sentiment'])\n",
    "\n",
    "    return df\n",
    "\n",
    "##############################################################################################################\n",
    "\n",
    "## function to query a response from Chat GPT\n",
    "def ask_chat(question, api_key):\n",
    "    # define headers\n",
    "    headers = {\n",
    "        \"Authorization\": f\"Bearer {gpt_key}\",\n",
    "        \"Content-Type\": \"application/json\",\n",
    "    }\n",
    "\n",
    "    info = {\n",
    "     \"model\": \"gpt-4o-mini\",\n",
    "     \"messages\": [{\"role\": \"user\", \"content\": question}],\n",
    "     \"temperature\": 0\n",
    "    }\n",
    "    ##Get the response\n",
    "    response = requests.post('https://api.openai.com/v1/chat/completions', headers = headers, json = info)\n",
    "    ##Convert to json\n",
    "    response_json = response.json()\n",
    "    return response_json['choices'][0]['message']['content'].strip()\n",
    "\n",
    "##############################################################################################################\n",
    "\n",
    "def split_dfs(df, n):\n",
    "    split_dfs = [df.iloc[i:i+n] for i in range(0, len(df), n)]\n",
    "    return split_dfs"
   ]
  },
  {
   "cell_type": "markdown",
   "metadata": {},
   "source": [
    "### API Init"
   ]
  },
  {
   "cell_type": "code",
   "execution_count": 7,
   "metadata": {},
   "outputs": [],
   "source": [
    "# load api key\n",
    "# load library to get environmental files\n",
    "import os\n",
    "from dotenv import load_dotenv\n",
    "\n",
    "\n",
    "# load keys from  environmental var\n",
    "load_dotenv() # .env file in cwd\n",
    "gpt_key = os.environ.get(\"gpt_key\") "
   ]
  },
  {
   "cell_type": "markdown",
   "metadata": {},
   "source": [
    "### Open/Split Dataframes"
   ]
  },
  {
   "cell_type": "code",
   "execution_count": 9,
   "metadata": {},
   "outputs": [],
   "source": [
    "comments_df = pd.read_csv(\"./data/reddit/comments_parsed.csv\", skiprows=5000, nrows=100, names=[\"x\",\"y\",\"comment_id\",\"submission_id\",\"author\",\"body\",\"score\",\"year\",\"month\",\"subreddit\",\"type\"])"
   ]
  },
  {
   "cell_type": "code",
   "execution_count": 11,
   "metadata": {},
   "outputs": [],
   "source": [
    "split_dfs = split_dfs(comments_df,10)"
   ]
  },
  {
   "cell_type": "code",
   "execution_count": 35,
   "metadata": {},
   "outputs": [
    {
     "name": "stdout",
     "output_type": "stream",
     "text": [
      "0\n"
     ]
    },
    {
     "name": "stderr",
     "output_type": "stream",
     "text": [
      "  0%|                                                    | 0/10 [00:00<?, ?it/s]"
     ]
    },
    {
     "name": "stdout",
     "output_type": "stream",
     "text": [
      "The real reason is that the companies that are being sued for market manipulation in DC, SURPRISINGLY, operate in Arlington also. Shocker, right?\n",
      "\n",
      "\n",
      "https://oag.dc.gov/release/attorney-general-schwalb-sues-realpage-residential \n",
      "\n",
      "\n",
      "These wretched oligopolies will remove the middle class from the American dream, convincing us to blame our neighbor for it, while they're ripping us all off. It's insidious.\n"
     ]
    },
    {
     "name": "stderr",
     "output_type": "stream",
     "text": [
      " 10%|████▍                                       | 1/10 [00:01<00:14,  1.58s/it]"
     ]
    },
    {
     "name": "stdout",
     "output_type": "stream",
     "text": [
      "Yes, Arlington’s crime rate is lower than DC's, even though crime and related problems have become more prevalent in post-COVID Arlington.\n",
      "\n",
      "Even though I work in DC, I chose to live in Arlington because the housing is comparatively cheaper and more modern than what’s often available in my price range in DC.\n",
      "\n",
      "Also, better amenities like parking and more things to choose from (ex. More grocery stores available in DC are things like Safeway and Whole Foods), while within a five mile radius of where I live in Arlington I have many more choices. Even within walking distance.\n",
      "\n",
      "Though, I would say NIMBYISM is a bigger problem in Arlington vs. DC. I think VA taxes from what I've heard are also more than the District.\n"
     ]
    },
    {
     "name": "stderr",
     "output_type": "stream",
     "text": [
      " 20%|████████▊                                   | 2/10 [00:02<00:11,  1.43s/it]"
     ]
    },
    {
     "name": "stdout",
     "output_type": "stream",
     "text": [
      "10-15 years ago, Clarendon/Courthouse was wildly cheaper.\n"
     ]
    },
    {
     "name": "stderr",
     "output_type": "stream",
     "text": [
      " 30%|█████████████▏                              | 3/10 [00:04<00:09,  1.39s/it]"
     ]
    },
    {
     "name": "stdout",
     "output_type": "stream",
     "text": [
      "Depends which direction. You can go an hour south to where I live and it's still going to be very expensive (condos start at 600, SF are 1M+, renting a 2BR is going yo be over 2k).\n"
     ]
    },
    {
     "name": "stderr",
     "output_type": "stream",
     "text": [
      " 40%|█████████████████▌                          | 4/10 [00:05<00:08,  1.41s/it]"
     ]
    },
    {
     "name": "stdout",
     "output_type": "stream",
     "text": [
      "I always enjoyed people telling me I lived in FARlington when my dc commute was half theirs\n"
     ]
    },
    {
     "name": "stderr",
     "output_type": "stream",
     "text": [
      " 50%|██████████████████████                      | 5/10 [00:07<00:06,  1.38s/it]"
     ]
    },
    {
     "name": "stdout",
     "output_type": "stream",
     "text": [
      "They said navy yard not EOTR fwiw, but he’s a lot of people do commute into the suburbs not into dc proper.\n"
     ]
    },
    {
     "name": "stderr",
     "output_type": "stream",
     "text": [
      " 60%|██████████████████████████▍                 | 6/10 [00:08<00:05,  1.39s/it]"
     ]
    },
    {
     "name": "stdout",
     "output_type": "stream",
     "text": [
      "I wonder where all the tax money goes every year because DC definitely doesn't have better infrastructures/services/resources than Arlington. And the MPD does literally nothing to enforce law.\n"
     ]
    },
    {
     "name": "stderr",
     "output_type": "stream",
     "text": [
      " 70%|██████████████████████████████▊             | 7/10 [00:09<00:04,  1.40s/it]"
     ]
    },
    {
     "name": "stdout",
     "output_type": "stream",
     "text": [
      "Possible to live car-free? Do you mean there are restaurants, bars, cafes, movie theaters, markets on walking distance or it is just close to a metro stop which can get you to DC? (genuine question, never been to Arlington, living in DC)\n"
     ]
    },
    {
     "name": "stderr",
     "output_type": "stream",
     "text": [
      " 80%|███████████████████████████████████▏        | 8/10 [00:11<00:02,  1.42s/it]"
     ]
    },
    {
     "name": "stdout",
     "output_type": "stream",
     "text": [
      "Lmao\n"
     ]
    },
    {
     "name": "stderr",
     "output_type": "stream",
     "text": [
      " 90%|███████████████████████████████████████▌    | 9/10 [00:12<00:01,  1.43s/it]"
     ]
    },
    {
     "name": "stdout",
     "output_type": "stream",
     "text": [
      "Arlington is DC's more successful younger brother who makes DC look bad by comparison.\n"
     ]
    },
    {
     "name": "stderr",
     "output_type": "stream",
     "text": [
      "100%|███████████████████████████████████████████| 10/10 [00:14<00:00,  1.41s/it]\n",
      "/var/folders/gv/sd1_fqg951l514f5hk_w0ls80000gn/T/ipykernel_87675/3537642652.py:24: SettingWithCopyWarning: \n",
      "A value is trying to be set on a copy of a slice from a DataFrame.\n",
      "Try using .loc[row_indexer,col_indexer] = value instead\n",
      "\n",
      "See the caveats in the documentation: https://pandas.pydata.org/pandas-docs/stable/user_guide/indexing.html#returning-a-view-versus-a-copy\n",
      "  df[\"gpt_output\"] = answer\n"
     ]
    },
    {
     "name": "stdout",
     "output_type": "stream",
     "text": [
      "1\n"
     ]
    },
    {
     "name": "stderr",
     "output_type": "stream",
     "text": [
      "100%|████████████████████████████████████████| 10/10 [00:00<00:00, 14789.51it/s]\n"
     ]
    },
    {
     "name": "stdout",
     "output_type": "stream",
     "text": [
      "Error on index 0 of dataframe 1: 0\n",
      "Error on index 1 of dataframe 1: 1\n",
      "Error on index 2 of dataframe 1: 2\n",
      "Error on index 3 of dataframe 1: 3\n",
      "Error on index 4 of dataframe 1: 4\n",
      "Error on index 5 of dataframe 1: 5\n",
      "Error on index 6 of dataframe 1: 6\n",
      "Error on index 7 of dataframe 1: 7\n",
      "Error on index 8 of dataframe 1: 8\n",
      "Error on index 9 of dataframe 1: 9\n",
      "2\n"
     ]
    },
    {
     "name": "stderr",
     "output_type": "stream",
     "text": [
      "100%|████████████████████████████████████████| 10/10 [00:00<00:00, 19535.65it/s]\n"
     ]
    },
    {
     "name": "stdout",
     "output_type": "stream",
     "text": [
      "Error on index 0 of dataframe 2: 0\n",
      "Error on index 1 of dataframe 2: 1\n",
      "Error on index 2 of dataframe 2: 2\n",
      "Error on index 3 of dataframe 2: 3\n",
      "Error on index 4 of dataframe 2: 4\n",
      "Error on index 5 of dataframe 2: 5\n",
      "Error on index 6 of dataframe 2: 6\n",
      "Error on index 7 of dataframe 2: 7\n",
      "Error on index 8 of dataframe 2: 8\n",
      "Error on index 9 of dataframe 2: 9\n",
      "3\n"
     ]
    },
    {
     "name": "stderr",
     "output_type": "stream",
     "text": [
      "100%|█████████████████████████████████████████| 10/10 [00:00<00:00, 9850.41it/s]\n"
     ]
    },
    {
     "name": "stdout",
     "output_type": "stream",
     "text": [
      "Error on index 0 of dataframe 3: 0\n",
      "Error on index 1 of dataframe 3: 1\n",
      "Error on index 2 of dataframe 3: 2\n",
      "Error on index 3 of dataframe 3: 3\n",
      "Error on index 4 of dataframe 3: 4\n",
      "Error on index 5 of dataframe 3: 5\n",
      "Error on index 6 of dataframe 3: 6\n",
      "Error on index 7 of dataframe 3: 7\n",
      "Error on index 8 of dataframe 3: 8\n",
      "Error on index 9 of dataframe 3: 9\n",
      "4\n"
     ]
    },
    {
     "name": "stderr",
     "output_type": "stream",
     "text": [
      "100%|████████████████████████████████████████| 10/10 [00:00<00:00, 35454.81it/s]\n"
     ]
    },
    {
     "name": "stdout",
     "output_type": "stream",
     "text": [
      "Error on index 0 of dataframe 4: 0\n",
      "Error on index 1 of dataframe 4: 1\n",
      "Error on index 2 of dataframe 4: 2\n",
      "Error on index 3 of dataframe 4: 3\n",
      "Error on index 4 of dataframe 4: 4\n",
      "Error on index 5 of dataframe 4: 5\n",
      "Error on index 6 of dataframe 4: 6\n",
      "Error on index 7 of dataframe 4: 7\n",
      "Error on index 8 of dataframe 4: 8\n",
      "Error on index 9 of dataframe 4: 9\n",
      "5\n"
     ]
    },
    {
     "name": "stderr",
     "output_type": "stream",
     "text": [
      "100%|████████████████████████████████████████| 10/10 [00:00<00:00, 40485.56it/s]\n"
     ]
    },
    {
     "name": "stdout",
     "output_type": "stream",
     "text": [
      "Error on index 0 of dataframe 5: 0\n",
      "Error on index 1 of dataframe 5: 1\n",
      "Error on index 2 of dataframe 5: 2\n",
      "Error on index 3 of dataframe 5: 3\n",
      "Error on index 4 of dataframe 5: 4\n",
      "Error on index 5 of dataframe 5: 5\n",
      "Error on index 6 of dataframe 5: 6\n",
      "Error on index 7 of dataframe 5: 7\n",
      "Error on index 8 of dataframe 5: 8\n",
      "Error on index 9 of dataframe 5: 9\n",
      "6\n"
     ]
    },
    {
     "name": "stderr",
     "output_type": "stream",
     "text": [
      "100%|████████████████████████████████████████| 10/10 [00:00<00:00, 38800.22it/s]\n"
     ]
    },
    {
     "name": "stdout",
     "output_type": "stream",
     "text": [
      "Error on index 0 of dataframe 6: 0\n",
      "Error on index 1 of dataframe 6: 1\n",
      "Error on index 2 of dataframe 6: 2\n",
      "Error on index 3 of dataframe 6: 3\n",
      "Error on index 4 of dataframe 6: 4\n",
      "Error on index 5 of dataframe 6: 5\n",
      "Error on index 6 of dataframe 6: 6\n",
      "Error on index 7 of dataframe 6: 7\n",
      "Error on index 8 of dataframe 6: 8\n",
      "Error on index 9 of dataframe 6: 9\n",
      "7\n"
     ]
    },
    {
     "name": "stderr",
     "output_type": "stream",
     "text": [
      "100%|████████████████████████████████████████| 10/10 [00:00<00:00, 18893.26it/s]\n"
     ]
    },
    {
     "name": "stdout",
     "output_type": "stream",
     "text": [
      "Error on index 0 of dataframe 7: 0\n",
      "Error on index 1 of dataframe 7: 1\n",
      "Error on index 2 of dataframe 7: 2\n",
      "Error on index 3 of dataframe 7: 3\n",
      "Error on index 4 of dataframe 7: 4\n",
      "Error on index 5 of dataframe 7: 5\n",
      "Error on index 6 of dataframe 7: 6\n",
      "Error on index 7 of dataframe 7: 7\n",
      "Error on index 8 of dataframe 7: 8\n",
      "Error on index 9 of dataframe 7: 9\n",
      "8\n"
     ]
    },
    {
     "name": "stderr",
     "output_type": "stream",
     "text": [
      "100%|████████████████████████████████████████| 10/10 [00:00<00:00, 34606.47it/s]\n"
     ]
    },
    {
     "name": "stdout",
     "output_type": "stream",
     "text": [
      "Error on index 0 of dataframe 8: 0\n",
      "Error on index 1 of dataframe 8: 1\n",
      "Error on index 2 of dataframe 8: 2\n",
      "Error on index 3 of dataframe 8: 3\n",
      "Error on index 4 of dataframe 8: 4\n",
      "Error on index 5 of dataframe 8: 5\n",
      "Error on index 6 of dataframe 8: 6\n",
      "Error on index 7 of dataframe 8: 7\n",
      "Error on index 8 of dataframe 8: 8\n",
      "Error on index 9 of dataframe 8: 9\n",
      "9\n"
     ]
    },
    {
     "name": "stderr",
     "output_type": "stream",
     "text": [
      "100%|████████████████████████████████████████| 10/10 [00:00<00:00, 49056.19it/s]"
     ]
    },
    {
     "name": "stdout",
     "output_type": "stream",
     "text": [
      "Error on index 0 of dataframe 9: 0\n",
      "Error on index 1 of dataframe 9: 1\n",
      "Error on index 2 of dataframe 9: 2\n",
      "Error on index 3 of dataframe 9: 3\n",
      "Error on index 4 of dataframe 9: 4\n",
      "Error on index 5 of dataframe 9: 5\n",
      "Error on index 6 of dataframe 9: 6\n",
      "Error on index 7 of dataframe 9: 7\n",
      "Error on index 8 of dataframe 9: 8\n",
      "Error on index 9 of dataframe 9: 9\n"
     ]
    },
    {
     "name": "stderr",
     "output_type": "stream",
     "text": [
      "\n"
     ]
    }
   ],
   "source": [
    "for i, df in enumerate(split_dfs):\n",
    "\n",
    "    print(i)\n",
    "    \n",
    "    ##loop through the coded data to test gpt's accuracy with prompt\n",
    "    answer = []\n",
    "\n",
    "    for j in tqdm(range(len(df))):\n",
    "        try:\n",
    "            base_question = \"Is this text about neighborhood safety in DC? \\\n",
    "            Answer only with a number: 1 if about safety in DC, 0 if not. \\\n",
    "            If the answer is 1, how safe do you think the author feels? \\\n",
    "            Answer with only a number on a scale between 1 (very unsafe) and 10 (very safe) \\\n",
    "                Here is the text: \"\n",
    "            text = df.loc[j, \"body\"]\n",
    "            print(text)\n",
    "            full_question = base_question + str(text)\n",
    "            answer.append(ask_chat(full_question, gpt_key))\n",
    "            time.sleep(1)\n",
    "        except Exception as e:\n",
    "            print(f\"Error on index {j} of dataframe {i}: {e}\")\n",
    "            answer.append(np.nan)   \n",
    "\n",
    "    df[\"gpt_output\"] = answer\n",
    "\n",
    "    file_name = \"gpt_output_\" + str(i) + \".csv\"\n",
    "\n",
    "    df.to_csv(\"./data/reddit/\" + file_name)"
   ]
  },
  {
   "cell_type": "code",
   "execution_count": 17,
   "metadata": {},
   "outputs": [
    {
     "data": {
      "text/plain": [
       "[nan, nan, nan, nan, nan, nan, nan, nan, nan, nan]"
      ]
     },
     "execution_count": 17,
     "metadata": {},
     "output_type": "execute_result"
    }
   ],
   "source": [
    "answer"
   ]
  },
  {
   "cell_type": "markdown",
   "metadata": {},
   "source": [
    "### test code "
   ]
  },
  {
   "cell_type": "code",
   "execution_count": 17,
   "metadata": {},
   "outputs": [],
   "source": [
    "data = {\n",
    "    \"Name\": [\"Alice\", \"Bob\", \"Charlie\", \"Diana\"],\n",
    "    \"Age\": [25, 30, 35, 28],\n",
    "    \"City\": [\"New York\", \"Los Angeles\", \"Chicago\", \"Houston\"],\n",
    "    \"Salary\": [70000, 80000, 75000, 72000],\n",
    "    \"Department\": [\"HR\", \"Finance\", \"IT\", \"Marketing\"],\n",
    "    \"Joining Date\": [\"2020-01-15\", \"2019-06-10\", \"2021-03-20\", \"2020-11-05\"]\n",
    "}\n",
    "\n",
    "test_df = pd.DataFrame(data)"
   ]
  },
  {
   "cell_type": "code",
   "execution_count": 18,
   "metadata": {},
   "outputs": [
    {
     "data": {
      "text/html": [
       "<div>\n",
       "<style scoped>\n",
       "    .dataframe tbody tr th:only-of-type {\n",
       "        vertical-align: middle;\n",
       "    }\n",
       "\n",
       "    .dataframe tbody tr th {\n",
       "        vertical-align: top;\n",
       "    }\n",
       "\n",
       "    .dataframe thead th {\n",
       "        text-align: right;\n",
       "    }\n",
       "</style>\n",
       "<table border=\"1\" class=\"dataframe\">\n",
       "  <thead>\n",
       "    <tr style=\"text-align: right;\">\n",
       "      <th></th>\n",
       "      <th>Name</th>\n",
       "      <th>Age</th>\n",
       "      <th>City</th>\n",
       "      <th>Salary</th>\n",
       "      <th>Department</th>\n",
       "      <th>Joining Date</th>\n",
       "    </tr>\n",
       "  </thead>\n",
       "  <tbody>\n",
       "    <tr>\n",
       "      <th>0</th>\n",
       "      <td>Alice</td>\n",
       "      <td>25</td>\n",
       "      <td>New York</td>\n",
       "      <td>70000</td>\n",
       "      <td>HR</td>\n",
       "      <td>2020-01-15</td>\n",
       "    </tr>\n",
       "    <tr>\n",
       "      <th>1</th>\n",
       "      <td>Bob</td>\n",
       "      <td>30</td>\n",
       "      <td>Los Angeles</td>\n",
       "      <td>80000</td>\n",
       "      <td>Finance</td>\n",
       "      <td>2019-06-10</td>\n",
       "    </tr>\n",
       "    <tr>\n",
       "      <th>2</th>\n",
       "      <td>Charlie</td>\n",
       "      <td>35</td>\n",
       "      <td>Chicago</td>\n",
       "      <td>75000</td>\n",
       "      <td>IT</td>\n",
       "      <td>2021-03-20</td>\n",
       "    </tr>\n",
       "    <tr>\n",
       "      <th>3</th>\n",
       "      <td>Diana</td>\n",
       "      <td>28</td>\n",
       "      <td>Houston</td>\n",
       "      <td>72000</td>\n",
       "      <td>Marketing</td>\n",
       "      <td>2020-11-05</td>\n",
       "    </tr>\n",
       "  </tbody>\n",
       "</table>\n",
       "</div>"
      ],
      "text/plain": [
       "      Name  Age         City  Salary Department Joining Date\n",
       "0    Alice   25     New York   70000         HR   2020-01-15\n",
       "1      Bob   30  Los Angeles   80000    Finance   2019-06-10\n",
       "2  Charlie   35      Chicago   75000         IT   2021-03-20\n",
       "3    Diana   28      Houston   72000  Marketing   2020-11-05"
      ]
     },
     "execution_count": 18,
     "metadata": {},
     "output_type": "execute_result"
    }
   ],
   "source": [
    "test_df"
   ]
  },
  {
   "cell_type": "code",
   "execution_count": 19,
   "metadata": {},
   "outputs": [],
   "source": [
    "output_list = ['0', '1 \\n4', '1 \\n7', 0]"
   ]
  },
  {
   "cell_type": "code",
   "execution_count": 21,
   "metadata": {},
   "outputs": [
    {
     "data": {
      "text/plain": [
       "[['0', '0'], ['1', '4'], ['1', '7'], ['0', '0']]"
      ]
     },
     "execution_count": 21,
     "metadata": {},
     "output_type": "execute_result"
    }
   ],
   "source": [
    "cleaned_output = clean_gpt_output(output_list)\n",
    "cleaned_output"
   ]
  },
  {
   "cell_type": "code",
   "execution_count": 22,
   "metadata": {},
   "outputs": [],
   "source": [
    "test_df_2 = pd.DataFrame(cleaned_output, columns=['code', 'sentiment'])"
   ]
  },
  {
   "cell_type": "code",
   "execution_count": 23,
   "metadata": {},
   "outputs": [],
   "source": [
    "test_df[[\"code\",\"sentiment\"]] = test_df_2"
   ]
  },
  {
   "cell_type": "code",
   "execution_count": 24,
   "metadata": {},
   "outputs": [
    {
     "data": {
      "text/html": [
       "<div>\n",
       "<style scoped>\n",
       "    .dataframe tbody tr th:only-of-type {\n",
       "        vertical-align: middle;\n",
       "    }\n",
       "\n",
       "    .dataframe tbody tr th {\n",
       "        vertical-align: top;\n",
       "    }\n",
       "\n",
       "    .dataframe thead th {\n",
       "        text-align: right;\n",
       "    }\n",
       "</style>\n",
       "<table border=\"1\" class=\"dataframe\">\n",
       "  <thead>\n",
       "    <tr style=\"text-align: right;\">\n",
       "      <th></th>\n",
       "      <th>Name</th>\n",
       "      <th>Age</th>\n",
       "      <th>City</th>\n",
       "      <th>Salary</th>\n",
       "      <th>Department</th>\n",
       "      <th>Joining Date</th>\n",
       "      <th>code</th>\n",
       "      <th>sentiment</th>\n",
       "    </tr>\n",
       "  </thead>\n",
       "  <tbody>\n",
       "    <tr>\n",
       "      <th>0</th>\n",
       "      <td>Alice</td>\n",
       "      <td>25</td>\n",
       "      <td>New York</td>\n",
       "      <td>70000</td>\n",
       "      <td>HR</td>\n",
       "      <td>2020-01-15</td>\n",
       "      <td>0</td>\n",
       "      <td>0</td>\n",
       "    </tr>\n",
       "    <tr>\n",
       "      <th>1</th>\n",
       "      <td>Bob</td>\n",
       "      <td>30</td>\n",
       "      <td>Los Angeles</td>\n",
       "      <td>80000</td>\n",
       "      <td>Finance</td>\n",
       "      <td>2019-06-10</td>\n",
       "      <td>1</td>\n",
       "      <td>4</td>\n",
       "    </tr>\n",
       "    <tr>\n",
       "      <th>2</th>\n",
       "      <td>Charlie</td>\n",
       "      <td>35</td>\n",
       "      <td>Chicago</td>\n",
       "      <td>75000</td>\n",
       "      <td>IT</td>\n",
       "      <td>2021-03-20</td>\n",
       "      <td>1</td>\n",
       "      <td>7</td>\n",
       "    </tr>\n",
       "    <tr>\n",
       "      <th>3</th>\n",
       "      <td>Diana</td>\n",
       "      <td>28</td>\n",
       "      <td>Houston</td>\n",
       "      <td>72000</td>\n",
       "      <td>Marketing</td>\n",
       "      <td>2020-11-05</td>\n",
       "      <td>0</td>\n",
       "      <td>0</td>\n",
       "    </tr>\n",
       "  </tbody>\n",
       "</table>\n",
       "</div>"
      ],
      "text/plain": [
       "      Name  Age         City  Salary Department Joining Date code sentiment\n",
       "0    Alice   25     New York   70000         HR   2020-01-15    0         0\n",
       "1      Bob   30  Los Angeles   80000    Finance   2019-06-10    1         4\n",
       "2  Charlie   35      Chicago   75000         IT   2021-03-20    1         7\n",
       "3    Diana   28      Houston   72000  Marketing   2020-11-05    0         0"
      ]
     },
     "execution_count": 24,
     "metadata": {},
     "output_type": "execute_result"
    }
   ],
   "source": [
    "test_df"
   ]
  },
  {
   "cell_type": "code",
   "execution_count": null,
   "metadata": {},
   "outputs": [],
   "source": [
    "output_list = ['0', '1 \\n4', '1 \\n7', 0]"
   ]
  },
  {
   "cell_type": "code",
   "execution_count": 38,
   "metadata": {},
   "outputs": [],
   "source": [
    "cleaned_list = [str(item).replace('\\n', '') for item in output_list]"
   ]
  },
  {
   "cell_type": "code",
   "execution_count": 39,
   "metadata": {},
   "outputs": [
    {
     "data": {
      "text/plain": [
       "['0', '1 4', '1 7', '0']"
      ]
     },
     "execution_count": 39,
     "metadata": {},
     "output_type": "execute_result"
    }
   ],
   "source": [
    "cleaned_list"
   ]
  },
  {
   "cell_type": "code",
   "execution_count": 41,
   "metadata": {},
   "outputs": [],
   "source": [
    "cleaned_list = [entry if entry != '0' else '0 0' for entry in cleaned_list]"
   ]
  },
  {
   "cell_type": "code",
   "execution_count": 42,
   "metadata": {},
   "outputs": [
    {
     "data": {
      "text/plain": [
       "['0 0', '1 4', '1 7', '0 0']"
      ]
     },
     "execution_count": 42,
     "metadata": {},
     "output_type": "execute_result"
    }
   ],
   "source": [
    "cleaned_list"
   ]
  },
  {
   "cell_type": "code",
   "execution_count": 26,
   "metadata": {},
   "outputs": [
    {
     "data": {
      "text/plain": [
       "['0 0', '1 4', '1 7', '0 0']"
      ]
     },
     "execution_count": 26,
     "metadata": {},
     "output_type": "execute_result"
    }
   ],
   "source": [
    "cleaned_list"
   ]
  },
  {
   "cell_type": "code",
   "execution_count": 31,
   "metadata": {},
   "outputs": [],
   "source": [
    "for i,entry in enumerate(cleaned_list):\n",
    "    cleaned_list[i] = entry.split(' ')"
   ]
  },
  {
   "cell_type": "code",
   "execution_count": 32,
   "metadata": {},
   "outputs": [
    {
     "data": {
      "text/plain": [
       "[['0', '0'], ['1', '4'], ['1', '7'], ['0', '0']]"
      ]
     },
     "execution_count": 32,
     "metadata": {},
     "output_type": "execute_result"
    }
   ],
   "source": [
    "cleaned_list"
   ]
  },
  {
   "cell_type": "code",
   "execution_count": 35,
   "metadata": {},
   "outputs": [],
   "source": [
    "test_df = pd.DataFrame(cleaned_list, columns=['code', 'sentiment'])"
   ]
  },
  {
   "cell_type": "code",
   "execution_count": 36,
   "metadata": {},
   "outputs": [
    {
     "data": {
      "text/html": [
       "<div>\n",
       "<style scoped>\n",
       "    .dataframe tbody tr th:only-of-type {\n",
       "        vertical-align: middle;\n",
       "    }\n",
       "\n",
       "    .dataframe tbody tr th {\n",
       "        vertical-align: top;\n",
       "    }\n",
       "\n",
       "    .dataframe thead th {\n",
       "        text-align: right;\n",
       "    }\n",
       "</style>\n",
       "<table border=\"1\" class=\"dataframe\">\n",
       "  <thead>\n",
       "    <tr style=\"text-align: right;\">\n",
       "      <th></th>\n",
       "      <th>code</th>\n",
       "      <th>sentiment</th>\n",
       "    </tr>\n",
       "  </thead>\n",
       "  <tbody>\n",
       "    <tr>\n",
       "      <th>0</th>\n",
       "      <td>0</td>\n",
       "      <td>0</td>\n",
       "    </tr>\n",
       "    <tr>\n",
       "      <th>1</th>\n",
       "      <td>1</td>\n",
       "      <td>4</td>\n",
       "    </tr>\n",
       "    <tr>\n",
       "      <th>2</th>\n",
       "      <td>1</td>\n",
       "      <td>7</td>\n",
       "    </tr>\n",
       "    <tr>\n",
       "      <th>3</th>\n",
       "      <td>0</td>\n",
       "      <td>0</td>\n",
       "    </tr>\n",
       "  </tbody>\n",
       "</table>\n",
       "</div>"
      ],
      "text/plain": [
       "  code sentiment\n",
       "0    0         0\n",
       "1    1         4\n",
       "2    1         7\n",
       "3    0         0"
      ]
     },
     "execution_count": 36,
     "metadata": {},
     "output_type": "execute_result"
    }
   ],
   "source": [
    "test_df"
   ]
  }
 ],
 "metadata": {
  "kernelspec": {
   "display_name": "Python 3 (ipykernel)",
   "language": "python",
   "name": "python3"
  },
  "language_info": {
   "codemirror_mode": {
    "name": "ipython",
    "version": 3
   },
   "file_extension": ".py",
   "mimetype": "text/x-python",
   "name": "python",
   "nbconvert_exporter": "python",
   "pygments_lexer": "ipython3",
   "version": "3.12.4"
  }
 },
 "nbformat": 4,
 "nbformat_minor": 4
}
