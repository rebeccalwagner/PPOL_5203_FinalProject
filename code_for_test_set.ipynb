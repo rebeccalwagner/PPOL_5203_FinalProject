{
 "cells": [
  {
   "cell_type": "code",
   "execution_count": 1,
   "metadata": {},
   "outputs": [],
   "source": [
    "import pandas as pd\n",
    "import random"
   ]
  },
  {
   "cell_type": "markdown",
   "metadata": {},
   "source": [
    "### This notebook was used to manually code a set of reddit comments as either pertaining to neighborhood safety or not. This set was saved and will be used to train a gpt model"
   ]
  },
  {
   "cell_type": "markdown",
   "metadata": {},
   "source": [
    "### Open comments df"
   ]
  },
  {
   "cell_type": "code",
   "execution_count": 2,
   "metadata": {},
   "outputs": [],
   "source": [
    "# open comments df\n",
    "comments = pd.read_csv(\"./data/washingtondc_12_4_comments.csv\")"
   ]
  },
  {
   "cell_type": "code",
   "execution_count": null,
   "metadata": {},
   "outputs": [
    {
     "data": {
      "text/plain": [
       "(22866, 7)"
      ]
     },
     "execution_count": 3,
     "metadata": {},
     "output_type": "execute_result"
    }
   ],
   "source": []
  },
  {
   "cell_type": "code",
   "execution_count": 77,
   "metadata": {},
   "outputs": [],
   "source": [
    "# create new df to put coded data into\n",
    "coded = pd.DataFrame(columns=[\"submission_id\",\"author\",\"body\",\"score\",\"year\",\"month\",\"code\"])"
   ]
  },
  {
   "cell_type": "markdown",
   "metadata": {},
   "source": [
    "### Look at Random Comments"
   ]
  },
  {
   "cell_type": "code",
   "execution_count": 919,
   "metadata": {},
   "outputs": [
    {
     "name": "stdout",
     "output_type": "stream",
     "text": [
      "Maybe, but also most gun violence in dc is committed by repeat offenders. If we want to reduce shootings, we have to figure out how to either keep these criminals locked up or, better yet, how to reduce recidivism. \n",
      "\n",
      "This article from 2019 just goes to show that the city knows but still hasn’t figured out how to deal with this yet. \n",
      "\n",
      "https://wtop.com/dc/2019/10/frustrated-d-c-police-chief-wants-more-done-to-target-repeat-gun-offenders/\n"
     ]
    }
   ],
   "source": [
    "# randomly look at individual comments\n",
    "row = random.randrange(comments.shape[0])\n",
    "print(comments.iloc[row][\"body\"])"
   ]
  },
  {
   "cell_type": "markdown",
   "metadata": {},
   "source": [
    "### If you want to code and save the comment.."
   ]
  },
  {
   "cell_type": "code",
   "execution_count": null,
   "metadata": {},
   "outputs": [],
   "source": [
    "coded.loc[len(coded)] = comments.iloc[row]\n",
    "coded.loc[len(coded)-1, \"code\"] = 0 # change this to 1 for comments about saftey sentiments, or 0 for comments not about safety sentiments"
   ]
  },
  {
   "cell_type": "code",
   "execution_count": null,
   "metadata": {},
   "outputs": [],
   "source": [
    "coded"
   ]
  },
  {
   "cell_type": "code",
   "execution_count": 922,
   "metadata": {},
   "outputs": [
    {
     "data": {
      "text/plain": [
       "code\n",
       "1    26\n",
       "0    26\n",
       "Name: count, dtype: int64"
      ]
     },
     "execution_count": 922,
     "metadata": {},
     "output_type": "execute_result"
    }
   ],
   "source": [
    "coded[\"code\"].value_counts()"
   ]
  },
  {
   "cell_type": "code",
   "execution_count": 924,
   "metadata": {},
   "outputs": [],
   "source": [
    "coded.to_csv(\"./data/\"+\"washington_dc_comments_CODED_SET.csv\")"
   ]
  },
  {
   "cell_type": "code",
   "execution_count": null,
   "metadata": {},
   "outputs": [],
   "source": []
  }
 ],
 "metadata": {
  "kernelspec": {
   "display_name": "base",
   "language": "python",
   "name": "python3"
  },
  "language_info": {
   "codemirror_mode": {
    "name": "ipython",
    "version": 3
   },
   "file_extension": ".py",
   "mimetype": "text/x-python",
   "name": "python",
   "nbconvert_exporter": "python",
   "pygments_lexer": "ipython3",
   "version": "3.12.4"
  }
 },
 "nbformat": 4,
 "nbformat_minor": 2
}
