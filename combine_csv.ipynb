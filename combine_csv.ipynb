{
 "cells": [
  {
   "cell_type": "markdown",
   "id": "f66f883c-04c7-492e-a993-5d3720fc5208",
   "metadata": {},
   "source": [
    "### Used to combine csv files with nan"
   ]
  },
  {
   "cell_type": "code",
   "execution_count": 2,
   "id": "bd416c3a-b408-42e3-8c01-5204bc3790df",
   "metadata": {},
   "outputs": [],
   "source": [
    "import pandas as pd\n",
    "import numpy as np"
   ]
  },
  {
   "cell_type": "code",
   "execution_count": 6,
   "id": "af6c345d-ac4f-4dd4-8f69-de9fc851a37b",
   "metadata": {},
   "outputs": [],
   "source": [
    "gpt_1 = pd.read_csv(\"./data/reddit/gpt_output_15000_19999.csv\")\n",
    "gpt_2 = pd.read_csv(\"./data/reddit/gpt_output_20000_24999.csv\")\n",
    "gpt_3 = pd.read_csv(\"./data/reddit/gpt_output_25000_29999.csv\")\n",
    "gpt_4 = pd.read_csv(\"./data/reddit/gpt_output_30000_34999.csv\")"
   ]
  },
  {
   "cell_type": "code",
   "execution_count": 16,
   "id": "87d2b97c-d050-4fe9-9e9f-84cecbe2c420",
   "metadata": {},
   "outputs": [],
   "source": [
    "gpt_1_nan = gpt_1[gpt_1['gpt_output'].isna()]\n",
    "gpt_2_nan = gpt_2[gpt_2['gpt_output'].isna()]\n",
    "gpt_3_nan = gpt_3[gpt_3['gpt_output'].isna()]\n",
    "gpt_4_nan = gpt_4[gpt_4['gpt_output'].isna()]"
   ]
  },
  {
   "cell_type": "code",
   "execution_count": 14,
   "id": "9bde044e-9f73-4bba-9ca2-8f65e0cfcbb5",
   "metadata": {},
   "outputs": [
    {
     "data": {
      "text/html": [
       "<div>\n",
       "<style scoped>\n",
       "    .dataframe tbody tr th:only-of-type {\n",
       "        vertical-align: middle;\n",
       "    }\n",
       "\n",
       "    .dataframe tbody tr th {\n",
       "        vertical-align: top;\n",
       "    }\n",
       "\n",
       "    .dataframe thead th {\n",
       "        text-align: right;\n",
       "    }\n",
       "</style>\n",
       "<table border=\"1\" class=\"dataframe\">\n",
       "  <thead>\n",
       "    <tr style=\"text-align: right;\">\n",
       "      <th></th>\n",
       "      <th>comment_id</th>\n",
       "      <th>submission_id</th>\n",
       "      <th>author</th>\n",
       "      <th>body</th>\n",
       "      <th>score</th>\n",
       "      <th>year</th>\n",
       "      <th>month</th>\n",
       "      <th>subreddit</th>\n",
       "      <th>type</th>\n",
       "      <th>gpt_output</th>\n",
       "    </tr>\n",
       "  </thead>\n",
       "  <tbody>\n",
       "    <tr>\n",
       "      <th>1814</th>\n",
       "      <td>lp3lu15</td>\n",
       "      <td>1fpo3o7</td>\n",
       "      <td>Billster25</td>\n",
       "      <td>https://mpdc.dc.gov/publication/application-co...</td>\n",
       "      <td>1</td>\n",
       "      <td>2024</td>\n",
       "      <td>9</td>\n",
       "      <td>2</td>\n",
       "      <td>1</td>\n",
       "      <td>NaN</td>\n",
       "    </tr>\n",
       "    <tr>\n",
       "      <th>1815</th>\n",
       "      <td>lp6tkhq</td>\n",
       "      <td>1fpo3o7</td>\n",
       "      <td>plausiblyridiculous</td>\n",
       "      <td>I’m sorry this happened to you. There definite...</td>\n",
       "      <td>1</td>\n",
       "      <td>2024</td>\n",
       "      <td>9</td>\n",
       "      <td>2</td>\n",
       "      <td>1</td>\n",
       "      <td>NaN</td>\n",
       "    </tr>\n",
       "    <tr>\n",
       "      <th>1816</th>\n",
       "      <td>lp7wlje</td>\n",
       "      <td>1fpo3o7</td>\n",
       "      <td>SimpleBeginning5202</td>\n",
       "      <td>I’m not sure if pepper spray is a good idea al...</td>\n",
       "      <td>1</td>\n",
       "      <td>2024</td>\n",
       "      <td>9</td>\n",
       "      <td>2</td>\n",
       "      <td>1</td>\n",
       "      <td>NaN</td>\n",
       "    </tr>\n",
       "    <tr>\n",
       "      <th>1817</th>\n",
       "      <td>lp8wdmd</td>\n",
       "      <td>1fpo3o7</td>\n",
       "      <td>Livbrielle26</td>\n",
       "      <td>Keep pepper spray somewhere easily accessible....</td>\n",
       "      <td>1</td>\n",
       "      <td>2024</td>\n",
       "      <td>9</td>\n",
       "      <td>2</td>\n",
       "      <td>1</td>\n",
       "      <td>NaN</td>\n",
       "    </tr>\n",
       "    <tr>\n",
       "      <th>1818</th>\n",
       "      <td>lp1k3p6</td>\n",
       "      <td>1fpo3o7</td>\n",
       "      <td>MargaritaBar</td>\n",
       "      <td>Girl, I’ve lived in MVT for a month now and I ...</td>\n",
       "      <td>1</td>\n",
       "      <td>2024</td>\n",
       "      <td>9</td>\n",
       "      <td>2</td>\n",
       "      <td>1</td>\n",
       "      <td>NaN</td>\n",
       "    </tr>\n",
       "  </tbody>\n",
       "</table>\n",
       "</div>"
      ],
      "text/plain": [
       "     comment_id submission_id               author  \\\n",
       "1814    lp3lu15       1fpo3o7           Billster25   \n",
       "1815    lp6tkhq       1fpo3o7  plausiblyridiculous   \n",
       "1816    lp7wlje       1fpo3o7  SimpleBeginning5202   \n",
       "1817    lp8wdmd       1fpo3o7         Livbrielle26   \n",
       "1818    lp1k3p6       1fpo3o7         MargaritaBar   \n",
       "\n",
       "                                                   body  score  year  month  \\\n",
       "1814  https://mpdc.dc.gov/publication/application-co...      1  2024      9   \n",
       "1815  I’m sorry this happened to you. There definite...      1  2024      9   \n",
       "1816  I’m not sure if pepper spray is a good idea al...      1  2024      9   \n",
       "1817  Keep pepper spray somewhere easily accessible....      1  2024      9   \n",
       "1818  Girl, I’ve lived in MVT for a month now and I ...      1  2024      9   \n",
       "\n",
       "      subreddit  type gpt_output  \n",
       "1814          2     1        NaN  \n",
       "1815          2     1        NaN  \n",
       "1816          2     1        NaN  \n",
       "1817          2     1        NaN  \n",
       "1818          2     1        NaN  "
      ]
     },
     "execution_count": 14,
     "metadata": {},
     "output_type": "execute_result"
    }
   ],
   "source": [
    "gpt_1_nan.head()"
   ]
  },
  {
   "cell_type": "code",
   "execution_count": 18,
   "id": "4401f10b-6512-485c-8c2e-09f947e600ff",
   "metadata": {},
   "outputs": [],
   "source": [
    "new_combined_df = pd.concat([gpt_1_nan, gpt_2_nan, gpt_3_nan, gpt_4_nan])"
   ]
  },
  {
   "cell_type": "code",
   "execution_count": 22,
   "id": "30739955-c8b1-475b-9e5f-9e7d74615400",
   "metadata": {},
   "outputs": [
    {
     "data": {
      "text/plain": [
       "(13070, 10)"
      ]
     },
     "execution_count": 22,
     "metadata": {},
     "output_type": "execute_result"
    }
   ],
   "source": [
    "new_combined_df.shape"
   ]
  },
  {
   "cell_type": "code",
   "execution_count": 26,
   "id": "f3fdfbfc-fa8e-4794-8d55-07b4e874c0ca",
   "metadata": {},
   "outputs": [],
   "source": [
    "final_combined_df = new_combined_df[['comment_id', 'submission_id', 'author', 'body', 'score', 'year', 'month', 'subreddit', 'type']]"
   ]
  },
  {
   "cell_type": "code",
   "execution_count": 28,
   "id": "5d23ca4a-ea81-4bd0-9e4a-57cc3883609b",
   "metadata": {},
   "outputs": [
    {
     "data": {
      "text/html": [
       "<div>\n",
       "<style scoped>\n",
       "    .dataframe tbody tr th:only-of-type {\n",
       "        vertical-align: middle;\n",
       "    }\n",
       "\n",
       "    .dataframe tbody tr th {\n",
       "        vertical-align: top;\n",
       "    }\n",
       "\n",
       "    .dataframe thead th {\n",
       "        text-align: right;\n",
       "    }\n",
       "</style>\n",
       "<table border=\"1\" class=\"dataframe\">\n",
       "  <thead>\n",
       "    <tr style=\"text-align: right;\">\n",
       "      <th></th>\n",
       "      <th>comment_id</th>\n",
       "      <th>submission_id</th>\n",
       "      <th>author</th>\n",
       "      <th>body</th>\n",
       "      <th>score</th>\n",
       "      <th>year</th>\n",
       "      <th>month</th>\n",
       "      <th>subreddit</th>\n",
       "      <th>type</th>\n",
       "    </tr>\n",
       "  </thead>\n",
       "  <tbody>\n",
       "    <tr>\n",
       "      <th>1814</th>\n",
       "      <td>lp3lu15</td>\n",
       "      <td>1fpo3o7</td>\n",
       "      <td>Billster25</td>\n",
       "      <td>https://mpdc.dc.gov/publication/application-co...</td>\n",
       "      <td>1</td>\n",
       "      <td>2024</td>\n",
       "      <td>9</td>\n",
       "      <td>2</td>\n",
       "      <td>1</td>\n",
       "    </tr>\n",
       "    <tr>\n",
       "      <th>1815</th>\n",
       "      <td>lp6tkhq</td>\n",
       "      <td>1fpo3o7</td>\n",
       "      <td>plausiblyridiculous</td>\n",
       "      <td>I’m sorry this happened to you. There definite...</td>\n",
       "      <td>1</td>\n",
       "      <td>2024</td>\n",
       "      <td>9</td>\n",
       "      <td>2</td>\n",
       "      <td>1</td>\n",
       "    </tr>\n",
       "    <tr>\n",
       "      <th>1816</th>\n",
       "      <td>lp7wlje</td>\n",
       "      <td>1fpo3o7</td>\n",
       "      <td>SimpleBeginning5202</td>\n",
       "      <td>I’m not sure if pepper spray is a good idea al...</td>\n",
       "      <td>1</td>\n",
       "      <td>2024</td>\n",
       "      <td>9</td>\n",
       "      <td>2</td>\n",
       "      <td>1</td>\n",
       "    </tr>\n",
       "    <tr>\n",
       "      <th>1817</th>\n",
       "      <td>lp8wdmd</td>\n",
       "      <td>1fpo3o7</td>\n",
       "      <td>Livbrielle26</td>\n",
       "      <td>Keep pepper spray somewhere easily accessible....</td>\n",
       "      <td>1</td>\n",
       "      <td>2024</td>\n",
       "      <td>9</td>\n",
       "      <td>2</td>\n",
       "      <td>1</td>\n",
       "    </tr>\n",
       "    <tr>\n",
       "      <th>1818</th>\n",
       "      <td>lp1k3p6</td>\n",
       "      <td>1fpo3o7</td>\n",
       "      <td>MargaritaBar</td>\n",
       "      <td>Girl, I’ve lived in MVT for a month now and I ...</td>\n",
       "      <td>1</td>\n",
       "      <td>2024</td>\n",
       "      <td>9</td>\n",
       "      <td>2</td>\n",
       "      <td>1</td>\n",
       "    </tr>\n",
       "  </tbody>\n",
       "</table>\n",
       "</div>"
      ],
      "text/plain": [
       "     comment_id submission_id               author  \\\n",
       "1814    lp3lu15       1fpo3o7           Billster25   \n",
       "1815    lp6tkhq       1fpo3o7  plausiblyridiculous   \n",
       "1816    lp7wlje       1fpo3o7  SimpleBeginning5202   \n",
       "1817    lp8wdmd       1fpo3o7         Livbrielle26   \n",
       "1818    lp1k3p6       1fpo3o7         MargaritaBar   \n",
       "\n",
       "                                                   body  score  year  month  \\\n",
       "1814  https://mpdc.dc.gov/publication/application-co...      1  2024      9   \n",
       "1815  I’m sorry this happened to you. There definite...      1  2024      9   \n",
       "1816  I’m not sure if pepper spray is a good idea al...      1  2024      9   \n",
       "1817  Keep pepper spray somewhere easily accessible....      1  2024      9   \n",
       "1818  Girl, I’ve lived in MVT for a month now and I ...      1  2024      9   \n",
       "\n",
       "      subreddit  type  \n",
       "1814          2     1  \n",
       "1815          2     1  \n",
       "1816          2     1  \n",
       "1817          2     1  \n",
       "1818          2     1  "
      ]
     },
     "execution_count": 28,
     "metadata": {},
     "output_type": "execute_result"
    }
   ],
   "source": [
    "final_combined_df.head()"
   ]
  },
  {
   "cell_type": "code",
   "execution_count": 30,
   "id": "8a646ac8-a143-4933-8058-6da1b3f67763",
   "metadata": {},
   "outputs": [],
   "source": [
    "final_combined_df.to_csv(\"./data/reddit/gpt_to_code\")"
   ]
  },
  {
   "cell_type": "code",
   "execution_count": null,
   "id": "d7e0a9e8-9521-44e0-9288-3c97c39502c4",
   "metadata": {},
   "outputs": [],
   "source": []
  }
 ],
 "metadata": {
  "kernelspec": {
   "display_name": "Python 3 (ipykernel)",
   "language": "python",
   "name": "python3"
  },
  "language_info": {
   "codemirror_mode": {
    "name": "ipython",
    "version": 3
   },
   "file_extension": ".py",
   "mimetype": "text/x-python",
   "name": "python",
   "nbconvert_exporter": "python",
   "pygments_lexer": "ipython3",
   "version": "3.12.4"
  }
 },
 "nbformat": 4,
 "nbformat_minor": 5
}
