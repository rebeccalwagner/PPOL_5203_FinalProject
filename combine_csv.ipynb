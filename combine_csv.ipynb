{
 "cells": [
  {
   "cell_type": "markdown",
   "id": "f66f883c-04c7-492e-a993-5d3720fc5208",
   "metadata": {},
   "source": [
    "### Used to combine csv files with nan"
   ]
  },
  {
   "cell_type": "code",
   "execution_count": 2,
   "id": "bd416c3a-b408-42e3-8c01-5204bc3790df",
   "metadata": {},
   "outputs": [],
   "source": [
    "##setup\n",
    "import pandas as pd\n",
    "import numpy as np"
   ]
  },
  {
   "cell_type": "code",
   "execution_count": 64,
   "id": "ff0203d4-2613-4d95-a548-2c51fe54be08",
   "metadata": {},
   "outputs": [],
   "source": [
    "##function to get just nan values from a csv\n",
    "def split_csv(csv_file):\n",
    "    gpt_csv = pd.read_csv(csv_file)\n",
    "    gpt_csv_nan = gpt_csv[gpt_csv['gpt_output'].isna()]\n",
    "    return gpt_csv_nan   "
   ]
  },
  {
   "cell_type": "code",
   "execution_count": 72,
   "id": "a3e76d4d-e613-4320-bf71-2786f9e306ab",
   "metadata": {},
   "outputs": [],
   "source": [
    "##function to get all non nan values from csv\n",
    "def split_csv_not_nan(csv):\n",
    "    gpt_csv = pd.read_csv(csv)\n",
    "    gpt_csv_not_nan = gpt_csv[~pd.isna(gpt_csv['gpt_output'])]\n",
    "    return gpt_csv_not_nan      "
   ]
  },
  {
   "cell_type": "code",
   "execution_count": 86,
   "id": "88c7d5e9-4cab-49a4-a120-eb5ce093e4b7",
   "metadata": {},
   "outputs": [],
   "source": [
    "##combine two dataframes that have just nan in the gpt_output column and return a dataframe without gpt_output\n",
    "def combine_nan_csv(df1, df2):\n",
    "    new_combined_df = pd.concat([df1, df2])\n",
    "    final_nan_df = new_combined_df[['comment_id', 'submission_id', 'author', 'body', 'score', 'year', 'month', 'subreddit', 'type']]\n",
    "    return final_nan_df"
   ]
  },
  {
   "cell_type": "code",
   "execution_count": 58,
   "id": "3d00fd46-f344-4fe6-b85b-0e6121305834",
   "metadata": {},
   "outputs": [],
   "source": [
    "##function to combine two dataframes with nans removed from gpt_output column\n",
    "def combine_not_nan_csv(df1, df2):\n",
    "    not_nan_combined_df = pd.concat([df1, df2])\n",
    "    return not_nan_combined_df"
   ]
  },
  {
   "cell_type": "code",
   "execution_count": 74,
   "id": "af6c345d-ac4f-4dd4-8f69-de9fc851a37b",
   "metadata": {},
   "outputs": [],
   "source": [
    "##get nan and not nan dataframes for first csv\n",
    "gpt_1_nan = split_csv(\"./data/reddit/gpt_output_new10000_14999.csv\")\n",
    "gpt_1_not_nan = split_csv_not_nan(\"./data/reddit/gpt_output_new10000_14999.csv\")"
   ]
  },
  {
   "cell_type": "code",
   "execution_count": 76,
   "id": "5f6f1eaf-febb-4371-ac49-ed67ca8fd651",
   "metadata": {},
   "outputs": [],
   "source": [
    "##get nan and not nan dataframes for second csv\n",
    "gpt_2_nan = split_csv(\"./data/reddit/gpt_output_new15000_19999.csv\")\n",
    "gpt_2_not_nan = split_csv_not_nan(\"./data/reddit/gpt_output_new15000_19999.csv\")"
   ]
  },
  {
   "cell_type": "code",
   "execution_count": 88,
   "id": "70db1b1a-3c30-40d5-b966-ae3f2e8dbd47",
   "metadata": {},
   "outputs": [],
   "source": [
    "##combine nan dataframes\n",
    "combined_nan = combine_nan_csv(gpt_1_nan, gpt_2_nan)"
   ]
  },
  {
   "cell_type": "code",
   "execution_count": 80,
   "id": "adaa05dc-ca50-4edf-805c-a9d8f576acab",
   "metadata": {},
   "outputs": [],
   "source": [
    "##combine not nan dataframes\n",
    "combined_not_nan = combine_not_nan_csv(gpt_1_not_nan, gpt_2_not_nan)"
   ]
  },
  {
   "cell_type": "code",
   "execution_count": 90,
   "id": "252b3030-3ce6-4a41-b2a3-604d136df2dd",
   "metadata": {},
   "outputs": [
    {
     "data": {
      "text/html": [
       "<div>\n",
       "<style scoped>\n",
       "    .dataframe tbody tr th:only-of-type {\n",
       "        vertical-align: middle;\n",
       "    }\n",
       "\n",
       "    .dataframe tbody tr th {\n",
       "        vertical-align: top;\n",
       "    }\n",
       "\n",
       "    .dataframe thead th {\n",
       "        text-align: right;\n",
       "    }\n",
       "</style>\n",
       "<table border=\"1\" class=\"dataframe\">\n",
       "  <thead>\n",
       "    <tr style=\"text-align: right;\">\n",
       "      <th></th>\n",
       "      <th>comment_id</th>\n",
       "      <th>submission_id</th>\n",
       "      <th>author</th>\n",
       "      <th>body</th>\n",
       "      <th>score</th>\n",
       "      <th>year</th>\n",
       "      <th>month</th>\n",
       "      <th>subreddit</th>\n",
       "      <th>type</th>\n",
       "    </tr>\n",
       "  </thead>\n",
       "  <tbody>\n",
       "    <tr>\n",
       "      <th>1962</th>\n",
       "      <td>h2b5soi</td>\n",
       "      <td>o374jc</td>\n",
       "      <td>chefr89</td>\n",
       "      <td>Ah yes because the situations described above ...</td>\n",
       "      <td>7</td>\n",
       "      <td>2021</td>\n",
       "      <td>6</td>\n",
       "      <td>2</td>\n",
       "      <td>1</td>\n",
       "    </tr>\n",
       "    <tr>\n",
       "      <th>1963</th>\n",
       "      <td>h2aivut</td>\n",
       "      <td>o374jc</td>\n",
       "      <td>brienneofbark</td>\n",
       "      <td>I'm not from DC, but I grew up in Oakland and ...</td>\n",
       "      <td>57</td>\n",
       "      <td>2021</td>\n",
       "      <td>6</td>\n",
       "      <td>2</td>\n",
       "      <td>1</td>\n",
       "    </tr>\n",
       "    <tr>\n",
       "      <th>1964</th>\n",
       "      <td>h2aj870</td>\n",
       "      <td>o374jc</td>\n",
       "      <td>brienneofbark</td>\n",
       "      <td>Dude obviously this is better than shooting, r...</td>\n",
       "      <td>42</td>\n",
       "      <td>2021</td>\n",
       "      <td>6</td>\n",
       "      <td>2</td>\n",
       "      <td>1</td>\n",
       "    </tr>\n",
       "    <tr>\n",
       "      <th>1965</th>\n",
       "      <td>h2aord3</td>\n",
       "      <td>o374jc</td>\n",
       "      <td>snow_squash7</td>\n",
       "      <td>I grew up in Istanbul with a population of 15 ...</td>\n",
       "      <td>33</td>\n",
       "      <td>2021</td>\n",
       "      <td>6</td>\n",
       "      <td>2</td>\n",
       "      <td>1</td>\n",
       "    </tr>\n",
       "    <tr>\n",
       "      <th>1966</th>\n",
       "      <td>h2ajdcs</td>\n",
       "      <td>o374jc</td>\n",
       "      <td>JHG0</td>\n",
       "      <td>So you are saying it is preferential that thes...</td>\n",
       "      <td>37</td>\n",
       "      <td>2021</td>\n",
       "      <td>6</td>\n",
       "      <td>2</td>\n",
       "      <td>1</td>\n",
       "    </tr>\n",
       "  </tbody>\n",
       "</table>\n",
       "</div>"
      ],
      "text/plain": [
       "     comment_id submission_id         author  \\\n",
       "1962    h2b5soi        o374jc        chefr89   \n",
       "1963    h2aivut        o374jc  brienneofbark   \n",
       "1964    h2aj870        o374jc  brienneofbark   \n",
       "1965    h2aord3        o374jc   snow_squash7   \n",
       "1966    h2ajdcs        o374jc           JHG0   \n",
       "\n",
       "                                                   body  score  year  month  \\\n",
       "1962  Ah yes because the situations described above ...      7  2021      6   \n",
       "1963  I'm not from DC, but I grew up in Oakland and ...     57  2021      6   \n",
       "1964  Dude obviously this is better than shooting, r...     42  2021      6   \n",
       "1965  I grew up in Istanbul with a population of 15 ...     33  2021      6   \n",
       "1966  So you are saying it is preferential that thes...     37  2021      6   \n",
       "\n",
       "      subreddit  type  \n",
       "1962          2     1  \n",
       "1963          2     1  \n",
       "1964          2     1  \n",
       "1965          2     1  \n",
       "1966          2     1  "
      ]
     },
     "execution_count": 90,
     "metadata": {},
     "output_type": "execute_result"
    }
   ],
   "source": [
    "##show first few rows of nan df\n",
    "combined_nan.head()"
   ]
  },
  {
   "cell_type": "code",
   "execution_count": 92,
   "id": "c8ed99ac-c075-4e44-94d0-cf4e96b93265",
   "metadata": {},
   "outputs": [
    {
     "data": {
      "text/html": [
       "<div>\n",
       "<style scoped>\n",
       "    .dataframe tbody tr th:only-of-type {\n",
       "        vertical-align: middle;\n",
       "    }\n",
       "\n",
       "    .dataframe tbody tr th {\n",
       "        vertical-align: top;\n",
       "    }\n",
       "\n",
       "    .dataframe thead th {\n",
       "        text-align: right;\n",
       "    }\n",
       "</style>\n",
       "<table border=\"1\" class=\"dataframe\">\n",
       "  <thead>\n",
       "    <tr style=\"text-align: right;\">\n",
       "      <th></th>\n",
       "      <th>comment_id</th>\n",
       "      <th>submission_id</th>\n",
       "      <th>author</th>\n",
       "      <th>body</th>\n",
       "      <th>score</th>\n",
       "      <th>year</th>\n",
       "      <th>month</th>\n",
       "      <th>subreddit</th>\n",
       "      <th>type</th>\n",
       "      <th>gpt_output</th>\n",
       "    </tr>\n",
       "  </thead>\n",
       "  <tbody>\n",
       "    <tr>\n",
       "      <th>0</th>\n",
       "      <td>lpjze5m</td>\n",
       "      <td>1fsc447</td>\n",
       "      <td>msussmania</td>\n",
       "      <td>Yes, we ride monthly. More details at hillfami...</td>\n",
       "      <td>6</td>\n",
       "      <td>2024</td>\n",
       "      <td>9</td>\n",
       "      <td>2</td>\n",
       "      <td>1</td>\n",
       "      <td>0</td>\n",
       "    </tr>\n",
       "    <tr>\n",
       "      <th>1</th>\n",
       "      <td>lpjjjig</td>\n",
       "      <td>1fsc447</td>\n",
       "      <td>CriticalStrawberry</td>\n",
       "      <td>These are neighborhood rides hosted by \"Hill F...</td>\n",
       "      <td>8</td>\n",
       "      <td>2024</td>\n",
       "      <td>9</td>\n",
       "      <td>2</td>\n",
       "      <td>1</td>\n",
       "      <td>0</td>\n",
       "    </tr>\n",
       "    <tr>\n",
       "      <th>2</th>\n",
       "      <td>lpjz40q</td>\n",
       "      <td>1fsc447</td>\n",
       "      <td>msussmania</td>\n",
       "      <td>Depends on what you're looking for. Capital Bi...</td>\n",
       "      <td>6</td>\n",
       "      <td>2024</td>\n",
       "      <td>9</td>\n",
       "      <td>2</td>\n",
       "      <td>1</td>\n",
       "      <td>0</td>\n",
       "    </tr>\n",
       "    <tr>\n",
       "      <th>3</th>\n",
       "      <td>lpnvz9j</td>\n",
       "      <td>1fsc447</td>\n",
       "      <td>PolycultureBoy</td>\n",
       "      <td>I think we need more bike-ped only streets. So...</td>\n",
       "      <td>3</td>\n",
       "      <td>2024</td>\n",
       "      <td>9</td>\n",
       "      <td>2</td>\n",
       "      <td>1</td>\n",
       "      <td>0</td>\n",
       "    </tr>\n",
       "    <tr>\n",
       "      <th>4</th>\n",
       "      <td>lpqcxtp</td>\n",
       "      <td>1fsc447</td>\n",
       "      <td>Formergr</td>\n",
       "      <td>I lived on this street a few years ago, it's s...</td>\n",
       "      <td>3</td>\n",
       "      <td>2024</td>\n",
       "      <td>9</td>\n",
       "      <td>2</td>\n",
       "      <td>1</td>\n",
       "      <td>1, 10</td>\n",
       "    </tr>\n",
       "  </tbody>\n",
       "</table>\n",
       "</div>"
      ],
      "text/plain": [
       "  comment_id submission_id              author  \\\n",
       "0    lpjze5m       1fsc447          msussmania   \n",
       "1    lpjjjig       1fsc447  CriticalStrawberry   \n",
       "2    lpjz40q       1fsc447          msussmania   \n",
       "3    lpnvz9j       1fsc447      PolycultureBoy   \n",
       "4    lpqcxtp       1fsc447            Formergr   \n",
       "\n",
       "                                                body  score  year  month  \\\n",
       "0  Yes, we ride monthly. More details at hillfami...      6  2024      9   \n",
       "1  These are neighborhood rides hosted by \"Hill F...      8  2024      9   \n",
       "2  Depends on what you're looking for. Capital Bi...      6  2024      9   \n",
       "3  I think we need more bike-ped only streets. So...      3  2024      9   \n",
       "4  I lived on this street a few years ago, it's s...      3  2024      9   \n",
       "\n",
       "   subreddit  type gpt_output  \n",
       "0          2     1          0  \n",
       "1          2     1          0  \n",
       "2          2     1          0  \n",
       "3          2     1          0  \n",
       "4          2     1      1, 10  "
      ]
     },
     "execution_count": 92,
     "metadata": {},
     "output_type": "execute_result"
    }
   ],
   "source": [
    "##show first few rows of not nan df\n",
    "combined_not_nan.head()"
   ]
  },
  {
   "cell_type": "code",
   "execution_count": 94,
   "id": "d2d7108f-b2f8-49b4-ae1a-3cae725628de",
   "metadata": {},
   "outputs": [],
   "source": [
    "##nan dataframe to csv to be used to code in gpt model\n",
    "combined_nan.to_csv(\"./data/reddit/gpt_to_code_new.csv\")"
   ]
  },
  {
   "cell_type": "code",
   "execution_count": 96,
   "id": "567a916a-a654-4e77-9dce-41330ce01d19",
   "metadata": {},
   "outputs": [],
   "source": [
    "##not nan df that has been coded and can be saved\n",
    "combined_not_nan.to_csv(\"./data/reddit/gpt_output_coded/gpt_ratelimit_coded2.csv\")"
   ]
  },
  {
   "cell_type": "markdown",
   "id": "6a5af258-f9b9-47ef-a615-4d5973528b00",
   "metadata": {},
   "source": [
    "### Trial combining"
   ]
  },
  {
   "cell_type": "code",
   "execution_count": 16,
   "id": "87d2b97c-d050-4fe9-9e9f-84cecbe2c420",
   "metadata": {},
   "outputs": [],
   "source": [
    "gpt_1_nan = gpt_1[gpt_1['gpt_output'].isna()]\n",
    "gpt_2_nan = gpt_2[gpt_2['gpt_output'].isna()]\n",
    "gpt_3_nan = gpt_3[gpt_3['gpt_output'].isna()]\n",
    "gpt_4_nan = gpt_4[gpt_4['gpt_output'].isna()]"
   ]
  },
  {
   "cell_type": "code",
   "execution_count": 38,
   "id": "ca64cbd2-1b3d-4010-a619-6c1f82de0f9b",
   "metadata": {},
   "outputs": [],
   "source": [
    "gpt_1_not_nan = gpt_1[~pd.isna(gpt_1['gpt_output'])]\n",
    "gpt_2_not_nan = gpt_2[~pd.isna(gpt_2['gpt_output'])]\n",
    "gpt_3_not_nan = gpt_3[~pd.isna(gpt_3['gpt_output'])]\n",
    "gpt_4_not_nan = gpt_4[~pd.isna(gpt_4['gpt_output'])]"
   ]
  },
  {
   "cell_type": "code",
   "execution_count": 40,
   "id": "9bde044e-9f73-4bba-9ca2-8f65e0cfcbb5",
   "metadata": {},
   "outputs": [
    {
     "data": {
      "text/html": [
       "<div>\n",
       "<style scoped>\n",
       "    .dataframe tbody tr th:only-of-type {\n",
       "        vertical-align: middle;\n",
       "    }\n",
       "\n",
       "    .dataframe tbody tr th {\n",
       "        vertical-align: top;\n",
       "    }\n",
       "\n",
       "    .dataframe thead th {\n",
       "        text-align: right;\n",
       "    }\n",
       "</style>\n",
       "<table border=\"1\" class=\"dataframe\">\n",
       "  <thead>\n",
       "    <tr style=\"text-align: right;\">\n",
       "      <th></th>\n",
       "      <th>comment_id</th>\n",
       "      <th>submission_id</th>\n",
       "      <th>author</th>\n",
       "      <th>body</th>\n",
       "      <th>score</th>\n",
       "      <th>year</th>\n",
       "      <th>month</th>\n",
       "      <th>subreddit</th>\n",
       "      <th>type</th>\n",
       "      <th>gpt_output</th>\n",
       "    </tr>\n",
       "  </thead>\n",
       "  <tbody>\n",
       "    <tr>\n",
       "      <th>14</th>\n",
       "      <td>iil29kl</td>\n",
       "      <td>wdxz8s</td>\n",
       "      <td>mettahipster</td>\n",
       "      <td>Unconfirmed but KM News is reporting 4-6 peopl...</td>\n",
       "      <td>96</td>\n",
       "      <td>2022</td>\n",
       "      <td>8</td>\n",
       "      <td>2</td>\n",
       "      <td>1</td>\n",
       "      <td>1, 3</td>\n",
       "    </tr>\n",
       "    <tr>\n",
       "      <th>68</th>\n",
       "      <td>iimnhxb</td>\n",
       "      <td>wdxz8s</td>\n",
       "      <td>2Sideburns2</td>\n",
       "      <td>lol cope</td>\n",
       "      <td>9</td>\n",
       "      <td>2022</td>\n",
       "      <td>8</td>\n",
       "      <td>2</td>\n",
       "      <td>1</td>\n",
       "      <td>0</td>\n",
       "    </tr>\n",
       "    <tr>\n",
       "      <th>120</th>\n",
       "      <td>iin405h</td>\n",
       "      <td>wdxz8s</td>\n",
       "      <td>NaN</td>\n",
       "      <td>Paris has a significantly higher overall crime...</td>\n",
       "      <td>14</td>\n",
       "      <td>2022</td>\n",
       "      <td>8</td>\n",
       "      <td>2</td>\n",
       "      <td>1</td>\n",
       "      <td>1, 4</td>\n",
       "    </tr>\n",
       "    <tr>\n",
       "      <th>167</th>\n",
       "      <td>iioy2g9</td>\n",
       "      <td>wdxz8s</td>\n",
       "      <td>NaN</td>\n",
       "      <td>Ok but crime is happening now, this year, plen...</td>\n",
       "      <td>0</td>\n",
       "      <td>2022</td>\n",
       "      <td>8</td>\n",
       "      <td>2</td>\n",
       "      <td>1</td>\n",
       "      <td>0</td>\n",
       "    </tr>\n",
       "    <tr>\n",
       "      <th>220</th>\n",
       "      <td>ihig2ic</td>\n",
       "      <td>w73ol5</td>\n",
       "      <td>_cuppycakes_</td>\n",
       "      <td>Get a free library card at DCPL and neighborin...</td>\n",
       "      <td>29</td>\n",
       "      <td>2022</td>\n",
       "      <td>7</td>\n",
       "      <td>2</td>\n",
       "      <td>1</td>\n",
       "      <td>0</td>\n",
       "    </tr>\n",
       "  </tbody>\n",
       "</table>\n",
       "</div>"
      ],
      "text/plain": [
       "    comment_id submission_id        author  \\\n",
       "14     iil29kl        wdxz8s  mettahipster   \n",
       "68     iimnhxb        wdxz8s   2Sideburns2   \n",
       "120    iin405h        wdxz8s           NaN   \n",
       "167    iioy2g9        wdxz8s           NaN   \n",
       "220    ihig2ic        w73ol5  _cuppycakes_   \n",
       "\n",
       "                                                  body  score  year  month  \\\n",
       "14   Unconfirmed but KM News is reporting 4-6 peopl...     96  2022      8   \n",
       "68                                            lol cope      9  2022      8   \n",
       "120  Paris has a significantly higher overall crime...     14  2022      8   \n",
       "167  Ok but crime is happening now, this year, plen...      0  2022      8   \n",
       "220  Get a free library card at DCPL and neighborin...     29  2022      7   \n",
       "\n",
       "     subreddit  type gpt_output  \n",
       "14           2     1       1, 3  \n",
       "68           2     1          0  \n",
       "120          2     1       1, 4  \n",
       "167          2     1          0  \n",
       "220          2     1          0  "
      ]
     },
     "execution_count": 40,
     "metadata": {},
     "output_type": "execute_result"
    }
   ],
   "source": [
    "gpt_3_not_nan.head()"
   ]
  },
  {
   "cell_type": "code",
   "execution_count": 18,
   "id": "4401f10b-6512-485c-8c2e-09f947e600ff",
   "metadata": {},
   "outputs": [],
   "source": [
    "new_combined_df = pd.concat([gpt_1_nan, gpt_2_nan, gpt_3_nan, gpt_4_nan])"
   ]
  },
  {
   "cell_type": "code",
   "execution_count": 22,
   "id": "30739955-c8b1-475b-9e5f-9e7d74615400",
   "metadata": {},
   "outputs": [
    {
     "data": {
      "text/plain": [
       "(13070, 10)"
      ]
     },
     "execution_count": 22,
     "metadata": {},
     "output_type": "execute_result"
    }
   ],
   "source": [
    "new_combined_df.shape"
   ]
  },
  {
   "cell_type": "code",
   "execution_count": 26,
   "id": "f3fdfbfc-fa8e-4794-8d55-07b4e874c0ca",
   "metadata": {},
   "outputs": [],
   "source": [
    "final_combined_df = new_combined_df[['comment_id', 'submission_id', 'author', 'body', 'score', 'year', 'month', 'subreddit', 'type']]"
   ]
  },
  {
   "cell_type": "code",
   "execution_count": 28,
   "id": "5d23ca4a-ea81-4bd0-9e4a-57cc3883609b",
   "metadata": {},
   "outputs": [
    {
     "data": {
      "text/html": [
       "<div>\n",
       "<style scoped>\n",
       "    .dataframe tbody tr th:only-of-type {\n",
       "        vertical-align: middle;\n",
       "    }\n",
       "\n",
       "    .dataframe tbody tr th {\n",
       "        vertical-align: top;\n",
       "    }\n",
       "\n",
       "    .dataframe thead th {\n",
       "        text-align: right;\n",
       "    }\n",
       "</style>\n",
       "<table border=\"1\" class=\"dataframe\">\n",
       "  <thead>\n",
       "    <tr style=\"text-align: right;\">\n",
       "      <th></th>\n",
       "      <th>comment_id</th>\n",
       "      <th>submission_id</th>\n",
       "      <th>author</th>\n",
       "      <th>body</th>\n",
       "      <th>score</th>\n",
       "      <th>year</th>\n",
       "      <th>month</th>\n",
       "      <th>subreddit</th>\n",
       "      <th>type</th>\n",
       "    </tr>\n",
       "  </thead>\n",
       "  <tbody>\n",
       "    <tr>\n",
       "      <th>1814</th>\n",
       "      <td>lp3lu15</td>\n",
       "      <td>1fpo3o7</td>\n",
       "      <td>Billster25</td>\n",
       "      <td>https://mpdc.dc.gov/publication/application-co...</td>\n",
       "      <td>1</td>\n",
       "      <td>2024</td>\n",
       "      <td>9</td>\n",
       "      <td>2</td>\n",
       "      <td>1</td>\n",
       "    </tr>\n",
       "    <tr>\n",
       "      <th>1815</th>\n",
       "      <td>lp6tkhq</td>\n",
       "      <td>1fpo3o7</td>\n",
       "      <td>plausiblyridiculous</td>\n",
       "      <td>I’m sorry this happened to you. There definite...</td>\n",
       "      <td>1</td>\n",
       "      <td>2024</td>\n",
       "      <td>9</td>\n",
       "      <td>2</td>\n",
       "      <td>1</td>\n",
       "    </tr>\n",
       "    <tr>\n",
       "      <th>1816</th>\n",
       "      <td>lp7wlje</td>\n",
       "      <td>1fpo3o7</td>\n",
       "      <td>SimpleBeginning5202</td>\n",
       "      <td>I’m not sure if pepper spray is a good idea al...</td>\n",
       "      <td>1</td>\n",
       "      <td>2024</td>\n",
       "      <td>9</td>\n",
       "      <td>2</td>\n",
       "      <td>1</td>\n",
       "    </tr>\n",
       "    <tr>\n",
       "      <th>1817</th>\n",
       "      <td>lp8wdmd</td>\n",
       "      <td>1fpo3o7</td>\n",
       "      <td>Livbrielle26</td>\n",
       "      <td>Keep pepper spray somewhere easily accessible....</td>\n",
       "      <td>1</td>\n",
       "      <td>2024</td>\n",
       "      <td>9</td>\n",
       "      <td>2</td>\n",
       "      <td>1</td>\n",
       "    </tr>\n",
       "    <tr>\n",
       "      <th>1818</th>\n",
       "      <td>lp1k3p6</td>\n",
       "      <td>1fpo3o7</td>\n",
       "      <td>MargaritaBar</td>\n",
       "      <td>Girl, I’ve lived in MVT for a month now and I ...</td>\n",
       "      <td>1</td>\n",
       "      <td>2024</td>\n",
       "      <td>9</td>\n",
       "      <td>2</td>\n",
       "      <td>1</td>\n",
       "    </tr>\n",
       "  </tbody>\n",
       "</table>\n",
       "</div>"
      ],
      "text/plain": [
       "     comment_id submission_id               author  \\\n",
       "1814    lp3lu15       1fpo3o7           Billster25   \n",
       "1815    lp6tkhq       1fpo3o7  plausiblyridiculous   \n",
       "1816    lp7wlje       1fpo3o7  SimpleBeginning5202   \n",
       "1817    lp8wdmd       1fpo3o7         Livbrielle26   \n",
       "1818    lp1k3p6       1fpo3o7         MargaritaBar   \n",
       "\n",
       "                                                   body  score  year  month  \\\n",
       "1814  https://mpdc.dc.gov/publication/application-co...      1  2024      9   \n",
       "1815  I’m sorry this happened to you. There definite...      1  2024      9   \n",
       "1816  I’m not sure if pepper spray is a good idea al...      1  2024      9   \n",
       "1817  Keep pepper spray somewhere easily accessible....      1  2024      9   \n",
       "1818  Girl, I’ve lived in MVT for a month now and I ...      1  2024      9   \n",
       "\n",
       "      subreddit  type  \n",
       "1814          2     1  \n",
       "1815          2     1  \n",
       "1816          2     1  \n",
       "1817          2     1  \n",
       "1818          2     1  "
      ]
     },
     "execution_count": 28,
     "metadata": {},
     "output_type": "execute_result"
    }
   ],
   "source": [
    "final_combined_df.head()"
   ]
  },
  {
   "cell_type": "code",
   "execution_count": 32,
   "id": "8a646ac8-a143-4933-8058-6da1b3f67763",
   "metadata": {},
   "outputs": [],
   "source": [
    "final_combined_df.to_csv(\"./data/reddit/gpt_to_code.csv\")"
   ]
  },
  {
   "cell_type": "code",
   "execution_count": 42,
   "id": "d7e0a9e8-9521-44e0-9288-3c97c39502c4",
   "metadata": {},
   "outputs": [],
   "source": [
    "not_nan_combined = pd.concat([gpt_1_not_nan, gpt_2_not_nan, gpt_3_not_nan, gpt_4_not_nan])"
   ]
  },
  {
   "cell_type": "code",
   "execution_count": 44,
   "id": "dc4a7b98-3a75-4b48-9612-a5f1c96fc4dc",
   "metadata": {},
   "outputs": [
    {
     "data": {
      "text/plain": [
       "(2069, 10)"
      ]
     },
     "execution_count": 44,
     "metadata": {},
     "output_type": "execute_result"
    }
   ],
   "source": [
    "not_nan_combined.shape"
   ]
  },
  {
   "cell_type": "code",
   "execution_count": 46,
   "id": "3c4efc54-f9dd-4b1a-97fd-5fec304a8ddb",
   "metadata": {},
   "outputs": [],
   "source": [
    "not_nan_combined.to_csv(\"./data/reddit/gpt_ratelimit_coded.csv\")"
   ]
  },
  {
   "cell_type": "code",
   "execution_count": null,
   "id": "ff78dd7d-18f2-4786-8182-ab9e683dd122",
   "metadata": {},
   "outputs": [],
   "source": []
  }
 ],
 "metadata": {
  "kernelspec": {
   "display_name": "Python 3 (ipykernel)",
   "language": "python",
   "name": "python3"
  },
  "language_info": {
   "codemirror_mode": {
    "name": "ipython",
    "version": 3
   },
   "file_extension": ".py",
   "mimetype": "text/x-python",
   "name": "python",
   "nbconvert_exporter": "python",
   "pygments_lexer": "ipython3",
   "version": "3.12.4"
  }
 },
 "nbformat": 4,
 "nbformat_minor": 5
}
