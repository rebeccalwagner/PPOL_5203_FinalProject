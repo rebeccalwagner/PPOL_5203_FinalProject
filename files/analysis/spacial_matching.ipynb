{
 "cells": [
  {
   "cell_type": "code",
   "execution_count": 2,
   "metadata": {},
   "outputs": [],
   "source": [
    "import geopandas as gpd\n",
    "import pandas as pd"
   ]
  },
  {
   "cell_type": "code",
   "execution_count": 6,
   "metadata": {},
   "outputs": [],
   "source": [
    "zip_codes = gpd.read_file(\"../../data/geospacial/Zip_Codes/Zip_Codes.shp\")\n",
    "neighborhood_clusters = gpd.read_file(\"../../data/geospacial/Neighborhood_Clusters/Neighborhood_Clusters.shp\")"
   ]
  },
  {
   "cell_type": "markdown",
   "metadata": {},
   "source": [
    "### Map neighborhood clusters to zip codes"
   ]
  },
  {
   "cell_type": "code",
   "execution_count": 7,
   "metadata": {},
   "outputs": [],
   "source": [
    "intersection = gpd.overlay(neighborhood_clusters, zip_codes, how='intersection') # get the intersection of zip codes and neighborhood clusters\n",
    "intersection['area'] = intersection.geometry.area # add column to get areas of each intersection"
   ]
  },
  {
   "cell_type": "code",
   "execution_count": 8,
   "metadata": {},
   "outputs": [
    {
     "name": "stderr",
     "output_type": "stream",
     "text": [
      "/var/folders/5c/d2k1t24s5zl213152tpfh6nh0000gn/T/ipykernel_38571/3276486303.py:1: DeprecationWarning: DataFrameGroupBy.apply operated on the grouping columns. This behavior is deprecated, and in a future version of pandas the grouping columns will be excluded from the operation. Either pass `include_groups=False` to exclude the groupings or explicitly select the grouping columns after groupby to silence this warning.\n",
      "  matches = intersection.groupby('NAME_1').apply(lambda x: x.loc[x['area'].idxmax()]).reset_index(drop=True) # keep the column for each niehborhood cluster with the greatest area (the zip code that most fully contains the nieghborhood cluster)\n"
     ]
    }
   ],
   "source": [
    "matches = intersection.groupby('NAME_1').apply(lambda x: x.loc[x['area'].idxmax()]).reset_index(drop=True) # keep the column for each niehborhood cluster with the greatest area (the zip code that most fully contains the nieghborhood cluster)"
   ]
  },
  {
   "cell_type": "code",
   "execution_count": 9,
   "metadata": {},
   "outputs": [
    {
     "data": {
      "text/html": [
       "<div>\n",
       "<style scoped>\n",
       "    .dataframe tbody tr th:only-of-type {\n",
       "        vertical-align: middle;\n",
       "    }\n",
       "\n",
       "    .dataframe tbody tr th {\n",
       "        vertical-align: top;\n",
       "    }\n",
       "\n",
       "    .dataframe thead th {\n",
       "        text-align: right;\n",
       "    }\n",
       "</style>\n",
       "<table border=\"1\" class=\"dataframe\">\n",
       "  <thead>\n",
       "    <tr style=\"text-align: right;\">\n",
       "      <th></th>\n",
       "      <th>NAME_1</th>\n",
       "      <th>ZIPCODE</th>\n",
       "    </tr>\n",
       "  </thead>\n",
       "  <tbody>\n",
       "    <tr>\n",
       "      <th>0</th>\n",
       "      <td>Cluster 1</td>\n",
       "      <td>20009</td>\n",
       "    </tr>\n",
       "    <tr>\n",
       "      <th>1</th>\n",
       "      <td>Cluster 10</td>\n",
       "      <td>20015</td>\n",
       "    </tr>\n",
       "    <tr>\n",
       "      <th>2</th>\n",
       "      <td>Cluster 11</td>\n",
       "      <td>20016</td>\n",
       "    </tr>\n",
       "    <tr>\n",
       "      <th>3</th>\n",
       "      <td>Cluster 12</td>\n",
       "      <td>20008</td>\n",
       "    </tr>\n",
       "    <tr>\n",
       "      <th>4</th>\n",
       "      <td>Cluster 13</td>\n",
       "      <td>20016</td>\n",
       "    </tr>\n",
       "  </tbody>\n",
       "</table>\n",
       "</div>"
      ],
      "text/plain": [
       "       NAME_1  ZIPCODE\n",
       "0   Cluster 1    20009\n",
       "1  Cluster 10    20015\n",
       "2  Cluster 11    20016\n",
       "3  Cluster 12    20008\n",
       "4  Cluster 13    20016"
      ]
     },
     "execution_count": 9,
     "metadata": {},
     "output_type": "execute_result"
    }
   ],
   "source": [
    "cluster_to_zip = matches[[\"NAME_1\",\"ZIPCODE\"]] # the mapping! note that one zip code might contain several clusters \n",
    "cluster_to_zip.head()"
   ]
  },
  {
   "cell_type": "markdown",
   "metadata": {},
   "source": [
    "### Map Neighborhoods to clusters"
   ]
  },
  {
   "cell_type": "code",
   "execution_count": 10,
   "metadata": {},
   "outputs": [],
   "source": [
    "neighborhood_to_cluster = neighborhood_clusters[[\"NAME\",\"NBH_NAMES\"]] # Grab clusters and associated neighborhoods"
   ]
  },
  {
   "cell_type": "code",
   "execution_count": 11,
   "metadata": {},
   "outputs": [
    {
     "name": "stderr",
     "output_type": "stream",
     "text": [
      "/var/folders/5c/d2k1t24s5zl213152tpfh6nh0000gn/T/ipykernel_38571/3712776356.py:1: SettingWithCopyWarning: \n",
      "A value is trying to be set on a copy of a slice from a DataFrame.\n",
      "Try using .loc[row_indexer,col_indexer] = value instead\n",
      "\n",
      "See the caveats in the documentation: https://pandas.pydata.org/pandas-docs/stable/user_guide/indexing.html#returning-a-view-versus-a-copy\n",
      "  neighborhood_to_cluster[\"NBH_NAMES\"] = [x.split(\", \") for x in neighborhood_to_cluster[\"NBH_NAMES\"]] # split into lists\n"
     ]
    }
   ],
   "source": [
    "neighborhood_to_cluster[\"NBH_NAMES\"] = [x.split(\", \") for x in neighborhood_to_cluster[\"NBH_NAMES\"]] # split into lists"
   ]
  },
  {
   "cell_type": "code",
   "execution_count": 12,
   "metadata": {},
   "outputs": [
    {
     "data": {
      "text/html": [
       "<div>\n",
       "<style scoped>\n",
       "    .dataframe tbody tr th:only-of-type {\n",
       "        vertical-align: middle;\n",
       "    }\n",
       "\n",
       "    .dataframe tbody tr th {\n",
       "        vertical-align: top;\n",
       "    }\n",
       "\n",
       "    .dataframe thead th {\n",
       "        text-align: right;\n",
       "    }\n",
       "</style>\n",
       "<table border=\"1\" class=\"dataframe\">\n",
       "  <thead>\n",
       "    <tr style=\"text-align: right;\">\n",
       "      <th></th>\n",
       "      <th>NAME</th>\n",
       "      <th>NBH_NAMES</th>\n",
       "    </tr>\n",
       "  </thead>\n",
       "  <tbody>\n",
       "    <tr>\n",
       "      <th>0</th>\n",
       "      <td>Cluster 16</td>\n",
       "      <td>Colonial Village</td>\n",
       "    </tr>\n",
       "    <tr>\n",
       "      <th>0</th>\n",
       "      <td>Cluster 16</td>\n",
       "      <td>Shepherd Park</td>\n",
       "    </tr>\n",
       "    <tr>\n",
       "      <th>0</th>\n",
       "      <td>Cluster 16</td>\n",
       "      <td>North Portal Estates</td>\n",
       "    </tr>\n",
       "    <tr>\n",
       "      <th>1</th>\n",
       "      <td>Cluster 41</td>\n",
       "      <td>Rock Creek Park</td>\n",
       "    </tr>\n",
       "    <tr>\n",
       "      <th>2</th>\n",
       "      <td>Cluster 10</td>\n",
       "      <td>Hawthorne</td>\n",
       "    </tr>\n",
       "  </tbody>\n",
       "</table>\n",
       "</div>"
      ],
      "text/plain": [
       "         NAME             NBH_NAMES\n",
       "0  Cluster 16      Colonial Village\n",
       "0  Cluster 16         Shepherd Park\n",
       "0  Cluster 16  North Portal Estates\n",
       "1  Cluster 41       Rock Creek Park\n",
       "2  Cluster 10             Hawthorne"
      ]
     },
     "execution_count": 12,
     "metadata": {},
     "output_type": "execute_result"
    }
   ],
   "source": [
    "neighborhood_to_cluster = neighborhood_to_cluster.explode(\"NBH_NAMES\") # explode\n",
    "neighborhood_to_cluster.head()"
   ]
  },
  {
   "cell_type": "markdown",
   "metadata": {},
   "source": [
    "### Join"
   ]
  },
  {
   "cell_type": "code",
   "execution_count": 13,
   "metadata": {},
   "outputs": [],
   "source": [
    "joined = pd.merge(neighborhood_to_cluster,cluster_to_zip,left_on=\"NAME\", right_on=\"NAME_1\",how=\"right\")\n",
    "joined = joined.drop(\"NAME_1\", axis=1)"
   ]
  },
  {
   "cell_type": "markdown",
   "metadata": {},
   "source": [
    "### Save!"
   ]
  },
  {
   "cell_type": "code",
   "execution_count": 14,
   "metadata": {},
   "outputs": [],
   "source": [
    "joined.to_csv(\"../../data/geospacial/geo_matching.csv\",index=False)"
   ]
  }
 ],
 "metadata": {
  "kernelspec": {
   "display_name": "base",
   "language": "python",
   "name": "python3"
  },
  "language_info": {
   "codemirror_mode": {
    "name": "ipython",
    "version": 3
   },
   "file_extension": ".py",
   "mimetype": "text/x-python",
   "name": "python",
   "nbconvert_exporter": "python",
   "pygments_lexer": "ipython3",
   "version": "3.12.4"
  }
 },
 "nbformat": 4,
 "nbformat_minor": 2
}
