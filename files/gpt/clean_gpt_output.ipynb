{
 "cells": [
  {
   "cell_type": "code",
   "execution_count": 1,
   "metadata": {},
   "outputs": [],
   "source": [
    "import pandas as pd"
   ]
  },
  {
   "cell_type": "markdown",
   "metadata": {},
   "source": [
    "## This notebook was used to clean the combined chat gpt output "
   ]
  },
  {
   "cell_type": "markdown",
   "metadata": {},
   "source": [
    "### Import Data"
   ]
  },
  {
   "cell_type": "code",
   "execution_count": 14,
   "metadata": {},
   "outputs": [],
   "source": [
    "# This file has ALL the comments that have been run through chat gpt\n",
    "all_comments = pd.read_csv(\"../../data/reddit/ALL_CODED_COMMENTS.csv\")"
   ]
  },
  {
   "cell_type": "code",
   "execution_count": 15,
   "metadata": {},
   "outputs": [
    {
     "data": {
      "text/plain": [
       "(29261, 10)"
      ]
     },
     "execution_count": 15,
     "metadata": {},
     "output_type": "execute_result"
    }
   ],
   "source": [
    "all_comments.shape"
   ]
  },
  {
   "cell_type": "markdown",
   "metadata": {},
   "source": [
    "### Get Only Relevant Safety Comments\n",
    "As determined by OpenAI"
   ]
  },
  {
   "cell_type": "code",
   "execution_count": 16,
   "metadata": {},
   "outputs": [
    {
     "data": {
      "text/plain": [
       "(6445, 10)"
      ]
     },
     "execution_count": 16,
     "metadata": {},
     "output_type": "execute_result"
    }
   ],
   "source": [
    "# Drop all data with gpt code 0: not safety related\n",
    "safety_comments = all_comments.drop(all_comments[all_comments[\"gpt_output\"] == '0'].index)\n",
    "# How many comments do we have left?\n",
    "safety_comments.shape"
   ]
  },
  {
   "cell_type": "markdown",
   "metadata": {},
   "source": [
    "### Split safety code with sentiment code"
   ]
  },
  {
   "cell_type": "code",
   "execution_count": 17,
   "metadata": {},
   "outputs": [
    {
     "data": {
      "text/plain": [
       "array(['1, 3', '1, 7', '1, 4', '1, 2', '1, 5', '1,2', '1,3', '1, 6',\n",
       "       '1,6', '1, 1', '1, 8', '1,4', '1,5', '1, 9', '1,8', '1,7',\n",
       "       '1  \\n8', '1  \\n4', '1  \\n7', '1  \\n6', '1  \\n3', '1  \\n5',\n",
       "       '1  \\n2', '1  \\n9', '1  \\n10', '1  \\n1', '1, 10'], dtype=object)"
      ]
     },
     "execution_count": 17,
     "metadata": {},
     "output_type": "execute_result"
    }
   ],
   "source": [
    "# See all the different encodings - some use newlines, some commas\n",
    "safety_comments[\"gpt_output\"].unique()"
   ]
  },
  {
   "cell_type": "code",
   "execution_count": 18,
   "metadata": {},
   "outputs": [
    {
     "data": {
      "text/plain": [
       "array(['1  3', '1  7', '1  4', '1  2', '1  5', '1 2', '1 3', '1  6',\n",
       "       '1 6', '1  1', '1  8', '1 4', '1 5', '1  9', '1 8', '1 7', '1 9',\n",
       "       '1 10', '1 1', '1  10'], dtype=object)"
      ]
     },
     "execution_count": 18,
     "metadata": {},
     "output_type": "execute_result"
    }
   ],
   "source": [
    "# replace all the newlines with commas so everything is in the same format\n",
    "safety_comments[\"gpt_output\"] = [str(item).replace('  \\n', ' ') for item in safety_comments[\"gpt_output\"]]\n",
    "# replace all the commas with spaces\n",
    "safety_comments[\"gpt_output\"] = [str(item).replace(',', ' ') for item in safety_comments[\"gpt_output\"]]\n",
    "\n",
    "safety_comments[\"gpt_output\"].unique() # notice some have a space and some dont "
   ]
  },
  {
   "cell_type": "code",
   "execution_count": 19,
   "metadata": {},
   "outputs": [
    {
     "data": {
      "text/plain": [
       "[['1', '', '2'],\n",
       " ['1', '', '4'],\n",
       " ['1', '', '4'],\n",
       " ['1', '', '3'],\n",
       " ['1', '', '3'],\n",
       " ['1', '', '4'],\n",
       " ['1', '', '5'],\n",
       " ['1', '2'],\n",
       " ['1', '3'],\n",
       " ['1', '', '4']]"
      ]
     },
     "execution_count": 19,
     "metadata": {},
     "output_type": "execute_result"
    }
   ],
   "source": [
    "# split the column on commas\n",
    "split_scores = [entry.split(' ') for entry in safety_comments[\"gpt_output\"]]\n",
    "split_scores[10:20]"
   ]
  },
  {
   "cell_type": "markdown",
   "metadata": {},
   "source": [
    "### Grab and Append Safety Sentiment Scores to Safety Comments"
   ]
  },
  {
   "cell_type": "code",
   "execution_count": 20,
   "metadata": {},
   "outputs": [],
   "source": [
    "# Grab only the last item of the split lists\n",
    "sentiments = [int(lst[-1]) for lst in split_scores]"
   ]
  },
  {
   "cell_type": "code",
   "execution_count": 21,
   "metadata": {},
   "outputs": [],
   "source": [
    "# Create new column in dataframe\n",
    "safety_comments[\"sentiment_score\"] = sentiments"
   ]
  },
  {
   "cell_type": "code",
   "execution_count": 22,
   "metadata": {},
   "outputs": [],
   "source": [
    "# Drop gpt output column\n",
    "safety_comments = safety_comments.drop(\"gpt_output\",axis=1)"
   ]
  },
  {
   "cell_type": "markdown",
   "metadata": {},
   "source": [
    "## The Final DataFrame!"
   ]
  },
  {
   "cell_type": "code",
   "execution_count": 23,
   "metadata": {},
   "outputs": [
    {
     "data": {
      "text/html": [
       "<div>\n",
       "<style scoped>\n",
       "    .dataframe tbody tr th:only-of-type {\n",
       "        vertical-align: middle;\n",
       "    }\n",
       "\n",
       "    .dataframe tbody tr th {\n",
       "        vertical-align: top;\n",
       "    }\n",
       "\n",
       "    .dataframe thead th {\n",
       "        text-align: right;\n",
       "    }\n",
       "</style>\n",
       "<table border=\"1\" class=\"dataframe\">\n",
       "  <thead>\n",
       "    <tr style=\"text-align: right;\">\n",
       "      <th></th>\n",
       "      <th>comment_id</th>\n",
       "      <th>submission_id</th>\n",
       "      <th>author</th>\n",
       "      <th>body</th>\n",
       "      <th>score</th>\n",
       "      <th>year</th>\n",
       "      <th>month</th>\n",
       "      <th>subreddit</th>\n",
       "      <th>type</th>\n",
       "      <th>sentiment_score</th>\n",
       "    </tr>\n",
       "  </thead>\n",
       "  <tbody>\n",
       "    <tr>\n",
       "      <th>21</th>\n",
       "      <td>jadntuu</td>\n",
       "      <td>11e8jyj</td>\n",
       "      <td>tehruben</td>\n",
       "      <td>I used to live at 77H and I both loved and hat...</td>\n",
       "      <td>69</td>\n",
       "      <td>2023</td>\n",
       "      <td>2</td>\n",
       "      <td>2</td>\n",
       "      <td>1</td>\n",
       "      <td>3</td>\n",
       "    </tr>\n",
       "    <tr>\n",
       "      <th>28</th>\n",
       "      <td>jadkohn</td>\n",
       "      <td>11e8jyj</td>\n",
       "      <td>Zwicker101</td>\n",
       "      <td>Thats how I felt. Yeah all the people loiterin...</td>\n",
       "      <td>19</td>\n",
       "      <td>2023</td>\n",
       "      <td>2</td>\n",
       "      <td>2</td>\n",
       "      <td>1</td>\n",
       "      <td>7</td>\n",
       "    </tr>\n",
       "    <tr>\n",
       "      <th>40</th>\n",
       "      <td>jagbljj</td>\n",
       "      <td>11e8jyj</td>\n",
       "      <td>UnderwhelmingComment</td>\n",
       "      <td>The city bent over backwards to attract wal ma...</td>\n",
       "      <td>5</td>\n",
       "      <td>2023</td>\n",
       "      <td>3</td>\n",
       "      <td>2</td>\n",
       "      <td>1</td>\n",
       "      <td>4</td>\n",
       "    </tr>\n",
       "    <tr>\n",
       "      <th>52</th>\n",
       "      <td>jadbu2c</td>\n",
       "      <td>11e8jyj</td>\n",
       "      <td>mr_grission</td>\n",
       "      <td>I live in the building and I've been there nea...</td>\n",
       "      <td>11</td>\n",
       "      <td>2023</td>\n",
       "      <td>2</td>\n",
       "      <td>2</td>\n",
       "      <td>1</td>\n",
       "      <td>7</td>\n",
       "    </tr>\n",
       "    <tr>\n",
       "      <th>67</th>\n",
       "      <td>jad6inl</td>\n",
       "      <td>11e8jyj</td>\n",
       "      <td>Zwicker101</td>\n",
       "      <td>Honestly? Probably because of crime</td>\n",
       "      <td>12</td>\n",
       "      <td>2023</td>\n",
       "      <td>2</td>\n",
       "      <td>2</td>\n",
       "      <td>1</td>\n",
       "      <td>2</td>\n",
       "    </tr>\n",
       "  </tbody>\n",
       "</table>\n",
       "</div>"
      ],
      "text/plain": [
       "   comment_id submission_id                author  \\\n",
       "21    jadntuu       11e8jyj              tehruben   \n",
       "28    jadkohn       11e8jyj            Zwicker101   \n",
       "40    jagbljj       11e8jyj  UnderwhelmingComment   \n",
       "52    jadbu2c       11e8jyj           mr_grission   \n",
       "67    jad6inl       11e8jyj            Zwicker101   \n",
       "\n",
       "                                                 body  score  year  month  \\\n",
       "21  I used to live at 77H and I both loved and hat...     69  2023      2   \n",
       "28  Thats how I felt. Yeah all the people loiterin...     19  2023      2   \n",
       "40  The city bent over backwards to attract wal ma...      5  2023      3   \n",
       "52  I live in the building and I've been there nea...     11  2023      2   \n",
       "67                Honestly? Probably because of crime     12  2023      2   \n",
       "\n",
       "    subreddit  type  sentiment_score  \n",
       "21          2     1                3  \n",
       "28          2     1                7  \n",
       "40          2     1                4  \n",
       "52          2     1                7  \n",
       "67          2     1                2  "
      ]
     },
     "execution_count": 23,
     "metadata": {},
     "output_type": "execute_result"
    }
   ],
   "source": [
    "safety_comments.head()"
   ]
  },
  {
   "cell_type": "code",
   "execution_count": 24,
   "metadata": {},
   "outputs": [],
   "source": [
    "# save \n",
    "safety_comments.to_csv(\"../../data/reddit/cleaned_sentiment_data.csv\", index=False)"
   ]
  },
  {
   "cell_type": "code",
   "execution_count": null,
   "metadata": {},
   "outputs": [],
   "source": []
  }
 ],
 "metadata": {
  "kernelspec": {
   "display_name": "base",
   "language": "python",
   "name": "python3"
  },
  "language_info": {
   "codemirror_mode": {
    "name": "ipython",
    "version": 3
   },
   "file_extension": ".py",
   "mimetype": "text/x-python",
   "name": "python",
   "nbconvert_exporter": "python",
   "pygments_lexer": "ipython3",
   "version": "3.12.4"
  }
 },
 "nbformat": 4,
 "nbformat_minor": 2
}
