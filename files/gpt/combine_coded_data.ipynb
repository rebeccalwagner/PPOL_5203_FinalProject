{
 "cells": [
  {
   "cell_type": "code",
   "execution_count": 1,
   "metadata": {},
   "outputs": [],
   "source": [
    "import pandas as pd\n",
    "import os"
   ]
  },
  {
   "cell_type": "markdown",
   "metadata": {},
   "source": [
    "### This notebook combines all the files with batch gpt analysis"
   ]
  },
  {
   "cell_type": "code",
   "execution_count": 11,
   "metadata": {},
   "outputs": [],
   "source": [
    "path = \"./data/reddit/gpt_output_coded\"\n",
    "COLS = [\"comment_id\",\"submission_id\",\"author\",\"body\",\"score\",\"year\",\"month\",\"subreddit\",\"type\",\"gpt_output\"]"
   ]
  },
  {
   "cell_type": "code",
   "execution_count": 12,
   "metadata": {},
   "outputs": [
    {
     "data": {
      "text/plain": [
       "['gpt_ratelimit_coded.csv',\n",
       " 'gpt_output_0_4999.csv',\n",
       " 'gpt_output_new5000_9999.csv',\n",
       " 'gpt_output_10000_14999.csv',\n",
       " 'gpt_ratelimit_coded2.csv',\n",
       " 'gpt_output_5000_9999.csv']"
      ]
     },
     "execution_count": 12,
     "metadata": {},
     "output_type": "execute_result"
    }
   ],
   "source": [
    "files = os.listdir(path)\n",
    "files"
   ]
  },
  {
   "cell_type": "code",
   "execution_count": null,
   "metadata": {},
   "outputs": [],
   "source": [
    "frames = []\n",
    "\n",
    "for file in files:\n",
    "\n",
    "    df = pd.read_csv(path+'/'+file,usecols=COLS)\n",
    "    frames.append(df)\n",
    "\n",
    "combined_df = pd.concat(frames)"
   ]
  },
  {
   "cell_type": "code",
   "execution_count": 27,
   "metadata": {},
   "outputs": [
    {
     "data": {
      "text/html": [
       "<div>\n",
       "<style scoped>\n",
       "    .dataframe tbody tr th:only-of-type {\n",
       "        vertical-align: middle;\n",
       "    }\n",
       "\n",
       "    .dataframe tbody tr th {\n",
       "        vertical-align: top;\n",
       "    }\n",
       "\n",
       "    .dataframe thead th {\n",
       "        text-align: right;\n",
       "    }\n",
       "</style>\n",
       "<table border=\"1\" class=\"dataframe\">\n",
       "  <thead>\n",
       "    <tr style=\"text-align: right;\">\n",
       "      <th></th>\n",
       "      <th>comment_id</th>\n",
       "      <th>submission_id</th>\n",
       "      <th>author</th>\n",
       "      <th>body</th>\n",
       "      <th>score</th>\n",
       "      <th>year</th>\n",
       "      <th>month</th>\n",
       "      <th>subreddit</th>\n",
       "      <th>type</th>\n",
       "      <th>gpt_output</th>\n",
       "    </tr>\n",
       "  </thead>\n",
       "  <tbody>\n",
       "    <tr>\n",
       "      <th>0</th>\n",
       "      <td>jah4fpr</td>\n",
       "      <td>11e8jyj</td>\n",
       "      <td>SquatPraxis</td>\n",
       "      <td>I hate what WalMart did to the small businesse...</td>\n",
       "      <td>2</td>\n",
       "      <td>2023</td>\n",
       "      <td>3</td>\n",
       "      <td>2</td>\n",
       "      <td>1</td>\n",
       "      <td>0</td>\n",
       "    </tr>\n",
       "    <tr>\n",
       "      <th>1</th>\n",
       "      <td>jad0osj</td>\n",
       "      <td>11e8jyj</td>\n",
       "      <td>22304_selling</td>\n",
       "      <td>Ferguson, MO protesters (BLM Phase 1) [called ...</td>\n",
       "      <td>2</td>\n",
       "      <td>2023</td>\n",
       "      <td>2</td>\n",
       "      <td>2</td>\n",
       "      <td>1</td>\n",
       "      <td>0</td>\n",
       "    </tr>\n",
       "    <tr>\n",
       "      <th>2</th>\n",
       "      <td>lhcoy9z</td>\n",
       "      <td>11e8jyj</td>\n",
       "      <td>CockroachDry6222</td>\n",
       "      <td>Every time I need RESOURCES and opportunities ...</td>\n",
       "      <td>1</td>\n",
       "      <td>2024</td>\n",
       "      <td>8</td>\n",
       "      <td>2</td>\n",
       "      <td>1</td>\n",
       "      <td>0</td>\n",
       "    </tr>\n",
       "    <tr>\n",
       "      <th>3</th>\n",
       "      <td>jadcoy0</td>\n",
       "      <td>11e8jyj</td>\n",
       "      <td>damnatio_memoriae</td>\n",
       "      <td>we can only hope</td>\n",
       "      <td>0</td>\n",
       "      <td>2023</td>\n",
       "      <td>2</td>\n",
       "      <td>2</td>\n",
       "      <td>1</td>\n",
       "      <td>0</td>\n",
       "    </tr>\n",
       "    <tr>\n",
       "      <th>4</th>\n",
       "      <td>jade44w</td>\n",
       "      <td>11e8jyj</td>\n",
       "      <td>GamezFrank</td>\n",
       "      <td>Good riddance</td>\n",
       "      <td>0</td>\n",
       "      <td>2023</td>\n",
       "      <td>2</td>\n",
       "      <td>2</td>\n",
       "      <td>1</td>\n",
       "      <td>0</td>\n",
       "    </tr>\n",
       "  </tbody>\n",
       "</table>\n",
       "</div>"
      ],
      "text/plain": [
       "  comment_id submission_id             author  \\\n",
       "0    jah4fpr       11e8jyj        SquatPraxis   \n",
       "1    jad0osj       11e8jyj      22304_selling   \n",
       "2    lhcoy9z       11e8jyj   CockroachDry6222   \n",
       "3    jadcoy0       11e8jyj  damnatio_memoriae   \n",
       "4    jade44w       11e8jyj         GamezFrank   \n",
       "\n",
       "                                                body  score  year  month  \\\n",
       "0  I hate what WalMart did to the small businesse...      2  2023      3   \n",
       "1  Ferguson, MO protesters (BLM Phase 1) [called ...      2  2023      2   \n",
       "2  Every time I need RESOURCES and opportunities ...      1  2024      8   \n",
       "3                                   we can only hope      0  2023      2   \n",
       "4                                      Good riddance      0  2023      2   \n",
       "\n",
       "   subreddit  type gpt_output  \n",
       "0          2     1          0  \n",
       "1          2     1          0  \n",
       "2          2     1          0  \n",
       "3          2     1          0  \n",
       "4          2     1          0  "
      ]
     },
     "execution_count": 27,
     "metadata": {},
     "output_type": "execute_result"
    }
   ],
   "source": [
    "combined_df.head()"
   ]
  },
  {
   "cell_type": "code",
   "execution_count": null,
   "metadata": {},
   "outputs": [],
   "source": [
    "# save!\n",
    "#combined_df.to_csv(\"./data/reddit/ALL_CODED_COMMENTS.csv\")"
   ]
  },
  {
   "cell_type": "code",
   "execution_count": null,
   "metadata": {},
   "outputs": [],
   "source": []
  }
 ],
 "metadata": {
  "kernelspec": {
   "display_name": "base",
   "language": "python",
   "name": "python3"
  },
  "language_info": {
   "codemirror_mode": {
    "name": "ipython",
    "version": 3
   },
   "file_extension": ".py",
   "mimetype": "text/x-python",
   "name": "python",
   "nbconvert_exporter": "python",
   "pygments_lexer": "ipython3",
   "version": "3.12.4"
  }
 },
 "nbformat": 4,
 "nbformat_minor": 2
}
