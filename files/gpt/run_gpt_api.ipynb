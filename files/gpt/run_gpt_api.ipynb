{
 "cells": [
  {
   "cell_type": "code",
   "execution_count": 2,
   "metadata": {},
   "outputs": [],
   "source": [
    "import pandas as pd\n",
    "import requests \n",
    "import numpy as np\n",
    "import time\n",
    "from tqdm import tqdm\n",
    "\n",
    "import warnings\n",
    "warnings.filterwarnings('ignore')"
   ]
  },
  {
   "cell_type": "markdown",
   "metadata": {},
   "source": [
    "### Define Functions"
   ]
  },
  {
   "cell_type": "code",
   "execution_count": 3,
   "metadata": {},
   "outputs": [],
   "source": [
    "##############################################################################################################\n",
    "\n",
    "def clean_gpt_output(output_list):\n",
    "\n",
    "    stripped_list = [str(item).replace('\\n', '') for item in output_list]\n",
    "    filled_list = [entry if entry != '0' else '0 0' for entry in stripped_list]\n",
    "    cleaned_list = [entry.split(' ') for entry in filled_list]\n",
    "\n",
    "    df = pd.DataFrame(cleaned_list, columns=['code', 'sentiment'])\n",
    "\n",
    "    return df\n",
    "\n",
    "##############################################################################################################\n",
    "\n",
    "## function to query a response from Chat GPT\n",
    "def ask_chat(question, api_key):\n",
    "    # define headers\n",
    "    headers = {\n",
    "        \"Authorization\": f\"Bearer {api_key}\",\n",
    "        \"Content-Type\": \"application/json\",\n",
    "    }\n",
    "\n",
    "    info = {\n",
    "     \"model\": \"gpt-4o-mini\",\n",
    "     \"messages\": [{\"role\": \"user\", \"content\": question}],\n",
    "     \"temperature\": 0\n",
    "    }\n",
    "    ##Get the response\n",
    "    response = requests.post('https://api.openai.com/v1/chat/completions', headers = headers, json = info)\n",
    "    ##Convert to json\n",
    "    response_json = response.json()\n",
    "    return response.status_code, response_json['choices'][0]['message']['content'].strip()\n"
   ]
  },
  {
   "cell_type": "markdown",
   "metadata": {},
   "source": [
    "### API Init"
   ]
  },
  {
   "cell_type": "code",
   "execution_count": 4,
   "metadata": {},
   "outputs": [],
   "source": [
    "# load api key\n",
    "# load library to get environmental files\n",
    "import os\n",
    "from dotenv import load_dotenv\n",
    "\n",
    "\n",
    "# load keys from  environmental var\n",
    "load_dotenv() # .env file in cwd\n",
    "gpt_key = os.environ.get(\"GPT_SECRET_KEY\") "
   ]
  },
  {
   "cell_type": "markdown",
   "metadata": {},
   "source": [
    "### Open/Split Dataframes"
   ]
  },
  {
   "cell_type": "code",
   "execution_count": 5,
   "metadata": {},
   "outputs": [],
   "source": [
    "comments_df = pd.read_csv(\"./data/reddit/CODE_ME.csv\")"
   ]
  },
  {
   "cell_type": "code",
   "execution_count": 6,
   "metadata": {},
   "outputs": [],
   "source": [
    "split_dfs = [comments_df.iloc[i:i+2000] for i in range(0, len(comments_df), 2000)]"
   ]
  },
  {
   "cell_type": "code",
   "execution_count": 7,
   "metadata": {},
   "outputs": [
    {
     "data": {
      "text/plain": [
       "3"
      ]
     },
     "execution_count": 7,
     "metadata": {},
     "output_type": "execute_result"
    }
   ],
   "source": [
    "len(split_dfs)"
   ]
  },
  {
   "cell_type": "code",
   "execution_count": null,
   "metadata": {},
   "outputs": [
    {
     "name": "stdout",
     "output_type": "stream",
     "text": [
      "Dataframe #0\n"
     ]
    },
    {
     "name": "stderr",
     "output_type": "stream",
     "text": [
      "100%|██████████| 2000/2000 [49:10<00:00,  1.48s/it] \n"
     ]
    },
    {
     "name": "stdout",
     "output_type": "stream",
     "text": [
      "Dataframe #1\n"
     ]
    },
    {
     "name": "stderr",
     "output_type": "stream",
     "text": [
      "100%|██████████| 2000/2000 [53:41<00:00,  1.61s/it]  \n"
     ]
    },
    {
     "name": "stdout",
     "output_type": "stream",
     "text": [
      "Dataframe #2\n"
     ]
    },
    {
     "name": "stderr",
     "output_type": "stream",
     "text": [
      "100%|██████████| 1960/1960 [36:42<00:00,  1.12s/it]  \n"
     ]
    }
   ],
   "source": [
    "for i, df in enumerate(split_dfs):\n",
    "\n",
    "    print(\"Dataframe #\" + str(i))\n",
    "\n",
    "    rate_limit = False\n",
    "    answer = []\n",
    "\n",
    "    for j in tqdm(range(len(df))):\n",
    "\n",
    "        try:\n",
    "            base_question = \"Is this text about neighborhood safety in DC? \\\n",
    "            Answer only with a number: 1 if about safety in DC, 0 if not. \\\n",
    "            If the answer is 1, how safe do you think the author feels? \\\n",
    "            Answer with only a number on a scale between 1 (very unsafe) and 10 (very safe) \\\n",
    "            If you are answering both quetsions, please split the numbers with only a comma. \\\n",
    "            Here is the text: \"\n",
    "            \n",
    "            text = df[\"body\"].iloc[j]\n",
    "\n",
    "            full_question = base_question + str(text)\n",
    "            \n",
    "            status_code, gpt_answer = ask_chat(full_question, gpt_key)\n",
    "\n",
    "            if status_code==429:\n",
    "                print(\"Rate limit hit!\")\n",
    "                rate_limit = True\n",
    "                break\n",
    "\n",
    "            answer.append(gpt_answer)\n",
    "\n",
    "            time.sleep(1)\n",
    "\n",
    "        except:\n",
    "            answer.append(np.nan)\n",
    "\n",
    "    if rate_limit:\n",
    "        break\n",
    "\n",
    "    df[\"gpt_output\"] = answer\n",
    "\n",
    "    df.to_csv(\"./data/reddit/rebeccas_last_gpt_batch/coded_\" + str(i) + \".csv\", index=False)\n",
    "    #df.to_csv(\"./data/reddit/gpt_output_new\" + str(5000*(i+1)) + \"_\" + str(5000*(i+1) + 4999) + \".csv\", index=False)\n",
    "    #print(\"saved!\")\n",
    "        "
   ]
  }
 ],
 "metadata": {
  "kernelspec": {
   "display_name": "base",
   "language": "python",
   "name": "python3"
  },
  "language_info": {
   "codemirror_mode": {
    "name": "ipython",
    "version": 3
   },
   "file_extension": ".py",
   "mimetype": "text/x-python",
   "name": "python",
   "nbconvert_exporter": "python",
   "pygments_lexer": "ipython3",
   "version": "3.12.4"
  }
 },
 "nbformat": 4,
 "nbformat_minor": 4
}
