{
 "cells": [
  {
   "cell_type": "code",
   "execution_count": 7,
   "metadata": {},
   "outputs": [],
   "source": [
    "import praw\n",
    "from dotenv import load_dotenv\n",
    "import os\n",
    "import requests\n",
    "from datetime import datetime\n",
    "import pandas as pd"
   ]
  },
  {
   "cell_type": "code",
   "execution_count": 8,
   "metadata": {},
   "outputs": [],
   "source": [
    "load_dotenv()\n",
    "\n",
    "SECRET_KEY = os.getenv(\"SECRET_KEY\")\n",
    "CLIENT_ID = os.getenv(\"CLIENT_ID\")\n",
    "PASS = os.getenv(\"PASSWORD\")\n",
    "USER = os.getenv(\"USER\")"
   ]
  },
  {
   "cell_type": "markdown",
   "metadata": {},
   "source": [
    "### Define Functions"
   ]
  },
  {
   "cell_type": "code",
   "execution_count": null,
   "metadata": {},
   "outputs": [],
   "source": [
    "############################################################################################################################################\n",
    "\n",
    "def search_subreddit(subreddit, query:str, limit:int):\n",
    "    \"\"\"query a specific subreddit.\n",
    "    query: string query for praw api\n",
    "    limit: int number of threads to collect\n",
    "    returns: dataframe of threads matching query\"\"\"\n",
    "\n",
    "    thread_list = list() # init list for thread data\n",
    "\n",
    "    for submission in subreddit.search(query=query, limit=limit): # iterate over all threads returned from search\n",
    "\n",
    "        # grab year and month from thread\n",
    "        date = datetime.fromtimestamp(submission.created_utc).strftime('%Y-%m-%d %H:%M:%S')\n",
    "        year = date.split(\"-\")[0]\n",
    "        month = date.split(\"-\")[1]\n",
    "\n",
    "        result_dict = { # put thread data in a dict\n",
    "                \"submission_id\":submission.id,\n",
    "                \"title\":submission.title,\n",
    "                \"text\":submission.selftext,\n",
    "                \"year\":year,\n",
    "                \"month\":month\n",
    "        }\n",
    "\n",
    "        thread_list.append(result_dict) # append dict to list\n",
    "\n",
    "    df = pd.DataFrame(thread_list) # turn list into dataframe\n",
    "    df.set_index(\"submission_id\", inplace=True) # set index to be thread id\n",
    "\n",
    "    return df\n",
    "\n",
    "############################################################################################################################################\n",
    "\n",
    "def get_comments(id_list:list, reddit):\n",
    "    \"\"\"get all comments from a specific thread\n",
    "    id_list: list of submission ids to get comment data from\n",
    "    reddit: reddit instance \n",
    "    returns: dataframe of comment data\"\"\"\n",
    "    \n",
    "    comments_list = list()\n",
    "\n",
    "    for id in id_list:\n",
    "        \n",
    "        submission = reddit.submission(id=id)\n",
    "\n",
    "        for comment in submission.comments.list():\n",
    "\n",
    "            date = datetime.fromtimestamp(comment.created_utc).strftime(\"%Y-%m-%d %H:%M:%S\")\n",
    "            year = date.split(\"-\")[0]\n",
    "            month = date.split(\"-\")[1]\n",
    "\n",
    "            comment_dict = {\n",
    "                \"submission_id\": id,\n",
    "                \"author\": comment.author.name if comment.author else None,\n",
    "                \"body\": comment.body,\n",
    "                \"score\": comment.score,\n",
    "                \"year\":year,\n",
    "                \"month\":month\n",
    "            }   \n",
    "\n",
    "            comments_list.append(comment_dict)\n",
    "\n",
    "    df = pd.DataFrame(comments_list)\n",
    "\n",
    "    return df\n",
    "\n",
    "############################################################################################################################################"
   ]
  },
  {
   "cell_type": "markdown",
   "metadata": {},
   "source": [
    "### Get Reddit & Subreddit Instance"
   ]
  },
  {
   "cell_type": "code",
   "execution_count": 9,
   "metadata": {},
   "outputs": [
    {
     "data": {
      "text/plain": [
       "True"
      ]
     },
     "execution_count": 9,
     "metadata": {},
     "output_type": "execute_result"
    }
   ],
   "source": [
    "# Create read only instance of reddit∏\n",
    "\n",
    "reddit = praw.Reddit( \n",
    "    client_id=CLIENT_ID,\n",
    "    client_secret=SECRET_KEY,\n",
    "    user_agent=USER\n",
    ")\n",
    "\n",
    "reddit.read_only # check instance"
   ]
  },
  {
   "cell_type": "code",
   "execution_count": 41,
   "metadata": {},
   "outputs": [
    {
     "data": {
      "text/plain": [
       "Subreddit(display_name='washingtondc')"
      ]
     },
     "execution_count": 41,
     "metadata": {},
     "output_type": "execute_result"
    }
   ],
   "source": [
    "washingtondc = reddit.subreddit(\"washingtondc\") # get subreddit instance\n",
    "\n",
    "washingtondc"
   ]
  },
  {
   "cell_type": "markdown",
   "metadata": {},
   "source": [
    "### Search Threads"
   ]
  },
  {
   "cell_type": "code",
   "execution_count": 45,
   "metadata": {},
   "outputs": [
    {
     "data": {
      "text/html": [
       "<div>\n",
       "<style scoped>\n",
       "    .dataframe tbody tr th:only-of-type {\n",
       "        vertical-align: middle;\n",
       "    }\n",
       "\n",
       "    .dataframe tbody tr th {\n",
       "        vertical-align: top;\n",
       "    }\n",
       "\n",
       "    .dataframe thead th {\n",
       "        text-align: right;\n",
       "    }\n",
       "</style>\n",
       "<table border=\"1\" class=\"dataframe\">\n",
       "  <thead>\n",
       "    <tr style=\"text-align: right;\">\n",
       "      <th></th>\n",
       "      <th>title</th>\n",
       "      <th>text</th>\n",
       "      <th>year</th>\n",
       "      <th>month</th>\n",
       "    </tr>\n",
       "    <tr>\n",
       "      <th>submission_id</th>\n",
       "      <th></th>\n",
       "      <th></th>\n",
       "      <th></th>\n",
       "      <th></th>\n",
       "    </tr>\n",
       "  </thead>\n",
       "  <tbody>\n",
       "    <tr>\n",
       "      <th>vmsxc7</th>\n",
       "      <td>How safe is this neighborhood?</td>\n",
       "      <td>Hey you, yeah you. Stop fucking asking this. Y...</td>\n",
       "      <td>2022</td>\n",
       "      <td>06</td>\n",
       "    </tr>\n",
       "    <tr>\n",
       "      <th>16hpztv</th>\n",
       "      <td>Where would you buy in DC to feel most safe ab...</td>\n",
       "      <td>Would the northern part of Georgetown/Glover P...</td>\n",
       "      <td>2023</td>\n",
       "      <td>09</td>\n",
       "    </tr>\n",
       "    <tr>\n",
       "      <th>3j8vju</th>\n",
       "      <td>Van Ness residents say their neighborhood isn'...</td>\n",
       "      <td></td>\n",
       "      <td>2015</td>\n",
       "      <td>09</td>\n",
       "    </tr>\n",
       "    <tr>\n",
       "      <th>lsoay5</th>\n",
       "      <td>Recommendation of a safe neighborhood in which...</td>\n",
       "      <td>Obviously not looking for luxury, would like a...</td>\n",
       "      <td>2021</td>\n",
       "      <td>02</td>\n",
       "    </tr>\n",
       "    <tr>\n",
       "      <th>ih2u1o</th>\n",
       "      <td>How safe is the Old City/Near-Northeast neighb...</td>\n",
       "      <td>I'm thinking about signing a lease on a place ...</td>\n",
       "      <td>2020</td>\n",
       "      <td>08</td>\n",
       "    </tr>\n",
       "  </tbody>\n",
       "</table>\n",
       "</div>"
      ],
      "text/plain": [
       "                                                           title  \\\n",
       "submission_id                                                      \n",
       "vmsxc7                            How safe is this neighborhood?   \n",
       "16hpztv        Where would you buy in DC to feel most safe ab...   \n",
       "3j8vju         Van Ness residents say their neighborhood isn'...   \n",
       "lsoay5         Recommendation of a safe neighborhood in which...   \n",
       "ih2u1o         How safe is the Old City/Near-Northeast neighb...   \n",
       "\n",
       "                                                            text  year month  \n",
       "submission_id                                                                 \n",
       "vmsxc7         Hey you, yeah you. Stop fucking asking this. Y...  2022    06  \n",
       "16hpztv        Would the northern part of Georgetown/Glover P...  2023    09  \n",
       "3j8vju                                                            2015    09  \n",
       "lsoay5         Obviously not looking for luxury, would like a...  2021    02  \n",
       "ih2u1o         I'm thinking about signing a lease on a place ...  2020    08  "
      ]
     },
     "execution_count": 45,
     "metadata": {},
     "output_type": "execute_result"
    }
   ],
   "source": [
    "threads_df = search_subreddit(washingtondc, 'title:\"safe\" title:\"neighborhood\"', 50)\n",
    "\n",
    "threads_df.head()"
   ]
  },
  {
   "cell_type": "markdown",
   "metadata": {},
   "source": [
    "### Grab Comments"
   ]
  },
  {
   "cell_type": "code",
   "execution_count": 46,
   "metadata": {},
   "outputs": [
    {
     "data": {
      "text/html": [
       "<div>\n",
       "<style scoped>\n",
       "    .dataframe tbody tr th:only-of-type {\n",
       "        vertical-align: middle;\n",
       "    }\n",
       "\n",
       "    .dataframe tbody tr th {\n",
       "        vertical-align: top;\n",
       "    }\n",
       "\n",
       "    .dataframe thead th {\n",
       "        text-align: right;\n",
       "    }\n",
       "</style>\n",
       "<table border=\"1\" class=\"dataframe\">\n",
       "  <thead>\n",
       "    <tr style=\"text-align: right;\">\n",
       "      <th></th>\n",
       "      <th>submission_id</th>\n",
       "      <th>author</th>\n",
       "      <th>body</th>\n",
       "      <th>score</th>\n",
       "      <th>year</th>\n",
       "      <th>month</th>\n",
       "    </tr>\n",
       "  </thead>\n",
       "  <tbody>\n",
       "    <tr>\n",
       "      <th>0</th>\n",
       "      <td>vmsxc7</td>\n",
       "      <td>downvoteyous</td>\n",
       "      <td>cant comment just got murdered in the face due...</td>\n",
       "      <td>615</td>\n",
       "      <td>2022</td>\n",
       "      <td>06</td>\n",
       "    </tr>\n",
       "    <tr>\n",
       "      <th>1</th>\n",
       "      <td>vmsxc7</td>\n",
       "      <td>pizzajona</td>\n",
       "      <td>I’m thinking of moving to Capitol Hill on Janu...</td>\n",
       "      <td>52</td>\n",
       "      <td>2022</td>\n",
       "      <td>06</td>\n",
       "    </tr>\n",
       "    <tr>\n",
       "      <th>2</th>\n",
       "      <td>vmsxc7</td>\n",
       "      <td>zero_derivation</td>\n",
       "      <td>Is Columbia Heights a bad neighborhood for rat...</td>\n",
       "      <td>145</td>\n",
       "      <td>2022</td>\n",
       "      <td>06</td>\n",
       "    </tr>\n",
       "    <tr>\n",
       "      <th>3</th>\n",
       "      <td>vmsxc7</td>\n",
       "      <td>None</td>\n",
       "      <td>I'm living inside the fenced-in perimeter of t...</td>\n",
       "      <td>197</td>\n",
       "      <td>2022</td>\n",
       "      <td>06</td>\n",
       "    </tr>\n",
       "    <tr>\n",
       "      <th>4</th>\n",
       "      <td>vmsxc7</td>\n",
       "      <td>BringMeCoffeeOrTea_</td>\n",
       "      <td>I thought everyone who lived in D.C. was murde...</td>\n",
       "      <td>245</td>\n",
       "      <td>2022</td>\n",
       "      <td>06</td>\n",
       "    </tr>\n",
       "  </tbody>\n",
       "</table>\n",
       "</div>"
      ],
      "text/plain": [
       "  submission_id               author  \\\n",
       "0        vmsxc7         downvoteyous   \n",
       "1        vmsxc7            pizzajona   \n",
       "2        vmsxc7      zero_derivation   \n",
       "3        vmsxc7                 None   \n",
       "4        vmsxc7  BringMeCoffeeOrTea_   \n",
       "\n",
       "                                                body  score  year month  \n",
       "0  cant comment just got murdered in the face due...    615  2022    06  \n",
       "1  I’m thinking of moving to Capitol Hill on Janu...     52  2022    06  \n",
       "2  Is Columbia Heights a bad neighborhood for rat...    145  2022    06  \n",
       "3  I'm living inside the fenced-in perimeter of t...    197  2022    06  \n",
       "4  I thought everyone who lived in D.C. was murde...    245  2022    06  "
      ]
     },
     "execution_count": 46,
     "metadata": {},
     "output_type": "execute_result"
    }
   ],
   "source": [
    "comments_df = get_comments(list(threads_df.index), reddit)\n",
    "\n",
    "comments_df.head()"
   ]
  },
  {
   "cell_type": "markdown",
   "metadata": {},
   "source": [
    "### Save Data"
   ]
  },
  {
   "cell_type": "code",
   "execution_count": null,
   "metadata": {},
   "outputs": [],
   "source": [
    "file_name='test' # EDIT ME - for file name "
   ]
  },
  {
   "cell_type": "code",
   "execution_count": null,
   "metadata": {},
   "outputs": [],
   "source": [
    "# run this block to save to repo data folder\n",
    "\n",
    "threads_df.to_csv(\"./data/\"+file_name+'_threads.csv')\n",
    "comments_df.to_csv(\"./data/\"+file_name+'_comments.csv', index=False)\n"
   ]
  }
 ],
 "metadata": {
  "kernelspec": {
   "display_name": "base",
   "language": "python",
   "name": "python3"
  },
  "language_info": {
   "codemirror_mode": {
    "name": "ipython",
    "version": 3
   },
   "file_extension": ".py",
   "mimetype": "text/x-python",
   "name": "python",
   "nbconvert_exporter": "python",
   "pygments_lexer": "ipython3",
   "version": "3.12.4"
  }
 },
 "nbformat": 4,
 "nbformat_minor": 2
}
