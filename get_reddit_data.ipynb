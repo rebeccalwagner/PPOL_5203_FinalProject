{
 "cells": [
  {
   "cell_type": "code",
   "execution_count": null,
   "metadata": {},
   "outputs": [],
   "source": [
    "# library imports\n",
    "\n",
    "import praw\n",
    "from dotenv import load_dotenv\n",
    "import os\n",
    "import requests\n",
    "from datetime import datetime\n",
    "import pandas as pd"
   ]
  },
  {
   "cell_type": "markdown",
   "metadata": {},
   "source": [
    "## This notebook contains code to grab data from reddit using an api query with the PRAW library\n",
    "\n",
    "You will need to have an account set up with the api and the associated keys."
   ]
  },
  {
   "cell_type": "code",
   "execution_count": 15,
   "metadata": {},
   "outputs": [],
   "source": [
    "# this block will grab keys from your local environment \n",
    "\n",
    "load_dotenv()\n",
    "\n",
    "SECRET_KEY = os.getenv(\"SECRET_KEY\")\n",
    "CLIENT_ID = os.getenv(\"CLIENT_ID\")\n",
    "PASS = os.getenv(\"PASSWORD\")\n",
    "USER = os.getenv(\"USER\")"
   ]
  },
  {
   "cell_type": "markdown",
   "metadata": {},
   "source": [
    "### Define Functions"
   ]
  },
  {
   "cell_type": "code",
   "execution_count": 5,
   "metadata": {},
   "outputs": [],
   "source": [
    "############################################################################################################################################\n",
    "\n",
    "def search_subreddit(subreddit, query:str, limit:int):\n",
    "    \"\"\"query a specific subreddit.\n",
    "    query: string query for praw api\n",
    "    limit: int number of threads to collect\n",
    "    returns: dataframe of threads matching query\"\"\"\n",
    "\n",
    "    thread_list = list() # init list for thread data\n",
    "\n",
    "    for submission in subreddit.search(query=query, limit=limit): # iterate over all threads returned from search\n",
    "\n",
    "        # grab year and month from thread\n",
    "        date = datetime.fromtimestamp(submission.created_utc).strftime('%Y-%m-%d %H:%M:%S')\n",
    "        year = date.split(\"-\")[0]\n",
    "        month = date.split(\"-\")[1]\n",
    "\n",
    "        result_dict = { # put thread data in a dict\n",
    "                \"submission_id\":submission.id,\n",
    "                \"title\":submission.title,\n",
    "                \"text\":submission.selftext,\n",
    "                \"year\":year,\n",
    "                \"month\":month\n",
    "        }\n",
    "\n",
    "        thread_list.append(result_dict) # append dict to list\n",
    "\n",
    "    df = pd.DataFrame(thread_list) # turn list into dataframe\n",
    "    df.set_index(\"submission_id\", inplace=True) # set index to be thread id\n",
    "\n",
    "    return df\n",
    "\n",
    "############################################################################################################################################\n",
    "\n",
    "def get_comments(id_list:list, reddit):\n",
    "    \"\"\"get all comments from a specific thread\n",
    "    id_list: list of submission ids to get comment data from\n",
    "    reddit: reddit instance \n",
    "    returns: dataframe of comment data\"\"\"\n",
    "    \n",
    "    comments_list = list()\n",
    "\n",
    "    for id in id_list:\n",
    "        \n",
    "        submission = reddit.submission(id=id)\n",
    "\n",
    "        for comment in submission.comments.list():\n",
    "\n",
    "            date = datetime.fromtimestamp(comment.created_utc).strftime(\"%Y-%m-%d %H:%M:%S\")\n",
    "            year = date.split(\"-\")[0]\n",
    "            month = date.split(\"-\")[1]\n",
    "\n",
    "            comment_dict = {\n",
    "                \"submission_id\": id,\n",
    "                \"author\": comment.author.name if comment.author else None,\n",
    "                \"body\": comment.body,\n",
    "                \"score\": comment.score,\n",
    "                \"year\":year,\n",
    "                \"month\":month\n",
    "            }   \n",
    "\n",
    "            comments_list.append(comment_dict)\n",
    "\n",
    "    df = pd.DataFrame(comments_list)\n",
    "\n",
    "    return df\n",
    "\n",
    "############################################################################################################################################"
   ]
  },
  {
   "cell_type": "markdown",
   "metadata": {},
   "source": [
    "### Get Reddit & Subreddit Instance"
   ]
  },
  {
   "cell_type": "code",
   "execution_count": 17,
   "execution_count": 4,
   "metadata": {},
   "outputs": [
    {
     "data": {
      "text/plain": [
       "True"
      ]
     },
     "execution_count": 9,
     "metadata": {},
     "output_type": "execute_result"
    }
   ],
   "source": [
    "# Create read only instance of reddit∏\n",
    "\n",
    "reddit = praw.Reddit( \n",
    "    client_id=CLIENT_ID,\n",
    "    client_secret=SECRET_KEY,\n",
    "    user_agent=USER\n",
    ")\n",
    "\n",
    "reddit.read_only # check instance"
   ]
  },
  {
   "cell_type": "code",
   "execution_count": 5,
   "metadata": {},
   "outputs": [
    {
     "data": {
      "text/plain": [
       "Subreddit(display_name='washingtondc')"
      ]
     },
     "execution_count": 5,
     "metadata": {},
     "output_type": "execute_result"
    }
   ],
   "source": [
    "washingtondc = reddit.subreddit(\"washingtondc\") # get subreddit instance\n",
    "\n",
    "washingtondc"
   ]
  },
  {
   "cell_type": "code",
   "execution_count": 19,
   "metadata": {},
   "outputs": [
    {
     "data": {
      "text/plain": [
       "Subreddit(display_name='DCforRent')"
      ]
     },
     "execution_count": 19,
     "metadata": {},
     "output_type": "execute_result"
    }
   ],
   "source": [
    "DCforRent = reddit.subreddit(\"DCforRent\") # get subreddit instance\n",
    "\n",
    "DCforRent"
   ]
  },
  {
   "cell_type": "code",
   "execution_count": 23,
   "metadata": {},
   "outputs": [
    {
     "data": {
      "text/plain": [
       "Subreddit(display_name='washdc')"
      ]
     },
     "execution_count": 23,
     "metadata": {},
     "output_type": "execute_result"
    }
   ],
   "source": [
    "washdc = reddit.subreddit(\"washdc\") # get subreddit instance\n",
    "\n",
    "washdc"
   ]
  },
  {
   "cell_type": "markdown",
   "metadata": {},
   "source": [
    "### Search Threads"
   ]
  },
  {
   "cell_type": "code",
   "execution_count": 11,
   "metadata": {},
   "outputs": [
    {
     "data": {
      "text/html": [
       "<div>\n",
       "<style scoped>\n",
       "    .dataframe tbody tr th:only-of-type {\n",
       "        vertical-align: middle;\n",
       "    }\n",
       "\n",
       "    .dataframe tbody tr th {\n",
       "        vertical-align: top;\n",
       "    }\n",
       "\n",
       "    .dataframe thead th {\n",
       "        text-align: right;\n",
       "    }\n",
       "</style>\n",
       "<table border=\"1\" class=\"dataframe\">\n",
       "  <thead>\n",
       "    <tr style=\"text-align: right;\">\n",
       "      <th></th>\n",
       "      <th>title</th>\n",
       "      <th>text</th>\n",
       "      <th>year</th>\n",
       "      <th>month</th>\n",
       "    </tr>\n",
       "    <tr>\n",
       "      <th>submission_id</th>\n",
       "      <th></th>\n",
       "      <th></th>\n",
       "      <th></th>\n",
       "      <th></th>\n",
       "    </tr>\n",
       "  </thead>\n",
       "  <tbody>\n",
       "    <tr>\n",
       "      <th>vmsxc7</th>\n",
       "      <td>How safe is this neighborhood?</td>\n",
       "      <td>Hey you, yeah you. Stop fucking asking this. Y...</td>\n",
       "      <td>2022</td>\n",
       "      <td>06</td>\n",
       "    </tr>\n",
       "    <tr>\n",
       "      <th>16hpztv</th>\n",
       "      <td>Where would you buy in DC to feel most safe ab...</td>\n",
       "      <td>Would the northern part of Georgetown/Glover P...</td>\n",
       "      <td>2023</td>\n",
       "      <td>09</td>\n",
       "    </tr>\n",
       "    <tr>\n",
       "      <th>3j8vju</th>\n",
       "      <td>Van Ness residents say their neighborhood isn'...</td>\n",
       "      <td></td>\n",
       "      <td>2015</td>\n",
       "      <td>09</td>\n",
       "    </tr>\n",
       "    <tr>\n",
       "      <th>lsoay5</th>\n",
       "      <td>Recommendation of a safe neighborhood in which...</td>\n",
       "      <td>Obviously not looking for luxury, would like a...</td>\n",
       "      <td>2021</td>\n",
       "      <td>02</td>\n",
       "    </tr>\n",
       "    <tr>\n",
       "      <th>ih2u1o</th>\n",
       "      <td>How safe is the Old City/Near-Northeast neighb...</td>\n",
       "      <td>I'm thinking about signing a lease on a place ...</td>\n",
       "      <td>2020</td>\n",
       "      <td>08</td>\n",
       "    </tr>\n",
       "  </tbody>\n",
       "</table>\n",
       "</div>"
      ],
      "text/plain": [
       "                                                           title  \\\n",
       "submission_id                                                      \n",
       "vmsxc7                            How safe is this neighborhood?   \n",
       "16hpztv        Where would you buy in DC to feel most safe ab...   \n",
       "3j8vju         Van Ness residents say their neighborhood isn'...   \n",
       "lsoay5         Recommendation of a safe neighborhood in which...   \n",
       "ih2u1o         How safe is the Old City/Near-Northeast neighb...   \n",
       "\n",
       "                                                            text  year month  \n",
       "submission_id                                                                 \n",
       "vmsxc7         Hey you, yeah you. Stop fucking asking this. Y...  2022    06  \n",
       "16hpztv        Would the northern part of Georgetown/Glover P...  2023    09  \n",
       "3j8vju                                                            2015    09  \n",
       "lsoay5         Obviously not looking for luxury, would like a...  2021    02  \n",
       "ih2u1o         I'm thinking about signing a lease on a place ...  2020    08  "
      ]
     },
     "execution_count": 11,
     "metadata": {},
     "output_type": "execute_result"
    }
   ],
   "source": [
    "threads_df = search_subreddit(washingtondc, query, 50)\n",
    "\n",
    "threads_df.head()"
   ]
  },
  {
   "cell_type": "code",
   "execution_count": 41,
   "metadata": {},
   "outputs": [
    {
     "data": {
      "text/html": [
       "<div>\n",
       "<style scoped>\n",
       "    .dataframe tbody tr th:only-of-type {\n",
       "        vertical-align: middle;\n",
       "    }\n",
       "\n",
       "    .dataframe tbody tr th {\n",
       "        vertical-align: top;\n",
       "    }\n",
       "\n",
       "    .dataframe thead th {\n",
       "        text-align: right;\n",
       "    }\n",
       "</style>\n",
       "<table border=\"1\" class=\"dataframe\">\n",
       "  <thead>\n",
       "    <tr style=\"text-align: right;\">\n",
       "      <th></th>\n",
       "      <th>title</th>\n",
       "      <th>text</th>\n",
       "      <th>year</th>\n",
       "      <th>month</th>\n",
       "    </tr>\n",
       "    <tr>\n",
       "      <th>submission_id</th>\n",
       "      <th></th>\n",
       "      <th></th>\n",
       "      <th></th>\n",
       "      <th></th>\n",
       "    </tr>\n",
       "  </thead>\n",
       "  <tbody>\n",
       "    <tr>\n",
       "      <th>1ax8woa</th>\n",
       "      <td>After feds dismantle street gang, officials sa...</td>\n",
       "      <td></td>\n",
       "      <td>2024</td>\n",
       "      <td>02</td>\n",
       "    </tr>\n",
       "    <tr>\n",
       "      <th>1bqfvdz</th>\n",
       "      <td>Ritzy DC neighborhood sees yet more crime</td>\n",
       "      <td></td>\n",
       "      <td>2024</td>\n",
       "      <td>03</td>\n",
       "    </tr>\n",
       "    <tr>\n",
       "      <th>1eg7a93</th>\n",
       "      <td>Is this DC neighborhood safe?</td>\n",
       "      <td>My friends and I are considering moving into a...</td>\n",
       "      <td>2024</td>\n",
       "      <td>07</td>\n",
       "    </tr>\n",
       "    <tr>\n",
       "      <th>1azpaob</th>\n",
       "      <td>Not even our donuts are safe? Crime in this to...</td>\n",
       "      <td></td>\n",
       "      <td>2024</td>\n",
       "      <td>02</td>\n",
       "    </tr>\n",
       "    <tr>\n",
       "      <th>17t7gfq</th>\n",
       "      <td>In the 1940s, DC youth crime was out of contro...</td>\n",
       "      <td>“The Junior Police and Citizen Corps ended up ...</td>\n",
       "      <td>2023</td>\n",
       "      <td>11</td>\n",
       "    </tr>\n",
       "  </tbody>\n",
       "</table>\n",
       "</div>"
      ],
      "text/plain": [
       "                                                           title  \\\n",
       "submission_id                                                      \n",
       "1ax8woa        After feds dismantle street gang, officials sa...   \n",
       "1bqfvdz                Ritzy DC neighborhood sees yet more crime   \n",
       "1eg7a93                            Is this DC neighborhood safe?   \n",
       "1azpaob        Not even our donuts are safe? Crime in this to...   \n",
       "17t7gfq        In the 1940s, DC youth crime was out of contro...   \n",
       "\n",
       "                                                            text  year month  \n",
       "submission_id                                                                 \n",
       "1ax8woa                                                           2024    02  \n",
       "1bqfvdz                                                           2024    03  \n",
       "1eg7a93        My friends and I are considering moving into a...  2024    07  \n",
       "1azpaob                                                           2024    02  \n",
       "17t7gfq        “The Junior Police and Citizen Corps ended up ...  2023    11  "
      ]
     },
     "execution_count": 41,
     "metadata": {},
     "output_type": "execute_result"
    }
   ],
   "source": [
    "threads_washdc_df = search_subreddit(washdc, 'title:\"safe\" title:\"neighborhood\" title:\"crime\"', 150)\n",
    "\n",
    "threads_washdc_df.head()"
   ]
  },
  {
   "cell_type": "code",
   "execution_count": 51,
   "metadata": {},
   "outputs": [
    {
     "data": {
      "text/html": [
       "<div>\n",
       "<style scoped>\n",
       "    .dataframe tbody tr th:only-of-type {\n",
       "        vertical-align: middle;\n",
       "    }\n",
       "\n",
       "    .dataframe tbody tr th {\n",
       "        vertical-align: top;\n",
       "    }\n",
       "\n",
       "    .dataframe thead th {\n",
       "        text-align: right;\n",
       "    }\n",
       "</style>\n",
       "<table border=\"1\" class=\"dataframe\">\n",
       "  <thead>\n",
       "    <tr style=\"text-align: right;\">\n",
       "      <th></th>\n",
       "      <th>title</th>\n",
       "      <th>text</th>\n",
       "      <th>year</th>\n",
       "      <th>month</th>\n",
       "    </tr>\n",
       "    <tr>\n",
       "      <th>submission_id</th>\n",
       "      <th></th>\n",
       "      <th></th>\n",
       "      <th></th>\n",
       "      <th></th>\n",
       "    </tr>\n",
       "  </thead>\n",
       "  <tbody>\n",
       "    <tr>\n",
       "      <th>20t3z6</th>\n",
       "      <td>Find out how safe the neighborhood you want to...</td>\n",
       "      <td></td>\n",
       "      <td>2014</td>\n",
       "      <td>03</td>\n",
       "    </tr>\n",
       "    <tr>\n",
       "      <th>y57cbw</th>\n",
       "      <td>Best quiet, safe but lively neighborhood in DC</td>\n",
       "      <td>I am in my late 30s and haven't lived in DC si...</td>\n",
       "      <td>2022</td>\n",
       "      <td>10</td>\n",
       "    </tr>\n",
       "  </tbody>\n",
       "</table>\n",
       "</div>"
      ],
      "text/plain": [
       "                                                           title  \\\n",
       "submission_id                                                      \n",
       "20t3z6         Find out how safe the neighborhood you want to...   \n",
       "y57cbw            Best quiet, safe but lively neighborhood in DC   \n",
       "\n",
       "                                                            text  year month  \n",
       "submission_id                                                                 \n",
       "20t3z6                                                            2014    03  \n",
       "y57cbw         I am in my late 30s and haven't lived in DC si...  2022    10  "
      ]
     },
     "execution_count": 51,
     "metadata": {},
     "output_type": "execute_result"
    }
   ],
   "source": [
    "threads_DCforRent_df = search_subreddit(DCforRent, 'title:\"safe\" title:\"neighborhood\" title:\"crime\"', 50)\n",
    "\n",
    "threads_DCforRent_df.head()"
   ]
  },
  {
   "cell_type": "markdown",
   "metadata": {},
   "source": [
    "### Grab Comments"
   ]
  },
  {
   "cell_type": "code",
   "execution_count": 7,
   "metadata": {},
   "outputs": [
    {
     "data": {
      "text/html": [
       "<div>\n",
       "<style scoped>\n",
       "    .dataframe tbody tr th:only-of-type {\n",
       "        vertical-align: middle;\n",
       "    }\n",
       "\n",
       "    .dataframe tbody tr th {\n",
       "        vertical-align: top;\n",
       "    }\n",
       "\n",
       "    .dataframe thead th {\n",
       "        text-align: right;\n",
       "    }\n",
       "</style>\n",
       "<table border=\"1\" class=\"dataframe\">\n",
       "  <thead>\n",
       "    <tr style=\"text-align: right;\">\n",
       "      <th></th>\n",
       "      <th>submission_id</th>\n",
       "      <th>author</th>\n",
       "      <th>body</th>\n",
       "      <th>score</th>\n",
       "      <th>year</th>\n",
       "      <th>month</th>\n",
       "    </tr>\n",
       "  </thead>\n",
       "  <tbody>\n",
       "    <tr>\n",
       "      <th>0</th>\n",
       "      <td>vmsxc7</td>\n",
       "      <td>downvoteyous</td>\n",
       "      <td>cant comment just got murdered in the face due...</td>\n",
       "      <td>613</td>\n",
       "      <td>2022</td>\n",
       "      <td>06</td>\n",
       "    </tr>\n",
       "    <tr>\n",
       "      <th>1</th>\n",
       "      <td>vmsxc7</td>\n",
       "      <td>pizzajona</td>\n",
       "      <td>I’m thinking of moving to Capitol Hill on Janu...</td>\n",
       "      <td>54</td>\n",
       "      <td>2022</td>\n",
       "      <td>06</td>\n",
       "    </tr>\n",
       "    <tr>\n",
       "      <th>2</th>\n",
       "      <td>vmsxc7</td>\n",
       "      <td>zero_derivation</td>\n",
       "      <td>Is Columbia Heights a bad neighborhood for rat...</td>\n",
       "      <td>147</td>\n",
       "      <td>2022</td>\n",
       "      <td>06</td>\n",
       "    </tr>\n",
       "    <tr>\n",
       "      <th>3</th>\n",
       "      <td>vmsxc7</td>\n",
       "      <td>None</td>\n",
       "      <td>I'm living inside the fenced-in perimeter of t...</td>\n",
       "      <td>196</td>\n",
       "      <td>2022</td>\n",
       "      <td>06</td>\n",
       "    </tr>\n",
       "    <tr>\n",
       "      <th>4</th>\n",
       "      <td>vmsxc7</td>\n",
       "      <td>BringMeCoffeeOrTea_</td>\n",
       "      <td>I thought everyone who lived in D.C. was murde...</td>\n",
       "      <td>248</td>\n",
       "      <td>2022</td>\n",
       "      <td>06</td>\n",
       "    </tr>\n",
       "  </tbody>\n",
       "</table>\n",
       "</div>"
      ],
      "text/plain": [
       "  submission_id               author  \\\n",
       "0        vmsxc7         downvoteyous   \n",
       "1        vmsxc7            pizzajona   \n",
       "2        vmsxc7      zero_derivation   \n",
       "3        vmsxc7                 None   \n",
       "4        vmsxc7  BringMeCoffeeOrTea_   \n",
       "\n",
       "                                                body  score  year month  \n",
       "0  cant comment just got murdered in the face due...    613  2022    06  \n",
       "1  I’m thinking of moving to Capitol Hill on Janu...     54  2022    06  \n",
       "2  Is Columbia Heights a bad neighborhood for rat...    147  2022    06  \n",
       "3  I'm living inside the fenced-in perimeter of t...    196  2022    06  \n",
       "4  I thought everyone who lived in D.C. was murde...    248  2022    06  "
      ]
     },
     "execution_count": 7,
     "metadata": {},
     "output_type": "execute_result"
    }
   ],
   "source": [
    "comments_df = get_comments(list(threads_df.index), reddit)\n",
    "\n",
    "comments_df.head()"
   ]
  },
  {
   "cell_type": "code",
   "execution_count": 37,
   "metadata": {},
   "outputs": [
    {
     "data": {
      "text/html": [
       "<div>\n",
       "<style scoped>\n",
       "    .dataframe tbody tr th:only-of-type {\n",
       "        vertical-align: middle;\n",
       "    }\n",
       "\n",
       "    .dataframe tbody tr th {\n",
       "        vertical-align: top;\n",
       "    }\n",
       "\n",
       "    .dataframe thead th {\n",
       "        text-align: right;\n",
       "    }\n",
       "</style>\n",
       "<table border=\"1\" class=\"dataframe\">\n",
       "  <thead>\n",
       "    <tr style=\"text-align: right;\">\n",
       "      <th></th>\n",
       "      <th>submission_id</th>\n",
       "      <th>author</th>\n",
       "      <th>body</th>\n",
       "      <th>score</th>\n",
       "      <th>year</th>\n",
       "      <th>month</th>\n",
       "    </tr>\n",
       "  </thead>\n",
       "  <tbody>\n",
       "    <tr>\n",
       "      <th>0</th>\n",
       "      <td>1eg7a93</td>\n",
       "      <td>Personal-Wasabi4189</td>\n",
       "      <td>I’d pick another neighborhood if you have options</td>\n",
       "      <td>25</td>\n",
       "      <td>2024</td>\n",
       "      <td>07</td>\n",
       "    </tr>\n",
       "    <tr>\n",
       "      <th>1</th>\n",
       "      <td>1eg7a93</td>\n",
       "      <td>GraceGod6</td>\n",
       "      <td>21st and benning road….lmaooo good luck sis 🤷🏽...</td>\n",
       "      <td>22</td>\n",
       "      <td>2024</td>\n",
       "      <td>07</td>\n",
       "    </tr>\n",
       "    <tr>\n",
       "      <th>2</th>\n",
       "      <td>1eg7a93</td>\n",
       "      <td>Zoroasker</td>\n",
       "      <td>I live in the general vicinity. It’s relativel...</td>\n",
       "      <td>6</td>\n",
       "      <td>2024</td>\n",
       "      <td>07</td>\n",
       "    </tr>\n",
       "    <tr>\n",
       "      <th>3</th>\n",
       "      <td>1eg7a93</td>\n",
       "      <td>None</td>\n",
       "      <td>Go walk it at day and then at night</td>\n",
       "      <td>5</td>\n",
       "      <td>2024</td>\n",
       "      <td>07</td>\n",
       "    </tr>\n",
       "    <tr>\n",
       "      <th>4</th>\n",
       "      <td>1eg7a93</td>\n",
       "      <td>PigeonParadiso</td>\n",
       "      <td>Please look at DC crime maps and go based on t...</td>\n",
       "      <td>12</td>\n",
       "      <td>2024</td>\n",
       "      <td>07</td>\n",
       "    </tr>\n",
       "  </tbody>\n",
       "</table>\n",
       "</div>"
      ],
      "text/plain": [
       "  submission_id               author  \\\n",
       "0       1eg7a93  Personal-Wasabi4189   \n",
       "1       1eg7a93            GraceGod6   \n",
       "2       1eg7a93            Zoroasker   \n",
       "3       1eg7a93                 None   \n",
       "4       1eg7a93       PigeonParadiso   \n",
       "\n",
       "                                                body  score  year month  \n",
       "0  I’d pick another neighborhood if you have options     25  2024    07  \n",
       "1  21st and benning road….lmaooo good luck sis 🤷🏽...     22  2024    07  \n",
       "2  I live in the general vicinity. It’s relativel...      6  2024    07  \n",
       "3                Go walk it at day and then at night      5  2024    07  \n",
       "4  Please look at DC crime maps and go based on t...     12  2024    07  "
      ]
     },
     "execution_count": 37,
     "metadata": {},
     "output_type": "execute_result"
    }
   ],
   "source": [
    "comments_washdc_df = get_comments(list(threads_washdc_df.index), reddit)\n",
    "\n",
    "comments_washdc_df.head()"
   ]
  },
  {
   "cell_type": "code",
   "execution_count": 53,
   "metadata": {},
   "outputs": [
    {
     "data": {
      "text/html": [
       "<div>\n",
       "<style scoped>\n",
       "    .dataframe tbody tr th:only-of-type {\n",
       "        vertical-align: middle;\n",
       "    }\n",
       "\n",
       "    .dataframe tbody tr th {\n",
       "        vertical-align: top;\n",
       "    }\n",
       "\n",
       "    .dataframe thead th {\n",
       "        text-align: right;\n",
       "    }\n",
       "</style>\n",
       "<table border=\"1\" class=\"dataframe\">\n",
       "  <thead>\n",
       "    <tr style=\"text-align: right;\">\n",
       "      <th></th>\n",
       "      <th>submission_id</th>\n",
       "      <th>author</th>\n",
       "      <th>body</th>\n",
       "      <th>score</th>\n",
       "      <th>year</th>\n",
       "      <th>month</th>\n",
       "    </tr>\n",
       "  </thead>\n",
       "  <tbody>\n",
       "    <tr>\n",
       "      <th>0</th>\n",
       "      <td>20t3z6</td>\n",
       "      <td>None</td>\n",
       "      <td>Unfortunately MPD is notorious for underreport...</td>\n",
       "      <td>2</td>\n",
       "      <td>2014</td>\n",
       "      <td>03</td>\n",
       "    </tr>\n",
       "    <tr>\n",
       "      <th>1</th>\n",
       "      <td>20t3z6</td>\n",
       "      <td>AUBlazin</td>\n",
       "      <td>I completely understand and believe what you a...</td>\n",
       "      <td>2</td>\n",
       "      <td>2014</td>\n",
       "      <td>03</td>\n",
       "    </tr>\n",
       "    <tr>\n",
       "      <th>2</th>\n",
       "      <td>y57cbw</td>\n",
       "      <td>eeek0711</td>\n",
       "      <td>Or Cleveland Park in DC</td>\n",
       "      <td>4</td>\n",
       "      <td>2022</td>\n",
       "      <td>10</td>\n",
       "    </tr>\n",
       "    <tr>\n",
       "      <th>3</th>\n",
       "      <td>y57cbw</td>\n",
       "      <td>eeek0711</td>\n",
       "      <td>Takoma Park MD</td>\n",
       "      <td>3</td>\n",
       "      <td>2022</td>\n",
       "      <td>10</td>\n",
       "    </tr>\n",
       "    <tr>\n",
       "      <th>4</th>\n",
       "      <td>y57cbw</td>\n",
       "      <td>nonmimeticform</td>\n",
       "      <td>Baltimore</td>\n",
       "      <td>3</td>\n",
       "      <td>2022</td>\n",
       "      <td>10</td>\n",
       "    </tr>\n",
       "  </tbody>\n",
       "</table>\n",
       "</div>"
      ],
      "text/plain": [
       "  submission_id          author  \\\n",
       "0        20t3z6            None   \n",
       "1        20t3z6        AUBlazin   \n",
       "2        y57cbw        eeek0711   \n",
       "3        y57cbw        eeek0711   \n",
       "4        y57cbw  nonmimeticform   \n",
       "\n",
       "                                                body  score  year month  \n",
       "0  Unfortunately MPD is notorious for underreport...      2  2014    03  \n",
       "1  I completely understand and believe what you a...      2  2014    03  \n",
       "2                            Or Cleveland Park in DC      4  2022    10  \n",
       "3                                     Takoma Park MD      3  2022    10  \n",
       "4                                          Baltimore      3  2022    10  "
      ]
     },
     "execution_count": 53,
     "metadata": {},
     "output_type": "execute_result"
    }
   ],
   "source": [
    "comments_DCforRent_df = get_comments(list(threads_DCforRent_df.index), reddit)\n",
    "\n",
    "comments_DCforRent_df.head()"
   ]
  },
  {
   "cell_type": "markdown",
   "metadata": {},
   "source": [
    "### Save Data"
   ]
  },
  {
   "cell_type": "code",
   "execution_count": 29,
   "metadata": {},
   "outputs": [],
   "source": [
    "file_name='test' # EDIT ME - for file name "
   ]
  },
  {
   "cell_type": "code",
   "execution_count": 55,
   "metadata": {},
   "outputs": [],
   "source": [
    "# run this block to save to repo data folder\n",
    "threads_washdc_df.to_csv(\"./data/\"+file_name+\"_threads_washdc_df.csv\")\n",
    "comments_washdc_df.to_csv(\"./data/\"+file_name+\"_comments_washdc_df.csv\")\n",
    "threads_DCforRent_df.to_csv(\"./data/\"+file_name+\"_threads_DCforRent_df.csv\")\n",
    "comments_DCforRent_df.to_csv(\"./data/\"+file_name+\"_comments_DCforRent_df.csv\")\n",
    "#threads_df.to_csv(\"./data/\"+file_name+'_threads.csv')\n",
    "#comments_df.to_csv(\"./data/\"+file_name+'_comments.csv', index=False)\n"
   ]
  },
  {
   "cell_type": "code",
   "execution_count": null,
   "metadata": {},
   "outputs": [],
   "source": []
  }
 ],
 "metadata": {
  "kernelspec": {
   "display_name": "Python 3 (ipykernel)",
   "language": "python",
   "name": "python3"
  },
  "language_info": {
   "codemirror_mode": {
    "name": "ipython",
    "version": 3
   },
   "file_extension": ".py",
   "mimetype": "text/x-python",
   "name": "python",
   "nbconvert_exporter": "python",
   "pygments_lexer": "ipython3",
   "version": "3.12.4"
  }
 },
 "nbformat": 4,
 "nbformat_minor": 4
}
