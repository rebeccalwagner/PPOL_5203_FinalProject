{
 "cells": [
  {
   "cell_type": "code",
   "execution_count": null,
   "metadata": {},
   "outputs": [],
   "source": [
    "# library imports\n",
    "\n",
    "import praw\n",
    "from dotenv import load_dotenv\n",
    "import os\n",
    "import requests\n",
    "import pandas as pd\n",
    "from praw_functions import search_subreddit, get_comments"
   ]
  },
  {
   "cell_type": "markdown",
   "metadata": {},
   "source": [
    "## This notebook contains code to grab data from reddit using an api query with the PRAW library\n",
    "\n",
    "You will need to have an account set up with the api and the associated keys."
   ]
  },
  {
   "cell_type": "code",
   "execution_count": 2,
   "metadata": {},
   "outputs": [],
   "source": [
    "# this block will grab keys from your local environment \n",
    "\n",
    "load_dotenv()\n",
    "\n",
    "SECRET_KEY = os.getenv(\"SECRET_KEY\")\n",
    "CLIENT_ID = os.getenv(\"CLIENT_ID\")\n",
    "PASS = os.getenv(\"PASSWORD\")\n",
    "USER = os.getenv(\"USER\")"
   ]
  },
  {
   "cell_type": "markdown",
   "metadata": {},
   "source": [
    "### Define Functions"
   ]
  },
  {
   "cell_type": "markdown",
   "metadata": {},
   "source": [
    "### Get Reddit & Subreddit Instance"
   ]
  },
  {
   "cell_type": "code",
   "execution_count": 95,
   "metadata": {},
   "outputs": [
    {
     "data": {
      "text/plain": [
       "True"
      ]
     },
     "execution_count": 95,
     "metadata": {},
     "output_type": "execute_result"
    }
   ],
   "source": [
    "# Create read only instance of reddit∏\n",
    "\n",
    "reddit = praw.Reddit( \n",
    "    client_id=CLIENT_ID,\n",
    "    client_secret=SECRET_KEY,\n",
    "    user_agent=USER\n",
    ")\n",
    "\n",
    "reddit.read_only # check instance"
   ]
  },
  {
   "cell_type": "code",
   "execution_count": 96,
   "metadata": {},
   "outputs": [
    {
     "data": {
      "text/plain": [
       "Subreddit(display_name='washingtondc')"
      ]
     },
     "execution_count": 96,
     "metadata": {},
     "output_type": "execute_result"
    }
   ],
   "source": [
    "washingtondc = reddit.subreddit(\"washingtondc\") # get subreddit instance\n",
    "\n",
    "washingtondc"
   ]
  },
  {
   "cell_type": "markdown",
   "metadata": {},
   "source": [
    "### Construct Query"
   ]
  },
  {
   "cell_type": "code",
   "execution_count": 97,
   "metadata": {},
   "outputs": [],
   "source": [
    "neighborhoods = [\n",
    "    'Neighborhood','Adams Morgan', 'American University Park', 'Anacostia', 'Barnaby Woods', \n",
    "    'Capitol Hill', 'Columbia Heights', 'Cleveland Park', 'Dupont', \n",
    "    'Foggy Bottom', 'Friendship Heights', 'Georgetown', 'Glover Park', \n",
    "    'H Street', 'Logan Circle', 'Mount Pleasant', 'Navy Yard', \n",
    "    'NoMa', 'Petworth', 'Shaw', 'Southwest Waterfront', 'Takoma', \n",
    "    'Tenleytown', 'The Palisades', 'U Street', 'West End', 'Woodley Park']\n",
    "\n",
    "# Safety-related keywords\n",
    "safety_keywords = [\"crime\", \"safety\", \"criminal\", \"safe\"]\n",
    "\n",
    "# Generate the query\n",
    "neighborhood_query = \" OR \".join(f'\"{neighborhood}\"' for neighborhood in neighborhoods)\n",
    "safety_query = \" OR \".join(safety_keywords)\n",
    "\n",
    "query = f\"({neighborhood_query}) AND ({safety_query})\""
   ]
  },
  {
   "cell_type": "code",
   "execution_count": 98,
   "metadata": {},
   "outputs": [
    {
     "data": {
      "text/plain": [
       "'(\"Neighborhood\" OR \"Adams Morgan\" OR \"American University Park\" OR \"Anacostia\" OR \"Barnaby Woods\" OR \"Capitol Hill\" OR \"Columbia Heights\" OR \"Cleveland Park\" OR \"Dupont\" OR \"Foggy Bottom\" OR \"Friendship Heights\" OR \"Georgetown\" OR \"Glover Park\" OR \"H Street\" OR \"Logan Circle\" OR \"Mount Pleasant\" OR \"Navy Yard\" OR \"NoMa\" OR \"Petworth\" OR \"Shaw\" OR \"Southwest Waterfront\" OR \"Takoma\" OR \"Tenleytown\" OR \"The Palisades\" OR \"U Street\" OR \"West End\" OR \"Woodley Park\") AND (crime OR safety OR criminal OR safe)'"
      ]
     },
     "execution_count": 98,
     "metadata": {},
     "output_type": "execute_result"
    }
   ],
   "source": [
    "query"
   ]
  },
  {
   "cell_type": "markdown",
   "metadata": {},
   "source": [
    "### Search Threads"
   ]
  },
  {
   "cell_type": "code",
   "execution_count": 99,
   "metadata": {},
   "outputs": [
    {
     "data": {
      "text/html": [
       "<div>\n",
       "<style scoped>\n",
       "    .dataframe tbody tr th:only-of-type {\n",
       "        vertical-align: middle;\n",
       "    }\n",
       "\n",
       "    .dataframe tbody tr th {\n",
       "        vertical-align: top;\n",
       "    }\n",
       "\n",
       "    .dataframe thead th {\n",
       "        text-align: right;\n",
       "    }\n",
       "</style>\n",
       "<table border=\"1\" class=\"dataframe\">\n",
       "  <thead>\n",
       "    <tr style=\"text-align: right;\">\n",
       "      <th></th>\n",
       "      <th>title</th>\n",
       "      <th>text</th>\n",
       "      <th>year</th>\n",
       "      <th>month</th>\n",
       "    </tr>\n",
       "    <tr>\n",
       "      <th>submission_id</th>\n",
       "      <th></th>\n",
       "      <th></th>\n",
       "      <th></th>\n",
       "      <th></th>\n",
       "    </tr>\n",
       "  </thead>\n",
       "  <tbody>\n",
       "    <tr>\n",
       "      <th>x2b2l6</th>\n",
       "      <td>The Pie Shop says juveniles are \" hurling full...</td>\n",
       "      <td></td>\n",
       "      <td>2022</td>\n",
       "      <td>08</td>\n",
       "    </tr>\n",
       "    <tr>\n",
       "      <th>vmsxc7</th>\n",
       "      <td>How safe is this neighborhood?</td>\n",
       "      <td>Hey you, yeah you. Stop fucking asking this. Y...</td>\n",
       "      <td>2022</td>\n",
       "      <td>06</td>\n",
       "    </tr>\n",
       "    <tr>\n",
       "      <th>13woim5</th>\n",
       "      <td>Anacostia council, Mayor Bowser hear residents...</td>\n",
       "      <td></td>\n",
       "      <td>2023</td>\n",
       "      <td>05</td>\n",
       "    </tr>\n",
       "    <tr>\n",
       "      <th>1b5hyt5</th>\n",
       "      <td>'We should not let criminals take over our nei...</td>\n",
       "      <td></td>\n",
       "      <td>2024</td>\n",
       "      <td>03</td>\n",
       "    </tr>\n",
       "    <tr>\n",
       "      <th>18zp614</th>\n",
       "      <td>Car taken from Georgetown with infant inside. ...</td>\n",
       "      <td></td>\n",
       "      <td>2024</td>\n",
       "      <td>01</td>\n",
       "    </tr>\n",
       "    <tr>\n",
       "      <th>...</th>\n",
       "      <td>...</td>\n",
       "      <td>...</td>\n",
       "      <td>...</td>\n",
       "      <td>...</td>\n",
       "    </tr>\n",
       "    <tr>\n",
       "      <th>vd9zif</th>\n",
       "      <td>There have been 7 shootings in the city since ...</td>\n",
       "      <td>Mainly in the SE and NE areas, but this is rid...</td>\n",
       "      <td>2022</td>\n",
       "      <td>06</td>\n",
       "    </tr>\n",
       "    <tr>\n",
       "      <th>10p64o</th>\n",
       "      <td>Fishing the Forgotten River in the Nation’s Ca...</td>\n",
       "      <td></td>\n",
       "      <td>2012</td>\n",
       "      <td>09</td>\n",
       "    </tr>\n",
       "    <tr>\n",
       "      <th>13ujjig</th>\n",
       "      <td>Rock Creek Thru Hike Update</td>\n",
       "      <td>Hi friends! Thank you for your support regardi...</td>\n",
       "      <td>2023</td>\n",
       "      <td>05</td>\n",
       "    </tr>\n",
       "    <tr>\n",
       "      <th>1gg547z</th>\n",
       "      <td>Was Attacked in the Capitol Hill Area (Near Li...</td>\n",
       "      <td>Hi! I went out for a run and was running throu...</td>\n",
       "      <td>2024</td>\n",
       "      <td>10</td>\n",
       "    </tr>\n",
       "    <tr>\n",
       "      <th>p90h2e</th>\n",
       "      <td>Thinking moving to Columbia Heights</td>\n",
       "      <td>I've never been to DC before, but I will be st...</td>\n",
       "      <td>2021</td>\n",
       "      <td>08</td>\n",
       "    </tr>\n",
       "  </tbody>\n",
       "</table>\n",
       "<p>225 rows × 4 columns</p>\n",
       "</div>"
      ],
      "text/plain": [
       "                                                           title  \\\n",
       "submission_id                                                      \n",
       "x2b2l6         The Pie Shop says juveniles are \" hurling full...   \n",
       "vmsxc7                            How safe is this neighborhood?   \n",
       "13woim5        Anacostia council, Mayor Bowser hear residents...   \n",
       "1b5hyt5        'We should not let criminals take over our nei...   \n",
       "18zp614        Car taken from Georgetown with infant inside. ...   \n",
       "...                                                          ...   \n",
       "vd9zif         There have been 7 shootings in the city since ...   \n",
       "10p64o         Fishing the Forgotten River in the Nation’s Ca...   \n",
       "13ujjig                              Rock Creek Thru Hike Update   \n",
       "1gg547z        Was Attacked in the Capitol Hill Area (Near Li...   \n",
       "p90h2e                       Thinking moving to Columbia Heights   \n",
       "\n",
       "                                                            text  year month  \n",
       "submission_id                                                                 \n",
       "x2b2l6                                                            2022    08  \n",
       "vmsxc7         Hey you, yeah you. Stop fucking asking this. Y...  2022    06  \n",
       "13woim5                                                           2023    05  \n",
       "1b5hyt5                                                           2024    03  \n",
       "18zp614                                                           2024    01  \n",
       "...                                                          ...   ...   ...  \n",
       "vd9zif         Mainly in the SE and NE areas, but this is rid...  2022    06  \n",
       "10p64o                                                            2012    09  \n",
       "13ujjig        Hi friends! Thank you for your support regardi...  2023    05  \n",
       "1gg547z        Hi! I went out for a run and was running throu...  2024    10  \n",
       "p90h2e         I've never been to DC before, but I will be st...  2021    08  \n",
       "\n",
       "[225 rows x 4 columns]"
      ]
     },
     "execution_count": 99,
     "metadata": {},
     "output_type": "execute_result"
    }
   ],
   "source": [
    "threads_df = search_subreddit(washingtondc, query, 500)\n",
    "\n",
    "threads_df"
   ]
  },
  {
   "cell_type": "markdown",
   "metadata": {},
   "source": [
    "### Grab Comments"
   ]
  },
  {
   "cell_type": "code",
   "execution_count": 92,
   "metadata": {},
   "outputs": [
    {
     "data": {
      "text/html": [
       "<div>\n",
       "<style scoped>\n",
       "    .dataframe tbody tr th:only-of-type {\n",
       "        vertical-align: middle;\n",
       "    }\n",
       "\n",
       "    .dataframe tbody tr th {\n",
       "        vertical-align: top;\n",
       "    }\n",
       "\n",
       "    .dataframe thead th {\n",
       "        text-align: right;\n",
       "    }\n",
       "</style>\n",
       "<table border=\"1\" class=\"dataframe\">\n",
       "  <thead>\n",
       "    <tr style=\"text-align: right;\">\n",
       "      <th></th>\n",
       "      <th>submission_id</th>\n",
       "      <th>author</th>\n",
       "      <th>body</th>\n",
       "      <th>score</th>\n",
       "      <th>year</th>\n",
       "      <th>month</th>\n",
       "    </tr>\n",
       "  </thead>\n",
       "  <tbody>\n",
       "    <tr>\n",
       "      <th>0</th>\n",
       "      <td>x2b2l6</td>\n",
       "      <td>Dentedhelm</td>\n",
       "      <td>Why Pie Shop???? They're one of the coolest pl...</td>\n",
       "      <td>275</td>\n",
       "      <td>2022</td>\n",
       "      <td>08</td>\n",
       "    </tr>\n",
       "    <tr>\n",
       "      <th>1</th>\n",
       "      <td>x2b2l6</td>\n",
       "      <td>None</td>\n",
       "      <td>This street, I hope it'll be alright</td>\n",
       "      <td>43</td>\n",
       "      <td>2022</td>\n",
       "      <td>08</td>\n",
       "    </tr>\n",
       "    <tr>\n",
       "      <th>2</th>\n",
       "      <td>x2b2l6</td>\n",
       "      <td>CaptchaCrunch</td>\n",
       "      <td>What is a “safety walk”… serious answers only ...</td>\n",
       "      <td>117</td>\n",
       "      <td>2022</td>\n",
       "      <td>08</td>\n",
       "    </tr>\n",
       "    <tr>\n",
       "      <th>3</th>\n",
       "      <td>x2b2l6</td>\n",
       "      <td>let-it-rain-sunshine</td>\n",
       "      <td>The local news did a piece on H street and bla...</td>\n",
       "      <td>289</td>\n",
       "      <td>2022</td>\n",
       "      <td>08</td>\n",
       "    </tr>\n",
       "    <tr>\n",
       "      <th>4</th>\n",
       "      <td>x2b2l6</td>\n",
       "      <td>None</td>\n",
       "      <td>Juvenile crime is way up and it’s hard not to ...</td>\n",
       "      <td>173</td>\n",
       "      <td>2022</td>\n",
       "      <td>08</td>\n",
       "    </tr>\n",
       "  </tbody>\n",
       "</table>\n",
       "</div>"
      ],
      "text/plain": [
       "  submission_id                author  \\\n",
       "0        x2b2l6            Dentedhelm   \n",
       "1        x2b2l6                  None   \n",
       "2        x2b2l6         CaptchaCrunch   \n",
       "3        x2b2l6  let-it-rain-sunshine   \n",
       "4        x2b2l6                  None   \n",
       "\n",
       "                                                body  score  year month  \n",
       "0  Why Pie Shop???? They're one of the coolest pl...    275  2022    08  \n",
       "1               This street, I hope it'll be alright     43  2022    08  \n",
       "2  What is a “safety walk”… serious answers only ...    117  2022    08  \n",
       "3  The local news did a piece on H street and bla...    289  2022    08  \n",
       "4  Juvenile crime is way up and it’s hard not to ...    173  2022    08  "
      ]
     },
     "execution_count": 92,
     "metadata": {},
     "output_type": "execute_result"
    }
   ],
   "source": [
    "comments_df = get_comments(list(threads_df.index), reddit)\n",
    "\n",
    "comments_df.head()"
   ]
  },
  {
   "cell_type": "markdown",
   "metadata": {},
   "source": [
    "### Save Data"
   ]
  },
  {
   "cell_type": "code",
   "execution_count": 29,
   "metadata": {},
   "outputs": [],
   "source": [
    "file_name='test' # EDIT ME - for file name "
   ]
  },
  {
   "cell_type": "code",
   "execution_count": 55,
   "metadata": {},
   "outputs": [],
   "source": [
    "# run this block to save to repo data folder\n",
    "threads_washdc_df.to_csv(\"./data/\"+file_name+\"_threads_washdc_df.csv\")\n",
    "comments_washdc_df.to_csv(\"./data/\"+file_name+\"_comments_washdc_df.csv\")\n",
    "threads_DCforRent_df.to_csv(\"./data/\"+file_name+\"_threads_DCforRent_df.csv\")\n",
    "comments_DCforRent_df.to_csv(\"./data/\"+file_name+\"_comments_DCforRent_df.csv\")\n",
    "#threads_df.to_csv(\"./data/\"+file_name+'_threads.csv')\n",
    "#comments_df.to_csv(\"./data/\"+file_name+'_comments.csv', index=False)\n"
   ]
  },
  {
   "cell_type": "code",
   "execution_count": null,
   "metadata": {},
   "outputs": [],
   "source": []
  }
 ],
 "metadata": {
  "kernelspec": {
   "display_name": "base",
   "language": "python",
   "name": "python3"
  },
  "language_info": {
   "codemirror_mode": {
    "name": "ipython",
    "version": 3
   },
   "file_extension": ".py",
   "mimetype": "text/x-python",
   "name": "python",
   "nbconvert_exporter": "python",
   "pygments_lexer": "ipython3",
   "version": "3.12.4"
  }
 },
 "nbformat": 4,
 "nbformat_minor": 4
}
