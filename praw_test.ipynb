{
 "cells": [
  {
   "cell_type": "code",
   "execution_count": 2,
   "metadata": {},
   "outputs": [
    {
     "ename": "ModuleNotFoundError",
     "evalue": "No module named 'praw'",
     "output_type": "error",
     "traceback": [
      "\u001b[0;31m---------------------------------------------------------------------------\u001b[0m",
      "\u001b[0;31mModuleNotFoundError\u001b[0m                       Traceback (most recent call last)",
      "Cell \u001b[0;32mIn[2], line 1\u001b[0m\n\u001b[0;32m----> 1\u001b[0m \u001b[38;5;28;01mimport\u001b[39;00m \u001b[38;5;21;01mpraw\u001b[39;00m\n\u001b[1;32m      2\u001b[0m \u001b[38;5;28;01mfrom\u001b[39;00m \u001b[38;5;21;01mdotenv\u001b[39;00m \u001b[38;5;28;01mimport\u001b[39;00m load_dotenv\n\u001b[1;32m      3\u001b[0m \u001b[38;5;28;01mimport\u001b[39;00m \u001b[38;5;21;01mos\u001b[39;00m\n",
      "\u001b[0;31mModuleNotFoundError\u001b[0m: No module named 'praw'"
     ]
    }
   ],
   "source": [
    "import praw\n",
    "from dotenv import load_dotenv\n",
    "import os\n",
    "import requests"
   ]
  },
  {
   "cell_type": "code",
   "execution_count": 63,
   "metadata": {},
   "outputs": [],
   "source": [
    "load_dotenv()\n",
    "\n",
    "# for whatever reason this isnt working\n",
    "\n",
    "SECRET_KEY = os.getenv(\"SECRET_KEY\")\n",
    "CLIENT_ID = os.getenv(\"CLIENT_ID\")\n",
    "PASS = os.getenv(\"PASSWORD\")\n",
    "USER = os.getenv(\"USER\")"
   ]
  },
  {
   "cell_type": "code",
   "execution_count": 66,
   "metadata": {},
   "outputs": [],
   "source": [
    "SECRET_KEY"
   ]
  },
  {
   "cell_type": "code",
   "execution_count": 65,
   "metadata": {},
   "outputs": [
    {
     "name": "stderr",
     "output_type": "stream",
     "text": [
      "/var/folders/5c/d2k1t24s5zl213152tpfh6nh0000gn/T/ipykernel_6361/1282892035.py:3: DeprecationWarning: Positional arguments for 'Reddit.__init__' will no longer be supported in PRAW 8.\n",
      "Call this function with 'config_interpolation' and 'requestor_class' as keyword arguments.\n",
      "  reddit = praw.Reddit(\n"
     ]
    },
    {
     "ename": "MissingRequiredAttributeException",
     "evalue": "Required configuration setting 'client_id' missing. \nThis setting can be provided in a praw.ini file, as a keyword argument to the Reddit class constructor, or as an environment variable.",
     "output_type": "error",
     "traceback": [
      "\u001b[0;31m---------------------------------------------------------------------------\u001b[0m",
      "\u001b[0;31mMissingRequiredAttributeException\u001b[0m         Traceback (most recent call last)",
      "Cell \u001b[0;32mIn[65], line 3\u001b[0m\n\u001b[1;32m      1\u001b[0m \u001b[38;5;66;03m# why doesn't this work?\u001b[39;00m\n\u001b[0;32m----> 3\u001b[0m reddit \u001b[38;5;241m=\u001b[39m \u001b[43mpraw\u001b[49m\u001b[38;5;241;43m.\u001b[39;49m\u001b[43mReddit\u001b[49m\u001b[43m(\u001b[49m\n\u001b[1;32m      4\u001b[0m \u001b[43m    \u001b[49m\u001b[43mCLIENT_ID\u001b[49m\u001b[43m,\u001b[49m\n\u001b[1;32m      5\u001b[0m \u001b[43m    \u001b[49m\u001b[43mSECRET_KEY\u001b[49m\u001b[43m,\u001b[49m\n\u001b[1;32m      6\u001b[0m \u001b[43m    \u001b[49m\u001b[43mUSER\u001b[49m\n\u001b[1;32m      7\u001b[0m \u001b[43m)\u001b[49m\n",
      "File \u001b[0;32m/Library/Frameworks/Python.framework/Versions/3.11/lib/python3.11/site-packages/praw/util/deprecate_args.py:46\u001b[0m, in \u001b[0;36m_deprecate_args.<locals>.wrapper.<locals>.wrapped\u001b[0;34m(*args, **kwargs)\u001b[0m\n\u001b[1;32m     39\u001b[0m     arg_string \u001b[38;5;241m=\u001b[39m _generate_arg_string(_old_args[: \u001b[38;5;28mlen\u001b[39m(args)])\n\u001b[1;32m     40\u001b[0m     warn(\n\u001b[1;32m     41\u001b[0m         \u001b[38;5;124mf\u001b[39m\u001b[38;5;124m\"\u001b[39m\u001b[38;5;124mPositional arguments for \u001b[39m\u001b[38;5;132;01m{\u001b[39;00mfunc\u001b[38;5;241m.\u001b[39m\u001b[38;5;18m__qualname__\u001b[39m\u001b[38;5;132;01m!r}\u001b[39;00m\u001b[38;5;124m will no longer be\u001b[39m\u001b[38;5;124m\"\u001b[39m\n\u001b[1;32m     42\u001b[0m         \u001b[38;5;124mf\u001b[39m\u001b[38;5;124m\"\u001b[39m\u001b[38;5;124m supported in PRAW 8.\u001b[39m\u001b[38;5;130;01m\\n\u001b[39;00m\u001b[38;5;124mCall this function with \u001b[39m\u001b[38;5;132;01m{\u001b[39;00marg_string\u001b[38;5;132;01m}\u001b[39;00m\u001b[38;5;124m.\u001b[39m\u001b[38;5;124m\"\u001b[39m,\n\u001b[1;32m     43\u001b[0m         \u001b[38;5;167;01mDeprecationWarning\u001b[39;00m,\n\u001b[1;32m     44\u001b[0m         stacklevel\u001b[38;5;241m=\u001b[39m\u001b[38;5;241m2\u001b[39m,\n\u001b[1;32m     45\u001b[0m     )\n\u001b[0;32m---> 46\u001b[0m \u001b[38;5;28;01mreturn\u001b[39;00m \u001b[43mfunc\u001b[49m\u001b[43m(\u001b[49m\u001b[38;5;241;43m*\u001b[39;49m\u001b[38;5;241;43m*\u001b[39;49m\u001b[38;5;28;43mdict\u001b[39;49m\u001b[43m(\u001b[49m\u001b[38;5;28;43mzip\u001b[39;49m\u001b[43m(\u001b[49m\u001b[43m_old_args\u001b[49m\u001b[43m,\u001b[49m\u001b[43m \u001b[49m\u001b[43margs\u001b[49m\u001b[43m)\u001b[49m\u001b[43m)\u001b[49m\u001b[43m,\u001b[49m\u001b[43m \u001b[49m\u001b[38;5;241;43m*\u001b[39;49m\u001b[38;5;241;43m*\u001b[39;49m\u001b[43mkwargs\u001b[49m\u001b[43m)\u001b[49m\n",
      "File \u001b[0;32m/Library/Frameworks/Python.framework/Versions/3.11/lib/python3.11/site-packages/praw/reddit.py:259\u001b[0m, in \u001b[0;36mReddit.__init__\u001b[0;34m(self, site_name, config_interpolation, requestor_class, requestor_kwargs, token_manager, **config_settings)\u001b[0m\n\u001b[1;32m    257\u001b[0m \u001b[38;5;28;01mfor\u001b[39;00m attribute \u001b[38;5;129;01min\u001b[39;00m (\u001b[38;5;124m\"\u001b[39m\u001b[38;5;124mclient_id\u001b[39m\u001b[38;5;124m\"\u001b[39m, \u001b[38;5;124m\"\u001b[39m\u001b[38;5;124muser_agent\u001b[39m\u001b[38;5;124m\"\u001b[39m):\n\u001b[1;32m    258\u001b[0m     \u001b[38;5;28;01mif\u001b[39;00m \u001b[38;5;28mgetattr\u001b[39m(\u001b[38;5;28mself\u001b[39m\u001b[38;5;241m.\u001b[39mconfig, attribute) \u001b[38;5;129;01min\u001b[39;00m (\u001b[38;5;28mself\u001b[39m\u001b[38;5;241m.\u001b[39mconfig\u001b[38;5;241m.\u001b[39mCONFIG_NOT_SET, \u001b[38;5;28;01mNone\u001b[39;00m):\n\u001b[0;32m--> 259\u001b[0m         \u001b[38;5;28;01mraise\u001b[39;00m MissingRequiredAttributeException(\n\u001b[1;32m    260\u001b[0m             required_message\u001b[38;5;241m.\u001b[39mformat(attribute)\n\u001b[1;32m    261\u001b[0m         )\n\u001b[1;32m    262\u001b[0m \u001b[38;5;28;01mif\u001b[39;00m \u001b[38;5;28mself\u001b[39m\u001b[38;5;241m.\u001b[39mconfig\u001b[38;5;241m.\u001b[39mclient_secret \u001b[38;5;129;01mis\u001b[39;00m \u001b[38;5;28mself\u001b[39m\u001b[38;5;241m.\u001b[39mconfig\u001b[38;5;241m.\u001b[39mCONFIG_NOT_SET:\n\u001b[1;32m    263\u001b[0m     msg \u001b[38;5;241m=\u001b[39m \u001b[38;5;124mf\u001b[39m\u001b[38;5;124m\"\u001b[39m\u001b[38;5;132;01m{\u001b[39;00mrequired_message\u001b[38;5;241m.\u001b[39mformat(\u001b[38;5;124m'\u001b[39m\u001b[38;5;124mclient_secret\u001b[39m\u001b[38;5;124m'\u001b[39m)\u001b[38;5;132;01m}\u001b[39;00m\u001b[38;5;130;01m\\n\u001b[39;00m\u001b[38;5;124mFor installed applications this value must be set to None via a keyword argument to the Reddit class constructor.\u001b[39m\u001b[38;5;124m\"\u001b[39m\n",
      "\u001b[0;31mMissingRequiredAttributeException\u001b[0m: Required configuration setting 'client_id' missing. \nThis setting can be provided in a praw.ini file, as a keyword argument to the Reddit class constructor, or as an environment variable."
     ]
    }
   ],
   "source": [
    "# why doesn't this work?\n",
    "\n",
    "reddit = praw.Reddit(\n",
    "    CLIENT_ID,\n",
    "    SECRET_KEY,\n",
    "    USER\n",
    ")"
   ]
  },
  {
   "cell_type": "code",
   "execution_count": null,
   "metadata": {},
   "outputs": [],
   "source": [
    "# but this does?\n",
    "\n",
    "reddit = praw.Reddit(\n",
    "    client_id='ELMgSlKQID8gi5SEbgKZgA',\n",
    "    client_secret='anJVUMa_tsGURTq-zapTOsi_-_Mc0w',\n",
    "    user_agent = \"Comfortable-Wait-286\"\n",
    ")"
   ]
  },
  {
   "cell_type": "code",
   "execution_count": 17,
   "metadata": {},
   "outputs": [
    {
     "data": {
      "text/plain": [
       "True"
      ]
     },
     "execution_count": 17,
     "metadata": {},
     "output_type": "execute_result"
    }
   ],
   "source": [
    "reddit.read_only"
   ]
  },
  {
   "cell_type": "code",
   "execution_count": null,
   "metadata": {},
   "outputs": [],
   "source": [
    "subreddit = reddit.subreddit(\"washingtondc\")"
   ]
  },
  {
   "cell_type": "code",
   "execution_count": 33,
   "metadata": {},
   "outputs": [
    {
     "data": {
      "text/plain": [
       "('District of Columbia',\n",
       " '######STICKY: [Moving to DC?](https://www.reddit.com/r/washingtondc/wiki/moving) | [Visitor\\'s Guide](https://www.reddit.com/r/washingtondc/wiki/guide) | [FAQ] (https://www.reddit.com/r/washingtondc/wiki/dcfaq) | [Rules](https://www.reddit.com/r/washingtondc/about/rules/)\\n\\n________________________________\\n###[OFFICIAL VISITOR\\'S GUIDE](https://www.reddit.com/r/washingtondc/wiki/guide)###\\n\\n________________________________\\n###[Rules](https://www.reddit.com/r/washingtondc/about/rules/):\\n\\n * No memes/image macros\\n\\n * No advertisement/buying/selling/job/solicitation/survey posts\\n\\n * Relevant to the region\\n\\n * No reposts\\n\\n * Be civil\\n\\n * Posts inquiring about housing or neighborhoods should be asked in the \"Casual Questions\" megathread\\n\\n * No editorialized titles (if you post an article, use the title of that article)\\n\\n * Common questions must not be easily answered by recent threads, the wiki, or a Google search\\n\\n * Certain posts about crime are automatically locked. Exemptions may be granted by modmailing the mod team. [For details, please see this post](https://www.reddit.com/r/washingtondc/wiki/crime).\\n\\n________________________________\\n**Discord:** [Discord info](https://www.reddit.com/r/washingtondc/wiki/discord)\\n________________________________\\n**Interested in holding an AMA?** [Message us!](https://www.reddit.com/message/compose?to=%2Fr%2Fwashingtondc)\\n\\n--------------------------------------------\\n[**Facebook**](https://www.facebook.com/groups/125079137530118/) || [**Twitter**](https://twitter.com/dcreddit) || [**Meetup**](https://www.meetup.com/Washington-DC-Metro-area-Redditors/)\\n________________________________\\n\\n________________________________\\n\\n[DC Unemployment Help Thread](https://www.reddit.com/r/washingtondc/comments/fwr8f5/dc_unemployment_questions_help_and_resources/)\\n\\n[DC Tenant Guide](https://ota.dc.gov/page/information-tenants)\\n\\n[Reporting drug use for security clearances](https://www.reddit.com/r/washingtondc/comments/6vek9h/dc_drugs_and_security_clearance/)\\n\\n________________________________\\n\\n**Local Reddit Communities**\\n\\n[NoVA](https://www.reddit.com/r/nova) || [Maryland](https://www.reddit.com/r/maryland) || [Baltimore](https://www.reddit.com/r/baltimore) || [MoCo](https://www.reddit.com/r/MontgomeryCountyMD/) || [PG](https://www.reddit.com/r/PrinceGeorgesCountyMD) || [Anne Arundel](https://www.reddit.com/r/AnneArundelCounty/) || [Silver Spring](https://www.reddit.com/r/SilverSpring/) || [Georgetown University] (https://www.reddit.com/r/georgetown) || [UMD](https://www.reddit.com/r/UMD) || [American](https://www.reddit.com/r/AmericanU) || [GWU](https://www.reddit.com/r/gwu/) || [GMU](https://www.reddit.com/r/gmu/) || [Gallaudet](https://www.reddit.com/r/gallaudet/) || [Rockville](https://www.reddit.com/r/Rockville/) || [Howard University](https://www.reddit.com/r/HowardUniversity/) || [Catholic University](https://www.reddit.com/r/CUA/)\\n\\n________________________________\\n\\n**DC Sports Communities**\\n\\n[DC Defenders](https://www.reddit.com/r/DCDefenders/) ||  [Spirit](https://www.reddit.com/r/washingtonspirit/) || [Caps](https://www.reddit.com/r/caps) || [Nats](https://www.reddit.com/r/nationals) || [Commanders] (https://www.reddit.com/r/commanders) || [Wizards](https://www.reddit.com/r/washingtonwizards) || [DC United](https://www.reddit.com/r/dcunited) ||  [Mystics](https://www.reddit.com/r/washingtonmystics/) || [Justice](https://www.reddit.com/r/WashingtonJustice/) || [Running!](https://www.reddit.com/r/rundc/) || [Bicycles!](https://www.reddit.com/r/BikeDC) || [Motorcycles!](https://www.reddit.com/r/dcrideit)\\n\\n________________________________\\n\\n**Related Communities**\\n\\n[Protest DC](https://www.reddit.com/r/ProtestDC) || [Eats](https://www.reddit.com/r/DCEats/) || [Jobs](https://www.reddit.com/r/DCJobs/) || [Events](https://www.reddit.com/r/dcevents) || [Housing](https://www.reddit.com/r/DCforRent) || [Interns](https://www.reddit.com/r/DCInterns/) || [Marketplace](https://www.reddit.com/r/DCDump) || [CirclejerkDC](https://circlejerkdc.reddit.com) || [Beer](https://dcbeer.reddit.com) || [Vegan/Vegetarian DC](https://www.reddit.com/r/vegdc) || [DC Pokemon Go](https://www.reddit.com/r/Pokemongo_DC) || [DC & Baltimore r4r](https://www.reddit.com/r/BaltimoreAndDCr4r/) || [DC Parents](https://www.reddit.com/r/dcparents/) || [DC Over 30](https://www.reddit.com/r/dcover30/) || [New DC Girls](https://www.reddit.com/r/newdcgirls/) || [District History](https://www.reddit.com/r/districthistory/)\\n\\n________________________________\\n\\n##[Meme-free](https://www.reddit.com/r/washingtondc/comments/cbijhy/dc_traffic_will_be_the_death_of_me/), [Tailor-free](https://old.reddit.com/r/washingtondc/comments/108ojjt/where_to_get_a_burberry_trench_coat_tailored/), [Tattoo-free](https://www.reddit.com/r/washingtondc/comments/16n84r9/tattoo_shopartist_recommendations/), and [Cannon-free](https://www.reddit.com/r/washingtondc/comments/zfzyjf/tailor_and_cobbler_recs/) since 9/20/23.\\n\\n####')"
      ]
     },
     "execution_count": 33,
     "metadata": {},
     "output_type": "execute_result"
    }
   ],
   "source": [
    "subreddit.title, subreddit.description"
   ]
  },
  {
   "cell_type": "code",
   "execution_count": 52,
   "metadata": {},
   "outputs": [],
   "source": [
    "query=\"neighborhood AND safe\""
   ]
  },
  {
   "cell_type": "code",
   "execution_count": 53,
   "metadata": {},
   "outputs": [
    {
     "name": "stdout",
     "output_type": "stream",
     "text": [
      "How safe is this neighborhood? vmsxc7\n",
      "Where would you buy in DC to feel most safe about your urban family walking around the neighborhood for daily life-long term? 16hpztv\n",
      "Why the stupid bike lane fights matter 1c6ncaj\n",
      "Melting is not an effective snow policy 19d5gwm\n",
      "Police crack down on shoplifters 18g6rhd\n",
      "What am I missing about Navy Yard? 11qqlj1\n",
      "Van Ness residents say their neighborhood isn't safe for walking 3j8vju\n",
      "Living in DC is much better than I expected s8cihs\n",
      "Recommendation of a safe neighborhood in which to find a $1000 or less studio apartment. lsoay5\n",
      "How safe is the Old City/Near-Northeast neighborhood? ih2u1o\n",
      "If you could only live in DC for a month, which area/ neighborhood would you stay? 16pl9ai\n",
      "(need to vent) A driver under the influence almost just killed me, himself, and 2 pedestrians on the John Philip Sousa bridge 12vpkcx\n",
      "Late 20’s couple moving from CO to DC looking for relatively safe neighborhood to move to in 1300 to 1500 price range. chffj1\n",
      "what are the best neighborhoods for a single black woman in her late 20s to move into?  1buibw1\n",
      "Considering buying EOTR in Buena Vista/Historic Anacostia near the metro. Do folks know any streets or parts of the neighborhood that are more walkable/safe at night? Or any streets areas to avoid? rigywa\n",
      "Safe to live in Carver-Langston Neighborhood 8tcmdd\n",
      "Safe neighborhoods in DC??? 3dfj35\n",
      "Is this neighborhood safe? And questions on group house etiquette... 1k3768\n",
      "Secret D.C. government meeting to cancel Grant Circle safety 1e0x19h\n",
      "Posters parroting the line that “DC is a crime filled wasteland” are just being used as useful idiots by business owners trying to shift blame 18j9182\n"
     ]
    }
   ],
   "source": [
    "for submission in subreddit.search(query=query,limit=20):\n",
    "    print(submission.title, submission.id)"
   ]
  },
  {
   "cell_type": "code",
   "execution_count": 54,
   "metadata": {},
   "outputs": [
    {
     "name": "stdout",
     "output_type": "stream",
     "text": [
      "It's really not great, especially if you live in the northern part of Van Ness on the east side of Conn Ave. You have to cross to avoid the construction of new apartments that has closed off the sidewalk (for a year or so now), then cross again to get to the only open metro entrance (the other one is closed for a year I think). That coupled with the always aggressive Conn Ave drivers and very short lights makes walking less than optimal. \n",
      "if Van Ness isn't safe, than what does that makes the rest of DC?..\n",
      "The timing is unfortunate but not catastrophic. I think there's a bit of hysteria going on here. \n",
      "\n",
      "I will say the sidewalk closing always kinda bothered me.\n",
      "\n",
      "DDOT stands by the closure of the sidewalk because Park Van Ness's construction includes a parking garage that will exist underneath where the sidewalk is and thus providing support and structural integrity to the sidewalk. While under construction, because the garage wasn't there to completely support the weight of the sidewalk, the sidewalk had to close, or else would collapse under the weight of pedestrians. However, shortly after  closing, contractors began staging construction equipment and parking their cars in the closed sidewalk space. So we can't walk on it because the sidewalk will collapse, but construction workers can park their cars and stage equipment there?\n",
      "I live here. I walk to and from the metro M-F. My morning/evening walk is one of the best parts of my day. \n",
      "r/nottheonion. this is like...the biggest first world problem in the world. You can't leave 2 minutes earlier in case you miss the walk cycle? Or just be 2 minutes late to work? I jaywalk, but I definitely don't advocate jaywalking a six-lane throughfare during rush hour.\n",
      "It really isn't that big a deal. If you live on the east side of Connecticut, you have to cross the street once near Albermarle St and again near Potbellys or north of Starbucks.\n",
      "\n",
      "It adds maybe an extra two minutes to your walk. People need to get over it. All you're being asked to do is cross the street.\n",
      "Navy Yard is on the line.  Saying something about shut the fuck up.\n",
      "The headline is a bit misleading, since it's not really about pedestrian safety. \n",
      "\n",
      "It's more about the utter insanity of closing the Metro exit on one side of Connecticut (for three years!), completely blocking the sidewalk on the other side of the street for construction, and then having a single crosswalk in the block north of the Metro that is on a 20-second timer, at best.\n",
      "\n",
      "And then you ticket people for jaywalking.\n",
      "[deleted]  \n",
      " ^^^^^^^^^^^^^^^^0.8750 \n",
      " > [What is this?](https://pastebin.com/64GuVi2F/51384)\n",
      "Not that it's not a first world problem, but the specific issue they're talking about is busses arriving and people being in a rush to get to the metro to catch their train.  Leaving 2 minutes earlier doesn't make a difference when you're dealing with a bus/train schedule, you have to leave an entire bus cycle earlier if the crossing now takes so long that your old bus route no longer gets you to a train on time to get into the city.  \n",
      "\n",
      "If the bus drops you off at 7:40 and you have to catch the 7:47 train, then an extra traffic light cycle because they've fucked up everything in the area might end up meaning you have to get up half an hour earlier to consistently make it to work on time.  This shit has cascading consequences backwards.\n",
      "Why not add time to the crosswalk signal? All it asks of drivers is for them to wait a little longer for vulnerable road users to safely cross. It adds maybe 2 minutes to their drive if they get double cycled by the light due to traffic backing up.\n",
      "[deleted]\n",
      "Wut?\n",
      "That just blows my mind. I have seen entire 10-story office buildings designed and built in less than 3 years. Hell, some of them probably had escalators inside them. Yet somehow the metro needs that much time to fix one escalator. How can anyone think that makes any sense?\n",
      "Wait, that exit is going to be closed for __3 years__?? Is there just one person building it or what? That's insanity, especially since it's a short escalator\n",
      "Have they really been ticketing? I make the walk every morning, going from east to west to east and have never seen someone hit for jaywalking. \n",
      "Sorry, I'm seriously not understanding this then if it's actually a problem. If you have a 7 minute window, how can you not make it to the train? Are the light cycles that long? \n",
      "NO! We can NEVER inconvenience drivers in this country! Get your logic out of here. \n",
      "\n",
      "Auto uber alles!\n",
      "I mean whatever. It doesn't add a lot of time to anyone's commute - two minutes maximum. This is a non-story. Nobody is put in danger except by their own stupidity. It is the slightest of inconveniences.\n",
      "Or the often requested Conn Ave cycletrack...\n",
      "The inconvenience to traffic up and down Connecticut Avenue is much larger than the minor inconvenience of crossing the street. It isn't even comparable.\n",
      "It was a rush job, but the entire fucking Pentagon was built in sixteen months. Normally I think it would have been three-four years. \n",
      "When WMATA pointed to Germany and said it takes them years to fix an escalator too (lime DuPont) the Berlin metro authority offered expertise, as theirs only take 3 months or something.  \n",
      "PS. This is 100% from memory. Cities, countries and time frames may be way off.\n",
      "It's called graft...I'm sure a good audit would be interesting.\n",
      "Let your mind be blown further: \n",
      "\n",
      "What's WMATA's record for meeting deadlines look like? I'd bet even money this won't be done until 2021.\n",
      "[deleted]\n",
      "Two separate days now. Police tape in front of the bus stop is the dead giveaway.\n",
      "Apologies for not being clearer, I pulled those numbers out of my ass.  I don't know how long it takes to walk from the bus stop to the train lines.  The window could be shorter or longer for all I know.  I'm simply trying to illustrate that some people likely have small windows between their bus dropoff and their train pickup (and those can already be exacerbated by traffic), and that if poor pedestrian configuration causes an already small window to become impractical it can be a significant inconvenience, far beyond \"leaving 2 minutes earlier\".  \n",
      "\n",
      "I know the last time I took the bus regularly in the morning (which was admittedly a long time ago) the bus only came by my house once every half hour.  If it started taking me extra time to get to the metro to the point that I couldn't have caught a train reliably, I'd have had to leave half an hour earlier every morning as a result.\n",
      "No, they aren't. It's idiot pedestrians being idiots.\n",
      "Like said in another comment. If you are 2 minutes late because you cannot cross from where the bus drops you off, right down to the metro then you cannot just leave 2 minutes earlier, there may not be another bus. The next earliest bus could be a half hour earlier just to make it to work on time consistently  due to no sidewalks, three years of closing a metro entrance and the lack of foresight to add a few seconds for the cross signal. \n",
      "[deleted]\n",
      "They built the freaking Empire State Building in less than 3 years.\n",
      "Germany is not a country I want to be compared to for construction timelines...\n",
      "\n",
      "https://en.wikipedia.org/wiki/Berlin_Brandenburg_Airport#Delayed_opening_and_construction_flaws\n",
      "\n",
      "http://berliner-schloss.de/en\n",
      "\n",
      "Those are but two examples with extreme delays to projected opening times (not to mention extreme increases in budget). The fact that their escalators take 3 months for complete overhaul says a lot about what WMATA SHOULD be able to do. And half the people don't even pay for the train in Berlin. Locals told us to just hop on and if a cop stopped us to give a fake address (I didn't risk it).\n",
      "Wait they can only work on the closed metro entrance when the *entire* station being used it leads to is closed? Or work on singular escalators, that have working ones beside, them can only happen when the station is closed? \n",
      "I've seen them working while the station is open.\n",
      "So it's three years for the entire stop, not for just the one entrance in front of UDC?\n",
      "I mean that's understandable, it's not like MPD has more important matters to attend to.\n",
      ">Like said in another comment. If you are 2 minutes late **because you cannot cross from where the bus drops you off, right down to the metro** then you cannot just leave 2 minutes earlier, **there may not be another bus**.\n",
      "\n",
      "Can you explain this problem better? Is the problem catching the bus or catching the metro? If you are taking the bus to the Van Ness metro, then where is the delay? You only have to cross the street. Going home, the metro lets you out on the side where the buses go North on Connecticut. \n",
      "\n",
      "Trolls gonna troll\n",
      "The Empire State Building was built in 410 days, 12 days ahead of schedule.\n",
      "[deleted]\n",
      "[deleted]\n",
      "Just the most complex ones: the west street and all three landing units. They already did the street escalator on the east side. The platform escalators either will be, or already have been, rehabbed (they are in good shape and don't need to be replaced). \n",
      "Assume you have to be on the 7:26 train to make it to work on time consistently. (This is when the new train comes BTW). But the new crossing issue is making you miss that train by two minutes every other day. The set schedule for the L1/ L2 going south on Connecticut is 6 minute intervals. Extra 2 minutes for the slow crossing and that is 8 minutes extra time just to get the next earliest bus. We all know the bus will never be exactly on time so leaving 10 minutes early might be ok, but personally I would leave 15 minutes early to be sure I catch a bus that gets me on my train. Now this also assumes people going to the  Van Ness metro only ever do so by using the L1/2. Say you are between Tenleytown and Van Ness and have to catch the H2. That one comes every 20 minutes, so now you might as well just walk to the metro so you can get to work on time, certainly gets you some exercise, but not everyone is fortunate enough to be able to walk that far. Luckily two minutes makes no difference at my job, I'm the first of second in the office anyway, but for some people it really does. \n",
      "Hes not trolling, hes calling out your bad argument\n",
      "During the depression\n",
      "In the 1920s with zero regard to the rights of the labor involved.  This is a stupid comparison.  \n",
      "It would be easier to dig an entire new station nearby. \n",
      "How long is the west side supposed to be closed? That's the one causing most of the jay walking.\n",
      " Your complaint doesn't make ANY sense. Nobody would miss a bus due to the crossing issue we are discussing. The issue occurs between Albermarle St and Yeazy Terrace. All the bus stops people use are north of Albermarle. \n",
      "\n",
      "The only way you could miss a bus is if you were trying to catch a bus going south towards Cleveland Park. So for people north of van ness, you would be inconcenienced at most 2 minutes trying to enter the metro from the Van Ness stop.\n",
      "I am sorry. In what universe is closing down an entire lane of traffic more reasonable than having pedestrians simply cross the street?\n",
      "Exactly - to build the Empire State Building today, you'd have to spend twice as much and it would take four times as long, all because of NYC's insanely powerful construction unions.\n",
      "The whole point is about taking the bus first  and you are missing your train by two minutes. That results in having to get a bus at least 6 minutes earlier if they are on time. There is no constant stream of busses flowing down CT allowing you to just hop on one two minutes earlier. The two minute delay and resulting uncertainty of not being able to cross in a reasonable manner result in a person leaving their house much earlier to catch the bus. \n",
      "Why should car traffic get the right of way/more space? The city should encourage metro, walking, biking, no more car traffic. Why should pedestrians be inconvenienced but not cars?\n",
      ">Why should car traffic get the right of way/more space?\n",
      "\n",
      "Are you asking practically or philosophically?\n",
      "\n",
      ">The city should encourage metro, walking, biking, no more car traffic. Why should pedestrians be inconvenienced but not cars?\n",
      "\n",
      "The inconvenience is minor. I walk it every damn day twice a day. Sure it is an inconvenience, but it adds a minimum of 30 seconds and a maximum of 2 minutes to my trip. It is not a serious problem. \n"
     ]
    }
   ],
   "source": [
    "submission = reddit.submission(id='3j8vju')\n",
    "\n",
    "for comment in submission.comments.list():\n",
    "    print(comment.body)"
   ]
  },
  {
   "cell_type": "code",
   "execution_count": null,
   "metadata": {},
   "outputs": [],
   "source": []
  }
 ],
 "metadata": {
  "kernelspec": {
   "display_name": "base",
   "language": "python",
   "name": "python3"
  },
  "language_info": {
   "codemirror_mode": {
    "name": "ipython",
    "version": 3
   },
   "file_extension": ".py",
   "mimetype": "text/x-python",
   "name": "python",
   "nbconvert_exporter": "python",
   "pygments_lexer": "ipython3",
   "version": "3.12.4"
  }
 },
 "nbformat": 4,
 "nbformat_minor": 2
}
