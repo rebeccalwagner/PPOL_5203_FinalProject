{
 "cells": [
  {
   "cell_type": "code",
   "execution_count": 41,
   "metadata": {},
   "outputs": [],
   "source": [
    "import pandas as pd\n",
    "import nltk\n",
    "\n",
    "from nltk.corpus import stopwords\n",
    "from nltk.tokenize import word_tokenize\n",
    "from nltk.stem import WordNetLemmatizer\n",
    "from nltk.stem.porter import PorterStemmer"
   ]
  },
  {
   "cell_type": "markdown",
   "metadata": {},
   "source": [
    "## This notebook contains code to process reddit text data\n",
    "\n",
    "Data is collected using the `get_reddit_data_ipynb` notebook."
   ]
  },
  {
   "cell_type": "markdown",
   "metadata": {},
   "source": [
    "### Define Functions"
   ]
  },
  {
   "cell_type": "code",
   "execution_count": 42,
   "metadata": {},
   "outputs": [],
   "source": [
    "############################################################################################################################################\n",
    "\n",
    "def preprocess(df,column):\n",
    "\n",
    "    stop_words = stopwords.words('english')\n",
    "    porter = PorterStemmer()\n",
    "\n",
    "    df[column] = df[column].fillna(\"\")\n",
    "    df[\"tokens\"] = df[column].apply(word_tokenize)\n",
    "    df[\"tokens\"] = df[\"tokens\"].apply(lambda x: [word.lower() for word in x if word.isalpha()])\n",
    "    df[\"tokens\"] = df[\"tokens\"].apply(lambda x: [porter.stem(word) for word in x if word not in stop_words])\n",
    "    \n",
    "############################################################################################################################################"
   ]
  },
  {
   "cell_type": "markdown",
   "metadata": {},
   "source": [
    "### Open Data"
   ]
  },
  {
   "cell_type": "code",
   "execution_count": 43,
   "metadata": {},
   "outputs": [],
   "source": [
    "comments_df = pd.read_csv(\"./data/test_file_comments.csv\")\n",
    "threads_df = pd.read_csv(\"./data/test_file_threads.csv\")"
   ]
  },
  {
   "cell_type": "markdown",
   "metadata": {},
   "source": [
    "### Process Data"
   ]
  },
  {
   "cell_type": "code",
   "execution_count": 44,
   "metadata": {},
   "outputs": [],
   "source": [
    "preprocess(comments_df,\"body\")"
   ]
  },
  {
   "cell_type": "code",
   "execution_count": 45,
   "metadata": {},
   "outputs": [
    {
     "data": {
      "text/html": [
       "<div>\n",
       "<style scoped>\n",
       "    .dataframe tbody tr th:only-of-type {\n",
       "        vertical-align: middle;\n",
       "    }\n",
       "\n",
       "    .dataframe tbody tr th {\n",
       "        vertical-align: top;\n",
       "    }\n",
       "\n",
       "    .dataframe thead th {\n",
       "        text-align: right;\n",
       "    }\n",
       "</style>\n",
       "<table border=\"1\" class=\"dataframe\">\n",
       "  <thead>\n",
       "    <tr style=\"text-align: right;\">\n",
       "      <th></th>\n",
       "      <th>submission_id</th>\n",
       "      <th>author</th>\n",
       "      <th>body</th>\n",
       "      <th>score</th>\n",
       "      <th>year</th>\n",
       "      <th>month</th>\n",
       "      <th>tokens</th>\n",
       "    </tr>\n",
       "  </thead>\n",
       "  <tbody>\n",
       "    <tr>\n",
       "      <th>0</th>\n",
       "      <td>vmsxc7</td>\n",
       "      <td>downvoteyous</td>\n",
       "      <td>cant comment just got murdered in the face due...</td>\n",
       "      <td>615</td>\n",
       "      <td>2022</td>\n",
       "      <td>6</td>\n",
       "      <td>[cant, comment, got, murder, face, due, neighb...</td>\n",
       "    </tr>\n",
       "    <tr>\n",
       "      <th>1</th>\n",
       "      <td>vmsxc7</td>\n",
       "      <td>pizzajona</td>\n",
       "      <td>I’m thinking of moving to Capitol Hill on Janu...</td>\n",
       "      <td>52</td>\n",
       "      <td>2022</td>\n",
       "      <td>6</td>\n",
       "      <td>[think, move, capitol, hill, januari, good, se...</td>\n",
       "    </tr>\n",
       "    <tr>\n",
       "      <th>2</th>\n",
       "      <td>vmsxc7</td>\n",
       "      <td>zero_derivation</td>\n",
       "      <td>Is Columbia Heights a bad neighborhood for rat...</td>\n",
       "      <td>145</td>\n",
       "      <td>2022</td>\n",
       "      <td>6</td>\n",
       "      <td>[columbia, height, bad, neighborhood, rat, rat]</td>\n",
       "    </tr>\n",
       "    <tr>\n",
       "      <th>3</th>\n",
       "      <td>vmsxc7</td>\n",
       "      <td>NaN</td>\n",
       "      <td>I'm living inside the fenced-in perimeter of t...</td>\n",
       "      <td>197</td>\n",
       "      <td>2022</td>\n",
       "      <td>6</td>\n",
       "      <td>[live, insid, perimet, us, suprem, court, year...</td>\n",
       "    </tr>\n",
       "    <tr>\n",
       "      <th>4</th>\n",
       "      <td>vmsxc7</td>\n",
       "      <td>BringMeCoffeeOrTea_</td>\n",
       "      <td>I thought everyone who lived in D.C. was murde...</td>\n",
       "      <td>245</td>\n",
       "      <td>2022</td>\n",
       "      <td>6</td>\n",
       "      <td>[thought, everyon, live, murder]</td>\n",
       "    </tr>\n",
       "  </tbody>\n",
       "</table>\n",
       "</div>"
      ],
      "text/plain": [
       "  submission_id               author  \\\n",
       "0        vmsxc7         downvoteyous   \n",
       "1        vmsxc7            pizzajona   \n",
       "2        vmsxc7      zero_derivation   \n",
       "3        vmsxc7                  NaN   \n",
       "4        vmsxc7  BringMeCoffeeOrTea_   \n",
       "\n",
       "                                                body  score  year  month  \\\n",
       "0  cant comment just got murdered in the face due...    615  2022      6   \n",
       "1  I’m thinking of moving to Capitol Hill on Janu...     52  2022      6   \n",
       "2  Is Columbia Heights a bad neighborhood for rat...    145  2022      6   \n",
       "3  I'm living inside the fenced-in perimeter of t...    197  2022      6   \n",
       "4  I thought everyone who lived in D.C. was murde...    245  2022      6   \n",
       "\n",
       "                                              tokens  \n",
       "0  [cant, comment, got, murder, face, due, neighb...  \n",
       "1  [think, move, capitol, hill, januari, good, se...  \n",
       "2    [columbia, height, bad, neighborhood, rat, rat]  \n",
       "3  [live, insid, perimet, us, suprem, court, year...  \n",
       "4                   [thought, everyon, live, murder]  "
      ]
     },
     "execution_count": 45,
     "metadata": {},
     "output_type": "execute_result"
    }
   ],
   "source": [
    "comments_df.head()"
   ]
  }
 ],
 "metadata": {
  "kernelspec": {
   "display_name": "base",
   "language": "python",
   "name": "python3"
  },
  "language_info": {
   "codemirror_mode": {
    "name": "ipython",
    "version": 3
   },
   "file_extension": ".py",
   "mimetype": "text/x-python",
   "name": "python",
   "nbconvert_exporter": "python",
   "pygments_lexer": "ipython3",
   "version": "3.12.4"
  }
 },
 "nbformat": 4,
 "nbformat_minor": 2
}
